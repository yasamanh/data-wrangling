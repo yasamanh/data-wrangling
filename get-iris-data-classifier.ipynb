{
 "cells": [
  {
   "cell_type": "code",
   "execution_count": 7,
   "metadata": {
    "collapsed": false,
    "deletable": true,
    "editable": true
   },
   "outputs": [],
   "source": [
    ">>> from sklearn import tree\n",
    ">>> X = [[0, 0], [1, 1]]\n",
    ">>> Y = [0, 1]\n",
    ">>> clf = tree.DecisionTreeClassifier()\n",
    ">>> clf = clf.fit(X, Y)"
   ]
  },
  {
   "cell_type": "code",
   "execution_count": 8,
   "metadata": {
    "collapsed": false,
    "deletable": true,
    "editable": true
   },
   "outputs": [
    {
     "data": {
      "text/plain": [
       "DecisionTreeClassifier(class_weight=None, criterion='gini', max_depth=None,\n",
       "            max_features=None, max_leaf_nodes=None, min_samples_leaf=1,\n",
       "            min_samples_split=2, min_weight_fraction_leaf=0.0,\n",
       "            presort=False, random_state=None, splitter='best')"
      ]
     },
     "execution_count": 8,
     "metadata": {},
     "output_type": "execute_result"
    }
   ],
   "source": [
    "clf"
   ]
  },
  {
   "cell_type": "code",
   "execution_count": 9,
   "metadata": {
    "collapsed": false,
    "deletable": true,
    "editable": true
   },
   "outputs": [
    {
     "data": {
      "text/plain": [
       "array([1])"
      ]
     },
     "execution_count": 9,
     "metadata": {},
     "output_type": "execute_result"
    }
   ],
   "source": [
    "clf.predict([[2., 2.]])"
   ]
  },
  {
   "cell_type": "code",
   "execution_count": 10,
   "metadata": {
    "collapsed": false,
    "deletable": true,
    "editable": true
   },
   "outputs": [
    {
     "data": {
      "text/plain": [
       "array([[ 0.,  1.]])"
      ]
     },
     "execution_count": 10,
     "metadata": {},
     "output_type": "execute_result"
    }
   ],
   "source": [
    "clf.predict_proba([[2., 2.]])"
   ]
  },
  {
   "cell_type": "code",
   "execution_count": 28,
   "metadata": {
    "collapsed": false,
    "deletable": true,
    "editable": true
   },
   "outputs": [],
   "source": [
    ">>> X = [[12, 8], [17, 17],[35,32],[26,15]]\n",
    ">>> Y = [0, 0,1,1]\n",
    ">>> clf = tree.DecisionTreeClassifier()\n",
    ">>> clf = clf.fit(X, Y)"
   ]
  },
  {
   "cell_type": "code",
   "execution_count": 29,
   "metadata": {
    "collapsed": false,
    "deletable": true,
    "editable": true
   },
   "outputs": [
    {
     "name": "stderr",
     "output_type": "stream",
     "text": [
      "/Users/ynh3/clustering/algo_test/lib/python2.7/site-packages/sklearn/utils/validation.py:386: DeprecationWarning: Passing 1d arrays as data is deprecated in 0.17 and willraise ValueError in 0.19. Reshape your data either using X.reshape(-1, 1) if your data has a single feature or X.reshape(1, -1) if it contains a single sample.\n",
      "  DeprecationWarning)\n"
     ]
    },
    {
     "data": {
      "text/plain": [
       "array([1])"
      ]
     },
     "execution_count": 29,
     "metadata": {},
     "output_type": "execute_result"
    }
   ],
   "source": [
    "clf.predict([42, 31])"
   ]
  },
  {
   "cell_type": "code",
   "execution_count": 2,
   "metadata": {
    "collapsed": false,
    "deletable": true,
    "editable": true
   },
   "outputs": [],
   "source": [
    ">>> from sklearn.datasets import load_iris\n",
    ">>> from sklearn import tree\n",
    ">>> iris = load_iris()\n",
    ">>> clf = tree.DecisionTreeClassifier()\n",
    ">>> clf = clf.fit(iris.data, iris.target)"
   ]
  },
  {
   "cell_type": "code",
   "execution_count": 12,
   "metadata": {
    "collapsed": false,
    "deletable": true,
    "editable": true
   },
   "outputs": [
    {
     "data": {
      "text/plain": [
       "4"
      ]
     },
     "execution_count": 12,
     "metadata": {},
     "output_type": "execute_result"
    }
   ],
   "source": [
    "clf.max_features_"
   ]
  },
  {
   "cell_type": "code",
   "execution_count": 3,
   "metadata": {
    "collapsed": false,
    "deletable": true,
    "editable": true
   },
   "outputs": [
    {
     "data": {
      "text/plain": [
       "array([ 1.        ,  0.93333333,  1.        ,  0.93333333,  0.93333333,\n",
       "        0.86666667,  0.93333333,  1.        ,  1.        ,  1.        ])"
      ]
     },
     "execution_count": 3,
     "metadata": {},
     "output_type": "execute_result"
    }
   ],
   "source": [
    ">>> from sklearn.cross_validation import cross_val_score\n",
    ">>> from sklearn.tree import DecisionTreeClassifier\n",
    ">>> clf = DecisionTreeClassifier(random_state=0)\n",
    ">>> iris = load_iris()\n",
    ">>> cross_val_score(clf, iris.data, iris.target, cv=10)"
   ]
  },
  {
   "cell_type": "code",
   "execution_count": 4,
   "metadata": {
    "collapsed": false,
    "deletable": true,
    "editable": true
   },
   "outputs": [
    {
     "data": {
      "text/plain": [
       "array([ 0.96      ,  0.94666667])"
      ]
     },
     "execution_count": 4,
     "metadata": {},
     "output_type": "execute_result"
    }
   ],
   "source": [
    ">>> cross_val_score(clf, iris.data, iris.target, cv=2)"
   ]
  },
  {
   "cell_type": "code",
   "execution_count": 46,
   "metadata": {
    "collapsed": false,
    "deletable": true,
    "editable": true
   },
   "outputs": [
    {
     "data": {
      "text/plain": [
       "array([0, 0, 0, 0, 0, 0, 0, 0, 0, 0, 0, 0, 0, 0, 0, 0, 0, 0, 0, 0, 0, 0, 0,\n",
       "       0, 0, 0, 0, 0, 0, 0, 0, 0, 0, 0, 0, 0, 0, 0, 0, 0, 0, 0, 0, 0, 0, 0,\n",
       "       0, 0, 0, 0, 1, 1, 1, 1, 1, 1, 1, 1, 1, 1, 1, 1, 1, 1, 1, 1, 1, 1, 1,\n",
       "       1, 1, 1, 1, 1, 1, 1, 1, 1, 1, 1, 1, 1, 1, 1, 1, 1, 1, 1, 1, 1, 1, 1,\n",
       "       1, 1, 1, 1, 1, 1, 1, 1, 2, 2, 2, 2, 2, 2, 2, 2, 2, 2, 2, 2, 2, 2, 2,\n",
       "       2, 2, 2, 2, 2, 2, 2, 2, 2, 2, 2, 2, 2, 2, 2, 2, 2, 2, 2, 2, 2, 2, 2,\n",
       "       2, 2, 2, 2, 2, 2, 2, 2, 2, 2, 2, 2])"
      ]
     },
     "execution_count": 46,
     "metadata": {},
     "output_type": "execute_result"
    }
   ],
   "source": [
    "iris.target"
   ]
  },
  {
   "cell_type": "code",
   "execution_count": 7,
   "metadata": {
    "collapsed": false,
    "deletable": true,
    "editable": true
   },
   "outputs": [],
   "source": [
    ">>> import os\n",
    ">>> os.unlink('iris.dot')"
   ]
  },
  {
   "cell_type": "code",
   "execution_count": 31,
   "metadata": {
    "collapsed": false,
    "deletable": true,
    "editable": true
   },
   "outputs": [],
   "source": [
    "import pydot"
   ]
  },
  {
   "cell_type": "code",
   "execution_count": 39,
   "metadata": {
    "collapsed": false,
    "deletable": true,
    "editable": true
   },
   "outputs": [
    {
     "name": "stdout",
     "output_type": "stream",
     "text": [
      "0.15.2\n"
     ]
    }
   ],
   "source": [
    "import sklearn\n",
    "print sklearn.__version__"
   ]
  },
  {
   "cell_type": "code",
   "execution_count": 14,
   "metadata": {
    "collapsed": false,
    "deletable": true,
    "editable": true
   },
   "outputs": [],
   "source": [
    "from __future__ import print_function\n",
    "\n",
    "import os\n",
    "import subprocess\n",
    "\n",
    "import pandas as pd\n",
    "import numpy as np\n",
    "from sklearn.tree import DecisionTreeClassifier, export_graphviz\n"
   ]
  },
  {
   "cell_type": "code",
   "execution_count": 15,
   "metadata": {
    "collapsed": false,
    "deletable": true,
    "editable": true
   },
   "outputs": [],
   "source": [
    "def get_iris_data():\n",
    "    \"\"\"Get the iris data, from local csv or pandas repo.\"\"\"\n",
    "    if os.path.exists(\"iris.csv\"):\n",
    "        print(\"-- iris.csv found locally\")\n",
    "        df = pd.read_csv(\"iris.csv\", index_col=0)\n",
    "    else:\n",
    "        print(\"-- trying to download from github\")\n",
    "        fn = \"https://raw.githubusercontent.com/pydata/pandas/\" + \\\n",
    "             \"master/pandas/tests/data/iris.csv\"\n",
    "        try:\n",
    "            df = pd.read_csv(fn)\n",
    "        except:\n",
    "            exit(\"-- Unable to download iris.csv\")\n",
    "\n",
    "        with open(\"iris.csv\", 'w') as f:\n",
    "            print(\"-- writing to local iris.csv file\")\n",
    "            df.to_csv(f)\n",
    "\n",
    "    return df"
   ]
  },
  {
   "cell_type": "code",
   "execution_count": 16,
   "metadata": {
    "collapsed": false,
    "deletable": true,
    "editable": true
   },
   "outputs": [
    {
     "name": "stdout",
     "output_type": "stream",
     "text": [
      "-- iris.csv found locally\n"
     ]
    }
   ],
   "source": [
    "df = get_iris_data()"
   ]
  },
  {
   "cell_type": "code",
   "execution_count": 17,
   "metadata": {
    "collapsed": false,
    "deletable": true,
    "editable": true
   },
   "outputs": [
    {
     "name": "stdout",
     "output_type": "stream",
     "text": [
      "* df.head()\n",
      "   SepalLength  SepalWidth  PetalLength  PetalWidth         Name\n",
      "0          5.1         3.5          1.4         0.2  Iris-setosa\n",
      "1          4.9         3.0          1.4         0.2  Iris-setosa\n",
      "2          4.7         3.2          1.3         0.2  Iris-setosa\n",
      "3          4.6         3.1          1.5         0.2  Iris-setosa\n",
      "4          5.0         3.6          1.4         0.2  Iris-setosa\n",
      "\n",
      "* df.tail()\n",
      "     SepalLength  SepalWidth  PetalLength  PetalWidth            Name\n",
      "145          6.7         3.0          5.2         2.3  Iris-virginica\n",
      "146          6.3         2.5          5.0         1.9  Iris-virginica\n",
      "147          6.5         3.0          5.2         2.0  Iris-virginica\n",
      "148          6.2         3.4          5.4         2.3  Iris-virginica\n",
      "149          5.9         3.0          5.1         1.8  Iris-virginica\n",
      "\n"
     ]
    }
   ],
   "source": [
    "print(\"* df.head()\", df.head(), sep=\"\\n\", end=\"\\n\\n\")\n",
    "print(\"* df.tail()\", df.tail(), sep=\"\\n\", end=\"\\n\\n\")"
   ]
  },
  {
   "cell_type": "code",
   "execution_count": 18,
   "metadata": {
    "collapsed": false,
    "deletable": true,
    "editable": true
   },
   "outputs": [
    {
     "name": "stdout",
     "output_type": "stream",
     "text": [
      "* iris types:\n",
      "['Iris-setosa' 'Iris-versicolor' 'Iris-virginica']\n"
     ]
    }
   ],
   "source": [
    "print(\"* iris types:\", df[\"Name\"].unique(), sep=\"\\n\")"
   ]
  },
  {
   "cell_type": "code",
   "execution_count": 19,
   "metadata": {
    "collapsed": false,
    "deletable": true,
    "editable": true
   },
   "outputs": [],
   "source": [
    "def encode_target(df, target_column):\n",
    "    \"\"\"Add column to df with integers for the target.\n",
    "\n",
    "    Args\n",
    "    ----\n",
    "    df -- pandas DataFrame.\n",
    "    target_column -- column to map to int, producing\n",
    "                     new Target column.\n",
    "\n",
    "    Returns\n",
    "    -------\n",
    "    df_mod -- modified DataFrame.\n",
    "    targets -- list of target names.\n",
    "    \"\"\"\n",
    "    df_mod = df.copy()\n",
    "    targets = df_mod[target_column].unique()\n",
    "    map_to_int = {name: n for n, name in enumerate(targets)}\n",
    "    df_mod[\"Target\"] = df_mod[target_column].replace(map_to_int)\n",
    "\n",
    "    return (df_mod, targets)\n"
   ]
  },
  {
   "cell_type": "code",
   "execution_count": 20,
   "metadata": {
    "collapsed": false,
    "deletable": true,
    "editable": true
   },
   "outputs": [
    {
     "name": "stdout",
     "output_type": "stream",
     "text": [
      "* df2.head()\n",
      "   Target         Name\n",
      "0       0  Iris-setosa\n",
      "1       0  Iris-setosa\n",
      "2       0  Iris-setosa\n",
      "3       0  Iris-setosa\n",
      "4       0  Iris-setosa\n",
      "\n",
      "* df2.tail()\n",
      "     Target            Name\n",
      "145       2  Iris-virginica\n",
      "146       2  Iris-virginica\n",
      "147       2  Iris-virginica\n",
      "148       2  Iris-virginica\n",
      "149       2  Iris-virginica\n",
      "\n",
      "* targets\n",
      "['Iris-setosa' 'Iris-versicolor' 'Iris-virginica']\n",
      "\n"
     ]
    }
   ],
   "source": [
    "df2, targets = encode_target(df, \"Name\")\n",
    "print(\"* df2.head()\", df2[[\"Target\", \"Name\"]].head(),\n",
    "      sep=\"\\n\", end=\"\\n\\n\")\n",
    "print(\"* df2.tail()\", df2[[\"Target\", \"Name\"]].tail(),\n",
    "      sep=\"\\n\", end=\"\\n\\n\")\n",
    "print(\"* targets\", targets, sep=\"\\n\", end=\"\\n\\n\")\n"
   ]
  },
  {
   "cell_type": "code",
   "execution_count": 21,
   "metadata": {
    "collapsed": false,
    "deletable": true,
    "editable": true
   },
   "outputs": [
    {
     "name": "stdout",
     "output_type": "stream",
     "text": [
      "* features:\n",
      "['SepalLength', 'SepalWidth', 'PetalLength', 'PetalWidth']\n"
     ]
    }
   ],
   "source": [
    "features = list(df2.columns[:4])\n",
    "print(\"* features:\", features, sep=\"\\n\")\n",
    "\n"
   ]
  },
  {
   "cell_type": "code",
   "execution_count": 22,
   "metadata": {
    "collapsed": false,
    "deletable": true,
    "editable": true
   },
   "outputs": [
    {
     "data": {
      "text/plain": [
       "DecisionTreeClassifier(class_weight=None, criterion='gini', max_depth=None,\n",
       "            max_features=None, max_leaf_nodes=None, min_samples_leaf=1,\n",
       "            min_samples_split=20, min_weight_fraction_leaf=0.0,\n",
       "            presort=False, random_state=99, splitter='best')"
      ]
     },
     "execution_count": 22,
     "metadata": {},
     "output_type": "execute_result"
    }
   ],
   "source": [
    "y = df2[\"Target\"]\n",
    "X = df2[features]\n",
    "dt = DecisionTreeClassifier(min_samples_split=20, random_state=99)\n",
    "dt.fit(X, y)\n"
   ]
  },
  {
   "cell_type": "code",
   "execution_count": 27,
   "metadata": {
    "collapsed": false,
    "deletable": true,
    "editable": true
   },
   "outputs": [
    {
     "data": {
      "text/plain": [
       "0     0\n",
       "1     0\n",
       "2     0\n",
       "3     0\n",
       "4     0\n",
       "5     0\n",
       "6     0\n",
       "7     0\n",
       "8     0\n",
       "9     0\n",
       "10    0\n",
       "11    0\n",
       "12    0\n",
       "13    0\n",
       "14    0\n",
       "...\n",
       "135    2\n",
       "136    2\n",
       "137    2\n",
       "138    2\n",
       "139    2\n",
       "140    2\n",
       "141    2\n",
       "142    2\n",
       "143    2\n",
       "144    2\n",
       "145    2\n",
       "146    2\n",
       "147    2\n",
       "148    2\n",
       "149    2\n",
       "Name: Target, Length: 150, dtype: int64"
      ]
     },
     "execution_count": 27,
     "metadata": {},
     "output_type": "execute_result"
    }
   ],
   "source": [
    "y"
   ]
  },
  {
   "cell_type": "code",
   "execution_count": 24,
   "metadata": {
    "collapsed": false,
    "deletable": true,
    "editable": true
   },
   "outputs": [
    {
     "data": {
      "text/html": [
       "<div style=\"max-height:1000px;max-width:1500px;overflow:auto;\">\n",
       "<table border=\"1\" class=\"dataframe\">\n",
       "  <thead>\n",
       "    <tr style=\"text-align: right;\">\n",
       "      <th></th>\n",
       "      <th>SepalLength</th>\n",
       "      <th>SepalWidth</th>\n",
       "      <th>PetalLength</th>\n",
       "      <th>PetalWidth</th>\n",
       "    </tr>\n",
       "  </thead>\n",
       "  <tbody>\n",
       "    <tr>\n",
       "      <th>0  </th>\n",
       "      <td> 5.1</td>\n",
       "      <td> 3.5</td>\n",
       "      <td> 1.4</td>\n",
       "      <td> 0.2</td>\n",
       "    </tr>\n",
       "    <tr>\n",
       "      <th>1  </th>\n",
       "      <td> 4.9</td>\n",
       "      <td> 3.0</td>\n",
       "      <td> 1.4</td>\n",
       "      <td> 0.2</td>\n",
       "    </tr>\n",
       "    <tr>\n",
       "      <th>2  </th>\n",
       "      <td> 4.7</td>\n",
       "      <td> 3.2</td>\n",
       "      <td> 1.3</td>\n",
       "      <td> 0.2</td>\n",
       "    </tr>\n",
       "    <tr>\n",
       "      <th>3  </th>\n",
       "      <td> 4.6</td>\n",
       "      <td> 3.1</td>\n",
       "      <td> 1.5</td>\n",
       "      <td> 0.2</td>\n",
       "    </tr>\n",
       "    <tr>\n",
       "      <th>4  </th>\n",
       "      <td> 5.0</td>\n",
       "      <td> 3.6</td>\n",
       "      <td> 1.4</td>\n",
       "      <td> 0.2</td>\n",
       "    </tr>\n",
       "    <tr>\n",
       "      <th>5  </th>\n",
       "      <td> 5.4</td>\n",
       "      <td> 3.9</td>\n",
       "      <td> 1.7</td>\n",
       "      <td> 0.4</td>\n",
       "    </tr>\n",
       "    <tr>\n",
       "      <th>6  </th>\n",
       "      <td> 4.6</td>\n",
       "      <td> 3.4</td>\n",
       "      <td> 1.4</td>\n",
       "      <td> 0.3</td>\n",
       "    </tr>\n",
       "    <tr>\n",
       "      <th>7  </th>\n",
       "      <td> 5.0</td>\n",
       "      <td> 3.4</td>\n",
       "      <td> 1.5</td>\n",
       "      <td> 0.2</td>\n",
       "    </tr>\n",
       "    <tr>\n",
       "      <th>8  </th>\n",
       "      <td> 4.4</td>\n",
       "      <td> 2.9</td>\n",
       "      <td> 1.4</td>\n",
       "      <td> 0.2</td>\n",
       "    </tr>\n",
       "    <tr>\n",
       "      <th>9  </th>\n",
       "      <td> 4.9</td>\n",
       "      <td> 3.1</td>\n",
       "      <td> 1.5</td>\n",
       "      <td> 0.1</td>\n",
       "    </tr>\n",
       "    <tr>\n",
       "      <th>10 </th>\n",
       "      <td> 5.4</td>\n",
       "      <td> 3.7</td>\n",
       "      <td> 1.5</td>\n",
       "      <td> 0.2</td>\n",
       "    </tr>\n",
       "    <tr>\n",
       "      <th>11 </th>\n",
       "      <td> 4.8</td>\n",
       "      <td> 3.4</td>\n",
       "      <td> 1.6</td>\n",
       "      <td> 0.2</td>\n",
       "    </tr>\n",
       "    <tr>\n",
       "      <th>12 </th>\n",
       "      <td> 4.8</td>\n",
       "      <td> 3.0</td>\n",
       "      <td> 1.4</td>\n",
       "      <td> 0.1</td>\n",
       "    </tr>\n",
       "    <tr>\n",
       "      <th>13 </th>\n",
       "      <td> 4.3</td>\n",
       "      <td> 3.0</td>\n",
       "      <td> 1.1</td>\n",
       "      <td> 0.1</td>\n",
       "    </tr>\n",
       "    <tr>\n",
       "      <th>14 </th>\n",
       "      <td> 5.8</td>\n",
       "      <td> 4.0</td>\n",
       "      <td> 1.2</td>\n",
       "      <td> 0.2</td>\n",
       "    </tr>\n",
       "    <tr>\n",
       "      <th>15 </th>\n",
       "      <td> 5.7</td>\n",
       "      <td> 4.4</td>\n",
       "      <td> 1.5</td>\n",
       "      <td> 0.4</td>\n",
       "    </tr>\n",
       "    <tr>\n",
       "      <th>16 </th>\n",
       "      <td> 5.4</td>\n",
       "      <td> 3.9</td>\n",
       "      <td> 1.3</td>\n",
       "      <td> 0.4</td>\n",
       "    </tr>\n",
       "    <tr>\n",
       "      <th>17 </th>\n",
       "      <td> 5.1</td>\n",
       "      <td> 3.5</td>\n",
       "      <td> 1.4</td>\n",
       "      <td> 0.3</td>\n",
       "    </tr>\n",
       "    <tr>\n",
       "      <th>18 </th>\n",
       "      <td> 5.7</td>\n",
       "      <td> 3.8</td>\n",
       "      <td> 1.7</td>\n",
       "      <td> 0.3</td>\n",
       "    </tr>\n",
       "    <tr>\n",
       "      <th>19 </th>\n",
       "      <td> 5.1</td>\n",
       "      <td> 3.8</td>\n",
       "      <td> 1.5</td>\n",
       "      <td> 0.3</td>\n",
       "    </tr>\n",
       "    <tr>\n",
       "      <th>20 </th>\n",
       "      <td> 5.4</td>\n",
       "      <td> 3.4</td>\n",
       "      <td> 1.7</td>\n",
       "      <td> 0.2</td>\n",
       "    </tr>\n",
       "    <tr>\n",
       "      <th>21 </th>\n",
       "      <td> 5.1</td>\n",
       "      <td> 3.7</td>\n",
       "      <td> 1.5</td>\n",
       "      <td> 0.4</td>\n",
       "    </tr>\n",
       "    <tr>\n",
       "      <th>22 </th>\n",
       "      <td> 4.6</td>\n",
       "      <td> 3.6</td>\n",
       "      <td> 1.0</td>\n",
       "      <td> 0.2</td>\n",
       "    </tr>\n",
       "    <tr>\n",
       "      <th>23 </th>\n",
       "      <td> 5.1</td>\n",
       "      <td> 3.3</td>\n",
       "      <td> 1.7</td>\n",
       "      <td> 0.5</td>\n",
       "    </tr>\n",
       "    <tr>\n",
       "      <th>24 </th>\n",
       "      <td> 4.8</td>\n",
       "      <td> 3.4</td>\n",
       "      <td> 1.9</td>\n",
       "      <td> 0.2</td>\n",
       "    </tr>\n",
       "    <tr>\n",
       "      <th>25 </th>\n",
       "      <td> 5.0</td>\n",
       "      <td> 3.0</td>\n",
       "      <td> 1.6</td>\n",
       "      <td> 0.2</td>\n",
       "    </tr>\n",
       "    <tr>\n",
       "      <th>26 </th>\n",
       "      <td> 5.0</td>\n",
       "      <td> 3.4</td>\n",
       "      <td> 1.6</td>\n",
       "      <td> 0.4</td>\n",
       "    </tr>\n",
       "    <tr>\n",
       "      <th>27 </th>\n",
       "      <td> 5.2</td>\n",
       "      <td> 3.5</td>\n",
       "      <td> 1.5</td>\n",
       "      <td> 0.2</td>\n",
       "    </tr>\n",
       "    <tr>\n",
       "      <th>28 </th>\n",
       "      <td> 5.2</td>\n",
       "      <td> 3.4</td>\n",
       "      <td> 1.4</td>\n",
       "      <td> 0.2</td>\n",
       "    </tr>\n",
       "    <tr>\n",
       "      <th>29 </th>\n",
       "      <td> 4.7</td>\n",
       "      <td> 3.2</td>\n",
       "      <td> 1.6</td>\n",
       "      <td> 0.2</td>\n",
       "    </tr>\n",
       "    <tr>\n",
       "      <th>...</th>\n",
       "      <td>...</td>\n",
       "      <td>...</td>\n",
       "      <td>...</td>\n",
       "      <td>...</td>\n",
       "    </tr>\n",
       "    <tr>\n",
       "      <th>120</th>\n",
       "      <td> 6.9</td>\n",
       "      <td> 3.2</td>\n",
       "      <td> 5.7</td>\n",
       "      <td> 2.3</td>\n",
       "    </tr>\n",
       "    <tr>\n",
       "      <th>121</th>\n",
       "      <td> 5.6</td>\n",
       "      <td> 2.8</td>\n",
       "      <td> 4.9</td>\n",
       "      <td> 2.0</td>\n",
       "    </tr>\n",
       "    <tr>\n",
       "      <th>122</th>\n",
       "      <td> 7.7</td>\n",
       "      <td> 2.8</td>\n",
       "      <td> 6.7</td>\n",
       "      <td> 2.0</td>\n",
       "    </tr>\n",
       "    <tr>\n",
       "      <th>123</th>\n",
       "      <td> 6.3</td>\n",
       "      <td> 2.7</td>\n",
       "      <td> 4.9</td>\n",
       "      <td> 1.8</td>\n",
       "    </tr>\n",
       "    <tr>\n",
       "      <th>124</th>\n",
       "      <td> 6.7</td>\n",
       "      <td> 3.3</td>\n",
       "      <td> 5.7</td>\n",
       "      <td> 2.1</td>\n",
       "    </tr>\n",
       "    <tr>\n",
       "      <th>125</th>\n",
       "      <td> 7.2</td>\n",
       "      <td> 3.2</td>\n",
       "      <td> 6.0</td>\n",
       "      <td> 1.8</td>\n",
       "    </tr>\n",
       "    <tr>\n",
       "      <th>126</th>\n",
       "      <td> 6.2</td>\n",
       "      <td> 2.8</td>\n",
       "      <td> 4.8</td>\n",
       "      <td> 1.8</td>\n",
       "    </tr>\n",
       "    <tr>\n",
       "      <th>127</th>\n",
       "      <td> 6.1</td>\n",
       "      <td> 3.0</td>\n",
       "      <td> 4.9</td>\n",
       "      <td> 1.8</td>\n",
       "    </tr>\n",
       "    <tr>\n",
       "      <th>128</th>\n",
       "      <td> 6.4</td>\n",
       "      <td> 2.8</td>\n",
       "      <td> 5.6</td>\n",
       "      <td> 2.1</td>\n",
       "    </tr>\n",
       "    <tr>\n",
       "      <th>129</th>\n",
       "      <td> 7.2</td>\n",
       "      <td> 3.0</td>\n",
       "      <td> 5.8</td>\n",
       "      <td> 1.6</td>\n",
       "    </tr>\n",
       "    <tr>\n",
       "      <th>130</th>\n",
       "      <td> 7.4</td>\n",
       "      <td> 2.8</td>\n",
       "      <td> 6.1</td>\n",
       "      <td> 1.9</td>\n",
       "    </tr>\n",
       "    <tr>\n",
       "      <th>131</th>\n",
       "      <td> 7.9</td>\n",
       "      <td> 3.8</td>\n",
       "      <td> 6.4</td>\n",
       "      <td> 2.0</td>\n",
       "    </tr>\n",
       "    <tr>\n",
       "      <th>132</th>\n",
       "      <td> 6.4</td>\n",
       "      <td> 2.8</td>\n",
       "      <td> 5.6</td>\n",
       "      <td> 2.2</td>\n",
       "    </tr>\n",
       "    <tr>\n",
       "      <th>133</th>\n",
       "      <td> 6.3</td>\n",
       "      <td> 2.8</td>\n",
       "      <td> 5.1</td>\n",
       "      <td> 1.5</td>\n",
       "    </tr>\n",
       "    <tr>\n",
       "      <th>134</th>\n",
       "      <td> 6.1</td>\n",
       "      <td> 2.6</td>\n",
       "      <td> 5.6</td>\n",
       "      <td> 1.4</td>\n",
       "    </tr>\n",
       "    <tr>\n",
       "      <th>135</th>\n",
       "      <td> 7.7</td>\n",
       "      <td> 3.0</td>\n",
       "      <td> 6.1</td>\n",
       "      <td> 2.3</td>\n",
       "    </tr>\n",
       "    <tr>\n",
       "      <th>136</th>\n",
       "      <td> 6.3</td>\n",
       "      <td> 3.4</td>\n",
       "      <td> 5.6</td>\n",
       "      <td> 2.4</td>\n",
       "    </tr>\n",
       "    <tr>\n",
       "      <th>137</th>\n",
       "      <td> 6.4</td>\n",
       "      <td> 3.1</td>\n",
       "      <td> 5.5</td>\n",
       "      <td> 1.8</td>\n",
       "    </tr>\n",
       "    <tr>\n",
       "      <th>138</th>\n",
       "      <td> 6.0</td>\n",
       "      <td> 3.0</td>\n",
       "      <td> 4.8</td>\n",
       "      <td> 1.8</td>\n",
       "    </tr>\n",
       "    <tr>\n",
       "      <th>139</th>\n",
       "      <td> 6.9</td>\n",
       "      <td> 3.1</td>\n",
       "      <td> 5.4</td>\n",
       "      <td> 2.1</td>\n",
       "    </tr>\n",
       "    <tr>\n",
       "      <th>140</th>\n",
       "      <td> 6.7</td>\n",
       "      <td> 3.1</td>\n",
       "      <td> 5.6</td>\n",
       "      <td> 2.4</td>\n",
       "    </tr>\n",
       "    <tr>\n",
       "      <th>141</th>\n",
       "      <td> 6.9</td>\n",
       "      <td> 3.1</td>\n",
       "      <td> 5.1</td>\n",
       "      <td> 2.3</td>\n",
       "    </tr>\n",
       "    <tr>\n",
       "      <th>142</th>\n",
       "      <td> 5.8</td>\n",
       "      <td> 2.7</td>\n",
       "      <td> 5.1</td>\n",
       "      <td> 1.9</td>\n",
       "    </tr>\n",
       "    <tr>\n",
       "      <th>143</th>\n",
       "      <td> 6.8</td>\n",
       "      <td> 3.2</td>\n",
       "      <td> 5.9</td>\n",
       "      <td> 2.3</td>\n",
       "    </tr>\n",
       "    <tr>\n",
       "      <th>144</th>\n",
       "      <td> 6.7</td>\n",
       "      <td> 3.3</td>\n",
       "      <td> 5.7</td>\n",
       "      <td> 2.5</td>\n",
       "    </tr>\n",
       "    <tr>\n",
       "      <th>145</th>\n",
       "      <td> 6.7</td>\n",
       "      <td> 3.0</td>\n",
       "      <td> 5.2</td>\n",
       "      <td> 2.3</td>\n",
       "    </tr>\n",
       "    <tr>\n",
       "      <th>146</th>\n",
       "      <td> 6.3</td>\n",
       "      <td> 2.5</td>\n",
       "      <td> 5.0</td>\n",
       "      <td> 1.9</td>\n",
       "    </tr>\n",
       "    <tr>\n",
       "      <th>147</th>\n",
       "      <td> 6.5</td>\n",
       "      <td> 3.0</td>\n",
       "      <td> 5.2</td>\n",
       "      <td> 2.0</td>\n",
       "    </tr>\n",
       "    <tr>\n",
       "      <th>148</th>\n",
       "      <td> 6.2</td>\n",
       "      <td> 3.4</td>\n",
       "      <td> 5.4</td>\n",
       "      <td> 2.3</td>\n",
       "    </tr>\n",
       "    <tr>\n",
       "      <th>149</th>\n",
       "      <td> 5.9</td>\n",
       "      <td> 3.0</td>\n",
       "      <td> 5.1</td>\n",
       "      <td> 1.8</td>\n",
       "    </tr>\n",
       "  </tbody>\n",
       "</table>\n",
       "<p>150 rows × 4 columns</p>\n",
       "</div>"
      ],
      "text/plain": [
       "     SepalLength  SepalWidth  PetalLength  PetalWidth\n",
       "0            5.1         3.5          1.4         0.2\n",
       "1            4.9         3.0          1.4         0.2\n",
       "2            4.7         3.2          1.3         0.2\n",
       "3            4.6         3.1          1.5         0.2\n",
       "4            5.0         3.6          1.4         0.2\n",
       "5            5.4         3.9          1.7         0.4\n",
       "6            4.6         3.4          1.4         0.3\n",
       "7            5.0         3.4          1.5         0.2\n",
       "8            4.4         2.9          1.4         0.2\n",
       "9            4.9         3.1          1.5         0.1\n",
       "10           5.4         3.7          1.5         0.2\n",
       "11           4.8         3.4          1.6         0.2\n",
       "12           4.8         3.0          1.4         0.1\n",
       "13           4.3         3.0          1.1         0.1\n",
       "14           5.8         4.0          1.2         0.2\n",
       "15           5.7         4.4          1.5         0.4\n",
       "16           5.4         3.9          1.3         0.4\n",
       "17           5.1         3.5          1.4         0.3\n",
       "18           5.7         3.8          1.7         0.3\n",
       "19           5.1         3.8          1.5         0.3\n",
       "20           5.4         3.4          1.7         0.2\n",
       "21           5.1         3.7          1.5         0.4\n",
       "22           4.6         3.6          1.0         0.2\n",
       "23           5.1         3.3          1.7         0.5\n",
       "24           4.8         3.4          1.9         0.2\n",
       "25           5.0         3.0          1.6         0.2\n",
       "26           5.0         3.4          1.6         0.4\n",
       "27           5.2         3.5          1.5         0.2\n",
       "28           5.2         3.4          1.4         0.2\n",
       "29           4.7         3.2          1.6         0.2\n",
       "..           ...         ...          ...         ...\n",
       "120          6.9         3.2          5.7         2.3\n",
       "121          5.6         2.8          4.9         2.0\n",
       "122          7.7         2.8          6.7         2.0\n",
       "123          6.3         2.7          4.9         1.8\n",
       "124          6.7         3.3          5.7         2.1\n",
       "125          7.2         3.2          6.0         1.8\n",
       "126          6.2         2.8          4.8         1.8\n",
       "127          6.1         3.0          4.9         1.8\n",
       "128          6.4         2.8          5.6         2.1\n",
       "129          7.2         3.0          5.8         1.6\n",
       "130          7.4         2.8          6.1         1.9\n",
       "131          7.9         3.8          6.4         2.0\n",
       "132          6.4         2.8          5.6         2.2\n",
       "133          6.3         2.8          5.1         1.5\n",
       "134          6.1         2.6          5.6         1.4\n",
       "135          7.7         3.0          6.1         2.3\n",
       "136          6.3         3.4          5.6         2.4\n",
       "137          6.4         3.1          5.5         1.8\n",
       "138          6.0         3.0          4.8         1.8\n",
       "139          6.9         3.1          5.4         2.1\n",
       "140          6.7         3.1          5.6         2.4\n",
       "141          6.9         3.1          5.1         2.3\n",
       "142          5.8         2.7          5.1         1.9\n",
       "143          6.8         3.2          5.9         2.3\n",
       "144          6.7         3.3          5.7         2.5\n",
       "145          6.7         3.0          5.2         2.3\n",
       "146          6.3         2.5          5.0         1.9\n",
       "147          6.5         3.0          5.2         2.0\n",
       "148          6.2         3.4          5.4         2.3\n",
       "149          5.9         3.0          5.1         1.8\n",
       "\n",
       "[150 rows x 4 columns]"
      ]
     },
     "execution_count": 24,
     "metadata": {},
     "output_type": "execute_result"
    }
   ],
   "source": [
    "X"
   ]
  },
  {
   "cell_type": "code",
   "execution_count": 20,
   "metadata": {
    "collapsed": false,
    "deletable": true,
    "editable": true
   },
   "outputs": [],
   "source": [
    "def visualize_tree(tree, feature_names):\n",
    "    \"\"\"Create tree png using graphviz.\n",
    "\n",
    "    Args\n",
    "    ----\n",
    "    tree -- scikit-learn DecsisionTree.\n",
    "    feature_names -- list of feature names.\n",
    "    \"\"\"\n",
    "    with open(\"dt.dot\", 'w') as f:\n",
    "        export_graphviz(tree, out_file=f,\n",
    "                        feature_names=feature_names)\n",
    "\n",
    "    command = [\"dot\", \"-Tpng\", \"dt.dot\", \"-o\", \"dt.png\"]\n",
    "    try:\n",
    "        subprocess.check_call(command)\n",
    "    except:\n",
    "        exit(\"Could not run dot, ie graphviz, to \"\n",
    "             \"produce visualization\")\n",
    "\n"
   ]
  },
  {
   "cell_type": "code",
   "execution_count": 21,
   "metadata": {
    "collapsed": false,
    "deletable": true,
    "editable": true
   },
   "outputs": [],
   "source": [
    "visualize_tree(dt, features)"
   ]
  },
  {
   "cell_type": "code",
   "execution_count": null,
   "metadata": {
    "collapsed": false,
    "deletable": true,
    "editable": true
   },
   "outputs": [],
   "source": []
  }
 ],
 "metadata": {
  "kernelspec": {
   "display_name": "Python 2",
   "language": "python",
   "name": "python2"
  },
  "language_info": {
   "codemirror_mode": {
    "name": "ipython",
    "version": 2
   },
   "file_extension": ".py",
   "mimetype": "text/x-python",
   "name": "python",
   "nbconvert_exporter": "python",
   "pygments_lexer": "ipython2",
   "version": "2.7.13"
  }
 },
 "nbformat": 4,
 "nbformat_minor": 0
}
