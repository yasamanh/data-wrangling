{
 "cells": [
  {
   "cell_type": "code",
   "execution_count": null,
   "metadata": {
    "collapsed": true,
    "deletable": true,
    "editable": true
   },
   "outputs": [],
   "source": [
    "%matplotlib inline\n",
    "import matplotlib\n",
    "import seaborn as sns\n",
    "matplotlib.rcParams['savefig.dpi'] = 144"
   ]
  },
  {
   "cell_type": "markdown",
   "metadata": {
    "deletable": true,
    "editable": true
   },
   "source": [
    "# Consuming APIs (and JSON)\n",
    "<!-- requirement: secrets/twitter_secrets.json.sample -->\n",
    "\n",
    "Consuming APIs is supposed to be easy (that's the point of having an API).  \n",
    "\n",
    "Let's look at a simple example of consuming a JSON API.  The example we'll look at is a *geocoder*: That is, a service for converting between addresses and normalized geographic information (e.g. latitude and longitude).  Going from addresses to normalized form is \"forward geocoding\" and going the other way is \"reverse geocoding\".\n",
    "\n",
    "We'll interact with a free (and non-authenticated) geocoder run by OpenStreetMap.  The geocoded information is available by sending a GET request to <tt>http:&#8203;//nominatim.openstreetmap.org/search?q=<i>address</i>&addressdetails=1&format=json</tt>.  The portion before the question mark (`http://nominatim.openstreetmap.org/search`) is the endpoint on the server, while the portion following, known as the *query string*, contains the data being sent to the server.  (Thus, a GET request can be repeated simply by requesting the same URL again.  In contrast, the data sent in a POST request is contained in the request body, not in the URL.)\n",
    "\n",
    "As is typical, the query string consists of several key=value pairs, separated by ampersands.  The requested address is specified with the `q` key in this case.  Some characters, like the spaces and commas, cannot be using in the URL, so they must be enoded with the `urllib2.quote()` function."
   ]
  },
  {
   "cell_type": "code",
   "execution_count": 1,
   "metadata": {
    "collapsed": false,
    "deletable": true,
    "editable": true
   },
   "outputs": [
    {
     "data": {
      "text/plain": [
       "'1600%20Pennsylvania%20Avenue%2C%20Washington%2C%20DC'"
      ]
     },
     "execution_count": 1,
     "metadata": {},
     "output_type": "execute_result"
    }
   ],
   "source": [
    "import urllib2\n",
    "\n",
    "address = \"1600 Pennsylvania Avenue, Washington, DC\"\n",
    "urllib2.quote(address)"
   ]
  },
  {
   "cell_type": "code",
   "execution_count": 2,
   "metadata": {
    "collapsed": false,
    "deletable": true,
    "editable": true
   },
   "outputs": [
    {
     "data": {
      "text/plain": [
       "'http://nominatim.openstreetmap.org/search?q=1600%20Pennsylvania%20Avenue%2C%20Washington%2C%20DC&addressdetails=1&format=json'"
      ]
     },
     "execution_count": 2,
     "metadata": {},
     "output_type": "execute_result"
    }
   ],
   "source": [
    "url = \"http://nominatim.openstreetmap.org/search?q=%s&addressdetails=1&format=json\" % urllib2.quote(address)\n",
    "url"
   ]
  },
  {
   "cell_type": "markdown",
   "metadata": {
    "deletable": true,
    "editable": true
   },
   "source": [
    "We can request this URL with the `urlopen()` function, which returns a stream we can read from."
   ]
  },
  {
   "cell_type": "code",
   "execution_count": 3,
   "metadata": {
    "collapsed": false,
    "deletable": true,
    "editable": true
   },
   "outputs": [
    {
     "data": {
      "text/plain": [
       "'[{\"place_id\":\"155454793\",\"licence\":\"Data \\xc2\\xa9 OpenStreetMap contributors, ODbL 1.0. http:\\\\/\\\\/www.openstreetmap.org\\\\/copyright\",\"osm_type\":\"way\",\"osm_id\":\"397325778\",\"boundingbox\":[\"38.8633822\",\"38.8637409\",\"-76.9467576\",\"-76.945632\"],\"lat\":\"38.8636383\",\"lon\":\"-76.9463651\",\"display_name\":\"Pennsylvania Avenue, Coral Hills, Prince George\\'s County, District of Columbia, 20020, United States of America\",\"class\":\"highway\",\"type\":\"trunk\",\"importance\":0.3,\"address\":{\"road\":\"Pennsylvania Avenue\",\"locality\":\"Coral Hills\",\"county\":\"Prince George\\'s County\",\"state\":\"District of Columbia\",\"postcode\":\"20020\",\"country\":\"United States of America\",\"country_code\":\"us\"}}]'"
      ]
     },
     "execution_count": 3,
     "metadata": {},
     "output_type": "execute_result"
    }
   ],
   "source": [
    "data = urllib2.urlopen(url).read()\n",
    "data"
   ]
  },
  {
   "cell_type": "markdown",
   "metadata": {
    "deletable": true,
    "editable": true
   },
   "source": [
    "The result was returned to us in the form of JSON. JSON is JavaScript Object Notation&mdash;it's a human readable text-based format for transmitting key-value pairs (and strings, numbers, and arrays). The json package lets us convert between this and Python's native dictionaries, etc."
   ]
  },
  {
   "cell_type": "code",
   "execution_count": 4,
   "metadata": {
    "collapsed": false,
    "deletable": true,
    "editable": true
   },
   "outputs": [
    {
     "data": {
      "text/plain": [
       "[{'address': {'country': 'United States of America',\n",
       "   'country_code': 'us',\n",
       "   'county': \"Prince George's County\",\n",
       "   'locality': 'Coral Hills',\n",
       "   'postcode': '20020',\n",
       "   'road': 'Pennsylvania Avenue',\n",
       "   'state': 'District of Columbia'},\n",
       "  'boundingbox': ['38.8633822', '38.8637409', '-76.9467576', '-76.945632'],\n",
       "  'class': 'highway',\n",
       "  'display_name': \"Pennsylvania Avenue, Coral Hills, Prince George's County, District of Columbia, 20020, United States of America\",\n",
       "  'importance': 0.3,\n",
       "  'lat': '38.8636383',\n",
       "  'licence': u'Data \\xa9 OpenStreetMap contributors, ODbL 1.0. http://www.openstreetmap.org/copyright',\n",
       "  'lon': '-76.9463651',\n",
       "  'osm_id': '397325778',\n",
       "  'osm_type': 'way',\n",
       "  'place_id': '155454793',\n",
       "  'type': 'trunk'}]"
      ]
     },
     "execution_count": 4,
     "metadata": {},
     "output_type": "execute_result"
    }
   ],
   "source": [
    "import simplejson as json\n",
    "\n",
    "json.loads(data)"
   ]
  },
  {
   "cell_type": "code",
   "execution_count": 5,
   "metadata": {
    "collapsed": false,
    "deletable": true,
    "editable": true
   },
   "outputs": [
    {
     "data": {
      "text/plain": [
       "['38.8633822', '38.8637409', '-76.9467576', '-76.945632']"
      ]
     },
     "execution_count": 5,
     "metadata": {},
     "output_type": "execute_result"
    }
   ],
   "source": [
    "json.loads(data)[0]['boundingbox']"
   ]
  },
  {
   "cell_type": "markdown",
   "metadata": {
    "deletable": true,
    "editable": true
   },
   "source": [
    "Note that this was a public API, with no authentication.  We'll go through an example of the code for an authenticated API at the end -- the example will be the free Twitter stream.  (The reason we didn't do this up front is that you can't run the code without signing up for an API key, etc.)"
   ]
  },
  {
   "cell_type": "markdown",
   "metadata": {
    "deletable": true,
    "editable": true
   },
   "source": [
    "## Handling URL parameters\n",
    "\n",
    "`urllib2` module requires an enormous amount of work to perform the simplest of tasks. The `requests` library provides a higher-level way to do web requests. This is already nice in examples, like the above, where we need to encode parameters into the URL.  It is even more convenient when there are also `POST` parameters (or cookies, or authentication, or...) involved.  (Don't worry if you don't know what that means.)"
   ]
  },
  {
   "cell_type": "code",
   "execution_count": 6,
   "metadata": {
    "collapsed": false,
    "deletable": true,
    "editable": true
   },
   "outputs": [],
   "source": [
    "import requests\n",
    "def geocode(address):\n",
    "    params = { 'format'        :'json', \n",
    "               'addressdetails': 1, \n",
    "               'q'             : address}\n",
    "    return requests.get('http://nominatim.openstreetmap.org/search', params=params)\n",
    "\n",
    "response = geocode(\"107 Page St., San Francisco\")"
   ]
  },
  {
   "cell_type": "code",
   "execution_count": null,
   "metadata": {
    "collapsed": true,
    "deletable": true,
    "editable": true
   },
   "outputs": [],
   "source": []
  },
  {
   "cell_type": "markdown",
   "metadata": {
    "deletable": true,
    "editable": true
   },
   "source": [
    "The parameters are automatically encoded and assembled into the query string."
   ]
  },
  {
   "cell_type": "code",
   "execution_count": 7,
   "metadata": {
    "collapsed": false,
    "deletable": true,
    "editable": true
   },
   "outputs": [
    {
     "data": {
      "text/plain": [
       "u'http://nominatim.openstreetmap.org/search?q=107+Page+St.%2C+San+Francisco&addressdetails=1&format=json'"
      ]
     },
     "execution_count": 7,
     "metadata": {},
     "output_type": "execute_result"
    }
   ],
   "source": [
    "response.url"
   ]
  },
  {
   "cell_type": "markdown",
   "metadata": {
    "deletable": true,
    "editable": true
   },
   "source": [
    "The raw response is available..."
   ]
  },
  {
   "cell_type": "code",
   "execution_count": 8,
   "metadata": {
    "collapsed": false,
    "deletable": true,
    "editable": true
   },
   "outputs": [
    {
     "data": {
      "text/plain": [
       "u'[{\"place_id\":\"77131810\",\"licence\":\"Data \\xa9 OpenStreetMap contributors, ODbL 1.0. http:\\\\/\\\\/www.openstreetmap.org\\\\/copyright\",\"osm_type\":\"way\",\"osm_id\":\"32121427\",\"boundingbox\":[\"37.7739151\",\"37.7743016\",\"-122.423815\",\"-122.4207867\"],\"lat\":\"37.774091\",\"lon\":\"-122.4224307\",\"display_name\":\"Page Street, Hayes Valley, SF, California, 94114, United States of America\",\"class\":\"highway\",\"type\":\"residential\",\"importance\":0.3,\"address\":{\"road\":\"Page Street\",\"neighbourhood\":\"Hayes Valley\",\"city\":\"SF\",\"county\":\"SF\",\"state\":\"California\",\"postcode\":\"94114\",\"country\":\"United States of America\",\"country_code\":\"us\"}},{\"place_id\":\"158974406\",\"licence\":\"Data \\xa9 OpenStreetMap contributors, ODbL 1.0. http:\\\\/\\\\/www.openstreetmap.org\\\\/copyright\",\"osm_type\":\"way\",\"osm_id\":\"415301469\",\"boundingbox\":[\"37.771995\",\"37.7722016\",\"-122.4389208\",\"-122.4372987\"],\"lat\":\"37.7722016\",\"lon\":\"-122.4372987\",\"display_name\":\"Page Street, Duboce Triangle, SF, California, 94114, United States of America\",\"class\":\"highway\",\"type\":\"residential\",\"importance\":0.3,\"address\":{\"road\":\"Page Street\",\"neighbourhood\":\"Duboce Triangle\",\"city\":\"SF\",\"county\":\"SF\",\"state\":\"California\",\"postcode\":\"94114\",\"country\":\"United States of America\",\"country_code\":\"us\"}},{\"place_id\":\"158227163\",\"licence\":\"Data \\xa9 OpenStreetMap contributors, ODbL 1.0. http:\\\\/\\\\/www.openstreetmap.org\\\\/copyright\",\"osm_type\":\"way\",\"osm_id\":\"415300576\",\"boundingbox\":[\"37.7711507\",\"37.7717861\",\"-122.4455504\",\"-122.4405612\"],\"lat\":\"37.7713673\",\"lon\":\"-122.4438491\",\"display_name\":\"Page Street, Haight-Ashbury, SF, California, 94117, United States of America\",\"class\":\"highway\",\"type\":\"residential\",\"importance\":0.3,\"address\":{\"road\":\"Page Street\",\"neighbourhood\":\"Haight-Ashbury\",\"city\":\"SF\",\"county\":\"SF\",\"state\":\"California\",\"postcode\":\"94117\",\"country\":\"United States of America\",\"country_code\":\"us\"}}]'"
      ]
     },
     "execution_count": 8,
     "metadata": {},
     "output_type": "execute_result"
    }
   ],
   "source": [
    "response.text"
   ]
  },
  {
   "cell_type": "markdown",
   "metadata": {
    "deletable": true,
    "editable": true
   },
   "source": [
    "...but it can also be converted to JSON."
   ]
  },
  {
   "cell_type": "code",
   "execution_count": 9,
   "metadata": {
    "collapsed": false,
    "deletable": true,
    "editable": true
   },
   "outputs": [
    {
     "data": {
      "text/plain": [
       "[{u'address': {u'city': u'SF',\n",
       "   u'country': u'United States of America',\n",
       "   u'country_code': u'us',\n",
       "   u'county': u'SF',\n",
       "   u'neighbourhood': u'Hayes Valley',\n",
       "   u'postcode': u'94114',\n",
       "   u'road': u'Page Street',\n",
       "   u'state': u'California'},\n",
       "  u'boundingbox': [u'37.7739151',\n",
       "   u'37.7743016',\n",
       "   u'-122.423815',\n",
       "   u'-122.4207867'],\n",
       "  u'class': u'highway',\n",
       "  u'display_name': u'Page Street, Hayes Valley, SF, California, 94114, United States of America',\n",
       "  u'importance': 0.3,\n",
       "  u'lat': u'37.774091',\n",
       "  u'licence': u'Data \\xa9 OpenStreetMap contributors, ODbL 1.0. http://www.openstreetmap.org/copyright',\n",
       "  u'lon': u'-122.4224307',\n",
       "  u'osm_id': u'32121427',\n",
       "  u'osm_type': u'way',\n",
       "  u'place_id': u'77131810',\n",
       "  u'type': u'residential'},\n",
       " {u'address': {u'city': u'SF',\n",
       "   u'country': u'United States of America',\n",
       "   u'country_code': u'us',\n",
       "   u'county': u'SF',\n",
       "   u'neighbourhood': u'Duboce Triangle',\n",
       "   u'postcode': u'94114',\n",
       "   u'road': u'Page Street',\n",
       "   u'state': u'California'},\n",
       "  u'boundingbox': [u'37.771995',\n",
       "   u'37.7722016',\n",
       "   u'-122.4389208',\n",
       "   u'-122.4372987'],\n",
       "  u'class': u'highway',\n",
       "  u'display_name': u'Page Street, Duboce Triangle, SF, California, 94114, United States of America',\n",
       "  u'importance': 0.3,\n",
       "  u'lat': u'37.7722016',\n",
       "  u'licence': u'Data \\xa9 OpenStreetMap contributors, ODbL 1.0. http://www.openstreetmap.org/copyright',\n",
       "  u'lon': u'-122.4372987',\n",
       "  u'osm_id': u'415301469',\n",
       "  u'osm_type': u'way',\n",
       "  u'place_id': u'158974406',\n",
       "  u'type': u'residential'},\n",
       " {u'address': {u'city': u'SF',\n",
       "   u'country': u'United States of America',\n",
       "   u'country_code': u'us',\n",
       "   u'county': u'SF',\n",
       "   u'neighbourhood': u'Haight-Ashbury',\n",
       "   u'postcode': u'94117',\n",
       "   u'road': u'Page Street',\n",
       "   u'state': u'California'},\n",
       "  u'boundingbox': [u'37.7711507',\n",
       "   u'37.7717861',\n",
       "   u'-122.4455504',\n",
       "   u'-122.4405612'],\n",
       "  u'class': u'highway',\n",
       "  u'display_name': u'Page Street, Haight-Ashbury, SF, California, 94117, United States of America',\n",
       "  u'importance': 0.3,\n",
       "  u'lat': u'37.7713673',\n",
       "  u'licence': u'Data \\xa9 OpenStreetMap contributors, ODbL 1.0. http://www.openstreetmap.org/copyright',\n",
       "  u'lon': u'-122.4438491',\n",
       "  u'osm_id': u'415300576',\n",
       "  u'osm_type': u'way',\n",
       "  u'place_id': u'158227163',\n",
       "  u'type': u'residential'}]"
      ]
     },
     "execution_count": 9,
     "metadata": {},
     "output_type": "execute_result"
    }
   ],
   "source": [
    "response.json()"
   ]
  },
  {
   "cell_type": "code",
   "execution_count": 10,
   "metadata": {
    "collapsed": false,
    "deletable": true,
    "editable": true
   },
   "outputs": [
    {
     "data": {
      "text/plain": [
       "[u'37.7739151', u'37.7743016', u'-122.423815', u'-122.4207867']"
      ]
     },
     "execution_count": 10,
     "metadata": {},
     "output_type": "execute_result"
    }
   ],
   "source": [
    "response.json()[0]['boundingbox']"
   ]
  },
  {
   "cell_type": "markdown",
   "metadata": {
    "deletable": true,
    "editable": true
   },
   "source": [
    "**Exercise:** The National Weather Service operates a free API for weather information.  A sample request looks like this: `http://forecast.weather.gov/MapClick.php?lat=37.7739&lon=-122.4225&FcstType=json`.\n",
    "\n",
    "Use the geocoder to write a function\n",
    "\n",
    "        def weather_at_address(address):\n",
    "            ....\n",
    "            \n",
    "that gets the current weather (temperature, cloudy or not) from a human-entered address."
   ]
  },
  {
   "cell_type": "markdown",
   "metadata": {
    "deletable": true,
    "editable": true
   },
   "source": [
    "## Authenticated APIs\n",
    "\n",
    "Lots of interesting APIs are free (or at least free for moderate use) but still require you to register first.  The `requests` library (together with some supporting ones, e.g. `requests_oauthlib`) make it easy to consume these too.\n",
    "\n",
    "**Exercise:** In order to access the Twitter API, you must first sign up: create an app on http://apps.twitter.com, get an access token, et voila, you have your shiny new credentials -- consisting of four pieces of data. The file /secrets/twitter_secrets.json.sample in the datacourse repo has the format template; then rename the file to have a .nogit extension to prevent it being tracked in the repository."
   ]
  },
  {
   "cell_type": "code",
   "execution_count": null,
   "metadata": {
    "collapsed": false,
    "deletable": true,
    "editable": true
   },
   "outputs": [],
   "source": [
    "from requests_oauthlib import OAuth1\n",
    "\n",
    "with open(\"secrets/twitter_secrets.json.nogit\") as fh:\n",
    "    secrets = json.loads(fh.read())\n",
    "\n",
    "# create an auth object\n",
    "auth = OAuth1(\n",
    "    secrets[\"api_key\"],\n",
    "    secrets[\"api_secret\"],\n",
    "    secrets[\"access_token\"],\n",
    "    secrets[\"access_token_secret\"]\n",
    ")"
   ]
  },
  {
   "cell_type": "markdown",
   "metadata": {
    "deletable": true,
    "editable": true
   },
   "source": [
    "Let's see all of Michael's friends."
   ]
  },
  {
   "cell_type": "code",
   "execution_count": null,
   "metadata": {
    "collapsed": false,
    "deletable": true,
    "editable": true
   },
   "outputs": [],
   "source": [
    "r = requests.get(\n",
    "    \"https://api.twitter.com/1.1/friends/ids.json\",\n",
    "    auth=auth,\n",
    "    params={'screen_name' : 'tianhuil'}\n",
    ")\n",
    "michaels_friends=r.json()\n",
    "\n",
    "r2 = requests.post(\n",
    "    'https://api.twitter.com/1.1/users/lookup.json',\n",
    "    auth=auth,\n",
    "    data={'user_id' : michaels_friends['ids'][:50]}\n",
    ")\n",
    "friends_info = r2.json()\n",
    "[(f['screen_name'], f['name']) for f in friends_info]"
   ]
  },
  {
   "cell_type": "markdown",
   "metadata": {
    "deletable": true,
    "editable": true
   },
   "source": [
    "Requests also makes it easy to deal with simple streaming APIs.  Let's stream 100 tweets from the Twitter feed."
   ]
  },
  {
   "cell_type": "code",
   "execution_count": null,
   "metadata": {
    "collapsed": false,
    "deletable": true,
    "editable": true
   },
   "outputs": [],
   "source": [
    "import sys\n",
    "r_stream = requests.get('https://stream.twitter.com/1.1/statuses/sample.json', auth=auth, stream=True)\n",
    "counter = 0\n",
    "for line in r_stream.iter_lines():\n",
    "    # filter out keep-alive new lines\n",
    "    if not line:\n",
    "        continue\n",
    "    tweet = json.loads(line)\n",
    "    if 'text' in tweet:\n",
    "        counter +=1\n",
    "        print tweet['text']\n",
    "    sys.stdout.flush()\n",
    "    if counter > 100:\n",
    "        break"
   ]
  },
  {
   "cell_type": "markdown",
   "metadata": {
    "deletable": true,
    "editable": true
   },
   "source": [
    "We can restrict the location to be more-likely to get English-language tweets."
   ]
  },
  {
   "cell_type": "code",
   "execution_count": null,
   "metadata": {
    "collapsed": false,
    "deletable": true,
    "editable": true,
    "scrolled": true
   },
   "outputs": [],
   "source": [
    "from itertools import islice  # Question: what does islice do?\n",
    "\n",
    "r_stream = requests.post('https://stream.twitter.com/1.1/statuses/filter.json', auth=auth,\n",
    "                          stream=True, data={\"locations\" : \"-125,23,-70,50\"} )\n",
    "for line in islice(r_stream.iter_lines(), 100):\n",
    "    # filter out keep-alive new lines\n",
    "    if not line:\n",
    "        continue\n",
    "    tweet = json.loads(line)\n",
    "    if 'text' in tweet:\n",
    "        print tweet['text']\n",
    "    sys.stdout.flush()"
   ]
  },
  {
   "cell_type": "markdown",
   "metadata": {
    "deletable": true,
    "editable": true
   },
   "source": [
    "## API Request Limitations\n",
    "\n",
    "Some Authenticated APIs have hard limits on the total number of requests that can be made by one user in one day. An API service that uses a Fremium or Paid service model will enforce a limit so they can encourage high-volume users to pay for better data access. API providers also do this to force software developers to be disciplined and thoughtful in their use of the API service.\n",
    "\n",
    "All APIs might have soft limits based on some ambiguous definition of excessive use. Google, for example, will block your IP address if you make too many requests to their services too quickly. Presumably this is done with a machine learning algorithm built specifically for this purpose. Bloomberg has a Python API associated with their desktop terminal application. They will revoke access if you exceed daily or monthly hard limits, but unfortunately specifics of those limits are not shared with any of their users.\n",
    "\n",
    "These limits create challenges for the cost-conscious data scientist. Happily, Python has tools to help. One of them is the [ediblepickle](https://pypi.python.org/pypi/ediblepickle/1.1.3) package. This package provides a  convenient facility for caching the results of function calls. This can help prevent unnecessary duplicate requests to an API.\n",
    "\n",
    "In the below example, the previous `geocode` function is modified with ediblepickle's `checkpoint` decorator. It wraps the `geocode2` function with additional functionality to cache the results of the first function call in a pickle file. The results are stored in a filename that is dependent on the function arguments.\n",
    "\n",
    "If this function is called a second time with the same function arguments, the `checkpoint` decorator will intercept the call and retrieve the results from the cached pickle file.\n",
    "\n",
    "It is important that the filename be valid filename that is unique to the function parameters. In this example, we use `urllib2.quote` to escape characters and generate a proper filename."
   ]
  },
  {
   "cell_type": "code",
   "execution_count": 11,
   "metadata": {
    "collapsed": false,
    "deletable": true,
    "editable": true
   },
   "outputs": [],
   "source": [
    "from ediblepickle import checkpoint\n",
    "import os\n",
    "\n",
    "cache_dir = 'cache'\n",
    "if not os.path.exists(cache_dir):\n",
    "    os.mkdir(cache_dir)\n",
    "\n",
    "@checkpoint(key=lambda args, kwargs: urllib2.quote(args[0]) + '.p', work_dir=cache_dir)\n",
    "def geocode2(address):\n",
    "    params = { 'format'        :'json', \n",
    "               'addressdetails': 1, \n",
    "               'q'             : address}\n",
    "    print 'making API request...'\n",
    "    result = requests.get('http://nominatim.openstreetmap.org/search', params=params)\n",
    "    print 'API request complete.'\n",
    "    return result\n",
    "    \n",
    "address = \"City Hall Park, New York, NY 10007\""
   ]
  },
  {
   "cell_type": "code",
   "execution_count": 12,
   "metadata": {
    "collapsed": false,
    "deletable": true,
    "editable": true
   },
   "outputs": [
    {
     "name": "stdout",
     "output_type": "stream",
     "text": [
      "making API request...\n",
      "API request complete.\n",
      "[{u'display_name': u'City Hall Park, Steve Flanders Square, Tribeca, Manhattan, Manhattan Community Board 1, New York County, NYC, New York, 10007, United States of America', u'importance': 0.711, u'place_id': u'159626563', u'lon': u'-74.0062428541059', u'lat': u'40.71262475', u'osm_type': u'way', u'licence': u'Data \\xa9 OpenStreetMap contributors, ODbL 1.0. http://www.openstreetmap.org/copyright', u'osm_id': u'413055246', u'boundingbox': [u'40.7118001', u'40.7139825', u'-74.0078192', u'-74.0043418'], u'type': u'park', u'class': u'leisure', u'address': {u'city': u'NYC', u'country': u'United States of America', u'park': u'City Hall Park', u'county': u'New York County', u'suburb': u'Manhattan', u'state': u'New York', u'road': u'Steve Flanders Square', u'country_code': u'us', u'neighbourhood': u'Tribeca', u'postcode': u'10007'}}]\n",
      "CPU times: user 12 ms, sys: 4 ms, total: 16 ms\n",
      "Wall time: 227 ms\n"
     ]
    }
   ],
   "source": [
    "%%time\n",
    "\n",
    "# this created the cached file. observe the creation of a new pickle file in the cache directory.\n",
    "response = geocode2(address)\n",
    "print response.json()"
   ]
  },
  {
   "cell_type": "code",
   "execution_count": 13,
   "metadata": {
    "collapsed": false,
    "deletable": true,
    "editable": true
   },
   "outputs": [
    {
     "name": "stdout",
     "output_type": "stream",
     "text": [
      "[{u'display_name': u'City Hall Park, Steve Flanders Square, Tribeca, Manhattan, Manhattan Community Board 1, New York County, NYC, New York, 10007, United States of America', u'importance': 0.711, u'place_id': u'159626563', u'lon': u'-74.0062428541059', u'lat': u'40.71262475', u'osm_type': u'way', u'licence': u'Data \\xa9 OpenStreetMap contributors, ODbL 1.0. http://www.openstreetmap.org/copyright', u'osm_id': u'413055246', u'boundingbox': [u'40.7118001', u'40.7139825', u'-74.0078192', u'-74.0043418'], u'type': u'park', u'class': u'leisure', u'address': {u'city': u'NYC', u'country': u'United States of America', u'park': u'City Hall Park', u'county': u'New York County', u'suburb': u'Manhattan', u'state': u'New York', u'road': u'Steve Flanders Square', u'country_code': u'us', u'neighbourhood': u'Tribeca', u'postcode': u'10007'}}]\n",
      "CPU times: user 0 ns, sys: 4 ms, total: 4 ms\n",
      "Wall time: 2.9 ms\n"
     ]
    }
   ],
   "source": [
    "%%time\n",
    "\n",
    "# this reads the cached file. observe that this executes ~100x faster.\n",
    "# the print statements in the geocode2 function do not appear because the function itself is not executed at all.\n",
    "response = geocode2(address)\n",
    "print response.json()"
   ]
  },
  {
   "cell_type": "markdown",
   "metadata": {
    "deletable": true,
    "editable": true
   },
   "source": [
    "### Exercises\n",
    "\n",
    "1. Write a Python script that takes as input an address and outputs 50 tweets from within about 10 miles of it.\n",
    "Now modify it to return the top 10 hashtags within that 10 mile range (based on, say, a 1000 tweet sample).\n",
    "1. You can plot maps using this [Python Package](http://peak5390.wordpress.com/2012/12/08/matplotlib-basemap-tutorial-plotting-points-on-a-simple-map/).  Get geo-located tweets from the streaming API and plot them on the map."
   ]
  },
  {
   "cell_type": "markdown",
   "metadata": {
    "deletable": true,
    "editable": true
   },
   "source": [
    "### Further reading for this lecture\n",
    "\n",
    "To learn more about JSON (there isn't much more to know!):\n",
    " - http://www.secretgeek.net/json_3mins.asp\n",
    " - http://en.wikipedia.org/wiki/JSON (esp. \"Data types, syntax, and examples\")\n",
    " - http://tools.ietf.org/html/rfc7159\n",
    "\n",
    "A useful tool for playing with JSON on the command line is [jq](http://stedolan.github.io/jq/).\n",
    "\n",
    "To learn more about about the prevailing design pattern (\"REST\") for web-based APIs:\n",
    " - http://en.wikipedia.org/wiki/Representational_state_transfer\n",
    " \n",
    "One wildcard is the wide variety of authentication strategies employed (\"basic auth\", cookies, bearer token, OAuth, OAuth 2, etc.).  For several of these, the documentation at http://docs.python-requests.org/en/latest/user/authentication/ is helpful."
   ]
  },
  {
   "cell_type": "markdown",
   "metadata": {
    "collapsed": false,
    "deletable": true,
    "editable": true
   },
   "source": [
    "### Exit Tickets\n",
    "1. Explain the difference between requests.get() and requests.post().\n",
    "2. What data structures do JSON objects in Python use?\n",
    "3. Describe what the remote site is doing when it receives an API request from you."
   ]
  },
  {
   "cell_type": "markdown",
   "metadata": {
    "deletable": true,
    "editable": true
   },
   "source": [
    "*Copyright &copy; 2015 The Data Incubator.  All rights reserved.*"
   ]
  }
 ],
 "metadata": {
  "kernelspec": {
   "display_name": "Python 2",
   "language": "python",
   "name": "python2"
  },
  "language_info": {
   "codemirror_mode": {
    "name": "ipython",
    "version": 2
   },
   "file_extension": ".py",
   "mimetype": "text/x-python",
   "name": "python",
   "nbconvert_exporter": "python",
   "pygments_lexer": "ipython2",
   "version": "2.7.13"
  }
 },
 "nbformat": 4,
 "nbformat_minor": 0
}
