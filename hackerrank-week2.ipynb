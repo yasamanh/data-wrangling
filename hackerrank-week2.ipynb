{
 "cells": [
  {
   "cell_type": "code",
   "execution_count": 9,
   "metadata": {
    "collapsed": false,
    "deletable": true,
    "editable": true
   },
   "outputs": [
    {
     "name": "stdout",
     "output_type": "stream",
     "text": [
      "1\n"
     ]
    }
   ],
   "source": [
    "import re\n",
    "#YES\n",
    "S = '{[()]}'\n",
    "#NO\n",
    "#S = '{[(])}'\n",
    "\n",
    "exp_p = re.compile('{')\n",
    "print len(re.findall(exp_p,S))"
   ]
  },
  {
   "cell_type": "code",
   "execution_count": 14,
   "metadata": {
    "collapsed": false,
    "deletable": true,
    "editable": true
   },
   "outputs": [
    {
     "name": "stdout",
     "output_type": "stream",
     "text": [
      "Deque: deque(['a', 'b', 'c', 'd', 'e', 'f', 'g'])\n",
      "Length: 7\n",
      "Left end: a\n",
      "Right end: g\n",
      "a\n",
      "g\n"
     ]
    }
   ],
   "source": [
    "import collections\n",
    "\n",
    "d = collections.deque('abcdefg')\n",
    "print 'Deque:', d\n",
    "print 'Length:', len(d)\n",
    "print 'Left end:', d[0]\n",
    "print 'Right end:', d[-1]\n",
    "\n",
    "print d.popleft()\n",
    "print d.pop()\n",
    "#remove('c')\n",
    "print d.isem"
   ]
  },
  {
   "cell_type": "code",
   "execution_count": 21,
   "metadata": {
    "collapsed": false,
    "deletable": true,
    "editable": true
   },
   "outputs": [
    {
     "data": {
      "text/plain": [
       "deque(['{', '[', '(', ')', ']', '}'])"
      ]
     },
     "execution_count": 21,
     "metadata": {},
     "output_type": "execute_result"
    }
   ],
   "source": [
    "b = collections.deque(S)\n",
    "b"
   ]
  },
  {
   "cell_type": "code",
   "execution_count": null,
   "metadata": {
    "collapsed": false,
    "deletable": true,
    "editable": true
   },
   "outputs": [],
   "source": [
    "S = '{[([)]}'\n",
    "b = collections.deque(S)\n",
    "brackets = {'{':'}','[':']','(':')'}\n",
    "length = len(B)\n",
    "i = 0\n",
    "match = True\n",
    "\n",
    "while (len(b)>0):\n",
    "    print b\n",
    "    #print b.popleft()\n",
    "    #print b.pop()\n",
    "    #print b\n",
    "    pop = b.popleft()\n",
    "    left = brackets[pop]\n",
    "    print \"left: \" + pop\n",
    "    if len(b)>0:\n",
    "        right = b.pop()\n",
    "        print \"right: \" + right\n",
    "        if left != right:\n",
    "            match = False\n",
    "            break\n",
    "\n",
    "print match"
   ]
  },
  {
   "cell_type": "code",
   "execution_count": 70,
   "metadata": {
    "collapsed": false,
    "deletable": true,
    "editable": true
   },
   "outputs": [],
   "source": [
    "def sub_partition(array, start, end, idx_pivot):\n",
    "\n",
    "    'returns the position where the pivot winds up'\n",
    "\n",
    "    if not (start <= idx_pivot <= end):\n",
    "        raise ValueError('idx pivot must be between start and end')\n",
    "\n",
    "    array[start], array[idx_pivot] = array[idx_pivot], array[start]\n",
    "    pivot = array[start]\n",
    "    \n",
    "    i = start + 1\n",
    "    j = start + 1\n",
    "\n",
    "    #move the smaller element to \n",
    "    while j <= end:\n",
    "        #swaping places\n",
    "        if array[j] <= pivot:\n",
    "            array[j], array[i] = array[i], array[j]\n",
    "            i += 1\n",
    "        j += 1\n",
    "    \n",
    "    array[start], array[i - 1] = array[i - 1], array[start]\n",
    "    return i - 1"
   ]
  },
  {
   "cell_type": "code",
   "execution_count": 72,
   "metadata": {
    "collapsed": true
   },
   "outputs": [],
   "source": [
    "def quicksort1(array, start=0, end=None):\n",
    "\n",
    "    if end is None:\n",
    "        end = len(array) - 1\n",
    "\n",
    "    if end - start < 1:\n",
    "        return\n",
    "\n",
    "    idx_pivot = end\n",
    "    i = sub_partition(array, start, end, idx_pivot)\n",
    "    quicksort(array, start, i - 1)\n",
    "    quicksort(array, i + 1, end)\n"
   ]
  },
  {
   "cell_type": "code",
   "execution_count": 73,
   "metadata": {
    "collapsed": true
   },
   "outputs": [],
   "source": [
    "def partition(arr, lo, hi):\n",
    "    p_val = arr[hi-1]\n",
    "    j = lo\n",
    "    for i in xrange(lo, hi-1):\n",
    "        if arr[i] < p_val:\n",
    "            arr[i], arr[j] = arr[j], arr[i]\n",
    "            j += 1\n",
    "    arr[hi-1], arr[j] = arr[j], arr[hi-1]\n",
    "    print \" \".join(map(str, arr))\n",
    "    return j"
   ]
  },
  {
   "cell_type": "code",
   "execution_count": 74,
   "metadata": {
    "collapsed": true
   },
   "outputs": [],
   "source": [
    "def quicksort(arr, lo=0, hi=-1):\n",
    "    if hi == -1:\n",
    "        hi = len(arr)\n",
    "    if lo < hi - 1:\n",
    "        p = partition(arr, lo, hi)\n",
    "        quicksort(arr, lo, p)\n",
    "        quicksort(arr, p + 1, hi)"
   ]
  },
  {
   "cell_type": "code",
   "execution_count": 77,
   "metadata": {
    "collapsed": false
   },
   "outputs": [
    {
     "name": "stdout",
     "output_type": "stream",
     "text": [
      "1 3 2 5 9 7 8\n",
      "1 2 3 5 9 7 8\n",
      "1 2 3 5 7 8 9\n"
     ]
    }
   ],
   "source": [
    "array= [1, 3, 9, 8, 2, 7, 5]\n",
    "quicksort(array)"
   ]
  },
  {
   "cell_type": "code",
   "execution_count": 82,
   "metadata": {
    "collapsed": false
   },
   "outputs": [
    {
     "name": "stdout",
     "output_type": "stream",
     "text": [
      "('Making change for', 4, 'requires')\n",
      "(2, 'coins')\n",
      "They are:\n",
      "1\n",
      "3\n",
      "The used list is as follows:\n",
      "[1, 1, 2, 3, 1]\n",
      "[0, 1, 1, 1, 2]\n"
     ]
    }
   ],
   "source": [
    "def dpMakeChange(coinValueList,change,minCoins,coinsUsed):\n",
    "   for cents in range(change+1):\n",
    "      coinCount = cents\n",
    "      newCoin = 1\n",
    "      for j in [c for c in coinValueList if c <= cents]:\n",
    "            if minCoins[cents-j] + 1 < coinCount:\n",
    "               coinCount = minCoins[cents-j]+1\n",
    "               newCoin = j\n",
    "      minCoins[cents] = coinCount\n",
    "      coinsUsed[cents] = newCoin\n",
    "   return minCoins[change]\n",
    "\n",
    "def printCoins(coinsUsed,change):\n",
    "   coin = change\n",
    "   while coin > 0:\n",
    "      thisCoin = coinsUsed[coin]\n",
    "      print(thisCoin)\n",
    "      coin = coin - thisCoin\n",
    "\n",
    "def main():\n",
    "    amnt = 4\n",
    "    clist = [1,2,3]\n",
    "    coinsUsed = [0]*(amnt+1)\n",
    "    coinCount = [0]*(amnt+1)\n",
    "    \n",
    "    \n",
    "    print(\"Making change for\",amnt,\"requires\")\n",
    "    print(dpMakeChange(clist,amnt,coinCount,coinsUsed),\"coins\")\n",
    "    print(\"They are:\")\n",
    "    printCoins(coinsUsed,amnt)\n",
    "    print(\"The used list is as follows:\")\n",
    "    print(coinsUsed)\n",
    "    print coinCount\n",
    "\n",
    "main()\n"
   ]
  },
  {
   "cell_type": "code",
   "execution_count": 83,
   "metadata": {
    "collapsed": true
   },
   "outputs": [],
   "source": [
    "def dpMakeChange(coinValueList,change,minCoins):\n",
    "   for cents in range(change+1):\n",
    "      coinCount = cents\n",
    "      for j in [c for c in coinValueList if c <= cents]:\n",
    "            if minCoins[cents-j] + 1 < coinCount:\n",
    "               coinCount = minCoins[cents-j]+1\n",
    "      minCoins[cents] = coinCount\n",
    "   return minCoins[change]"
   ]
  },
  {
   "cell_type": "code",
   "execution_count": 91,
   "metadata": {
    "collapsed": false
   },
   "outputs": [],
   "source": [
    "def dpCoinChange(value, coinValueList, noCoins):\n",
    "    target = 0\n",
    "    usedCoins=[]\n",
    "    for c in coinValueList:\n",
    "        while (target < value):\n",
    "            if len(usedCoins) < noCoins:\n",
    "                usedCoins.append(c)\n",
    "                print usedCoins\n",
    "            else:\n",
    "                break"
   ]
  },
  {
   "cell_type": "code",
   "execution_count": 92,
   "metadata": {
    "collapsed": false
   },
   "outputs": [
    {
     "name": "stdout",
     "output_type": "stream",
     "text": [
      "[1]\n",
      "[1, 1]\n",
      "[1, 1, 1]\n"
     ]
    }
   ],
   "source": [
    "dpCoinChange(4,[1,2,3], 3)"
   ]
  },
  {
   "cell_type": "code",
   "execution_count": 106,
   "metadata": {
    "collapsed": true
   },
   "outputs": [],
   "source": [
    "def count(N, coins):\n",
    "# This generates: [[1, 0, 0, 0, 0], [1, 0, 0, 0, 0], [1, 0, 0, 0, 0], [1, 0, 0, 0, 0]]\n",
    "    numWays = [[1] + N * [0] for j in xrange(len(coins) + 1)]\n",
    "\n",
    "    for i in xrange(1, len(coins) + 1):\n",
    "        for j in xrange(1, N + 1):\n",
    "            numWays[i][j] = numWays[i-1][j] + (numWays[i][j - coins[i-1]]\n",
    "                                               if coins[i-1] <= j else 0)\n",
    "            print numWays\n",
    "    return numWays\n"
   ]
  },
  {
   "cell_type": "code",
   "execution_count": 107,
   "metadata": {
    "collapsed": false
   },
   "outputs": [
    {
     "name": "stdout",
     "output_type": "stream",
     "text": [
      "[[1, 0, 0, 0], [1, 1, 0, 0], [1, 0, 0, 0], [1, 0, 0, 0]]\n",
      "[[1, 0, 0, 0], [1, 1, 1, 0], [1, 0, 0, 0], [1, 0, 0, 0]]\n",
      "[[1, 0, 0, 0], [1, 1, 1, 1], [1, 0, 0, 0], [1, 0, 0, 0]]\n",
      "[[1, 0, 0, 0], [1, 1, 1, 1], [1, 1, 0, 0], [1, 0, 0, 0]]\n",
      "[[1, 0, 0, 0], [1, 1, 1, 1], [1, 1, 2, 0], [1, 0, 0, 0]]\n",
      "[[1, 0, 0, 0], [1, 1, 1, 1], [1, 1, 2, 2], [1, 0, 0, 0]]\n",
      "[[1, 0, 0, 0], [1, 1, 1, 1], [1, 1, 2, 2], [1, 1, 0, 0]]\n",
      "[[1, 0, 0, 0], [1, 1, 1, 1], [1, 1, 2, 2], [1, 1, 2, 0]]\n",
      "[[1, 0, 0, 0], [1, 1, 1, 1], [1, 1, 2, 2], [1, 1, 2, 3]]\n"
     ]
    },
    {
     "data": {
      "text/plain": [
       "[[1, 0, 0, 0], [1, 1, 1, 1], [1, 1, 2, 2], [1, 1, 2, 3]]"
      ]
     },
     "execution_count": 107,
     "metadata": {},
     "output_type": "execute_result"
    }
   ],
   "source": [
    "count(3,[1,2,3])"
   ]
  },
  {
   "cell_type": "code",
   "execution_count": null,
   "metadata": {
    "collapsed": true
   },
   "outputs": [],
   "source": []
  }
 ],
 "metadata": {
  "kernelspec": {
   "display_name": "Python 2",
   "language": "python",
   "name": "python2"
  },
  "language_info": {
   "codemirror_mode": {
    "name": "ipython",
    "version": 2
   },
   "file_extension": ".py",
   "mimetype": "text/x-python",
   "name": "python",
   "nbconvert_exporter": "python",
   "pygments_lexer": "ipython2",
   "version": "2.7.13"
  }
 },
 "nbformat": 4,
 "nbformat_minor": 2
}
