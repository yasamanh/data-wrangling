{
 "cells": [
  {
   "cell_type": "code",
   "execution_count": 1,
   "metadata": {
    "collapsed": false
   },
   "outputs": [
    {
     "data": {
      "text/plain": [
       "[9, 8, 7]"
      ]
     },
     "execution_count": 1,
     "metadata": {},
     "output_type": "execute_result"
    }
   ],
   "source": [
    "from heapq import nlargest\n",
    "lst = [9,1,6,4,2,8,3,7,5]\n",
    "nlargest(3, lst) # Gives [9,8,7]"
   ]
  },
  {
   "cell_type": "code",
   "execution_count": 7,
   "metadata": {
    "collapsed": false
   },
   "outputs": [
    {
     "data": {
      "text/plain": [
       "[('c++', 50), ('python', 30)]"
      ]
     },
     "execution_count": 7,
     "metadata": {},
     "output_type": "execute_result"
    }
   ],
   "source": [
    "from heapq import nlargest\n",
    "tags = [ (\"python\", 30), (\"ruby\", 25), (\"c++\", 50), (\"lisp\", 20) ]\n",
    "nlargest(2, tags, key=lambda e:e[1]) # Gives [ (\"c++\", 50), (\"python\", 30) ]"
   ]
  },
  {
   "cell_type": "code",
   "execution_count": 9,
   "metadata": {
    "collapsed": false
   },
   "outputs": [
    {
     "name": "stdout",
     "output_type": "stream",
     "text": [
      "[(30, 'python')]\n",
      "[(25, 'ruby'), (30, 'python')]\n",
      "[(25, 'ruby'), (30, 'python'), (50, 'c++')]\n",
      "[(30, 'python'), (50, 'c++'), (50, 'c++')]\n"
     ]
    },
    {
     "data": {
      "text/plain": [
       "[(30, 'python'), (50, 'c++'), (50, 'c++')]"
      ]
     },
     "execution_count": 9,
     "metadata": {},
     "output_type": "execute_result"
    }
   ],
   "source": [
    "import heapq\n",
    "top = []\n",
    "for w,c in tags:\n",
    "    if len(top) < 3:\n",
    "        heapq.heappush(top, (c,w))\n",
    "        print top\n",
    "    if (c,w) > top[0]:\n",
    "        heapq.heappushpop(top,(c,w))\n",
    "        print top\n",
    "top"
   ]
  },
  {
   "cell_type": "code",
   "execution_count": 10,
   "metadata": {
    "collapsed": true
   },
   "outputs": [],
   "source": [
    "import numpy\n",
    "\n",
    "def median(lst):\n",
    "    return numpy.median(numpy.array(lst))"
   ]
  },
  {
   "cell_type": "code",
   "execution_count": 11,
   "metadata": {
    "collapsed": false
   },
   "outputs": [
    {
     "data": {
      "text/plain": [
       "6.5"
      ]
     },
     "execution_count": 11,
     "metadata": {},
     "output_type": "execute_result"
    }
   ],
   "source": [
    "lst = [7,12,3,1,6,9]\n",
    "median(lst)"
   ]
  },
  {
   "cell_type": "code",
   "execution_count": null,
   "metadata": {
    "collapsed": true
   },
   "outputs": [],
   "source": []
  }
 ],
 "metadata": {
  "kernelspec": {
   "display_name": "Python 2",
   "language": "python",
   "name": "python2"
  },
  "language_info": {
   "codemirror_mode": {
    "name": "ipython",
    "version": 2
   },
   "file_extension": ".py",
   "mimetype": "text/x-python",
   "name": "python",
   "nbconvert_exporter": "python",
   "pygments_lexer": "ipython2",
   "version": "2.7.13"
  }
 },
 "nbformat": 4,
 "nbformat_minor": 2
}
