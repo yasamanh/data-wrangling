{
 "cells": [
  {
   "cell_type": "code",
   "execution_count": null,
   "metadata": {
    "collapsed": true
   },
   "outputs": [],
   "source": [
    "%matplotlib inline\n",
    "import matplotlib\n",
    "import seaborn as sns\n",
    "matplotlib.rcParams['savefig.dpi'] = 144"
   ]
  },
  {
   "cell_type": "code",
   "execution_count": null,
   "metadata": {
    "collapsed": true
   },
   "outputs": [],
   "source": [
    "import expectexception"
   ]
  },
  {
   "cell_type": "markdown",
   "metadata": {},
   "source": [
    "# Iterators, Generators, and Coroutines\n",
    "\n",
    "Python's composite data structures can be used in for loops and comprehensions.  Other objects can be used in these too, as long as they support the iterable and iterator interfaces.\n",
    "\n",
    "One convenient way to do this is by creating a generator.  A generator acts like a function that pauses every time it reaches the `yield` keyword.  Coroutines are related construction that allow the function to pause for input.  While a little abstract, these tools allow for more readable code overall by separating concerns."
   ]
  },
  {
   "cell_type": "markdown",
   "metadata": {},
   "source": [
    "## Iterables and Iterators\n",
    "\n",
    "What's happening inside a for loop?"
   ]
  },
  {
   "cell_type": "code",
   "execution_count": null,
   "metadata": {
    "collapsed": false
   },
   "outputs": [],
   "source": [
    "for i in [1, 2, 3]:\n",
    "    print i"
   ]
  },
  {
   "cell_type": "markdown",
   "metadata": {},
   "source": [
    "Python is not actually figuring out the length of the list and then indexing through it.  Instead, it is doing something akin to the following:"
   ]
  },
  {
   "cell_type": "code",
   "execution_count": null,
   "metadata": {
    "collapsed": false
   },
   "outputs": [],
   "source": [
    "it = iter([1, 2, 3])\n",
    "while True:\n",
    "    try:\n",
    "        i = next(it)\n",
    "    except StopIteration:\n",
    "        break\n",
    "    print i"
   ]
  },
  {
   "cell_type": "markdown",
   "metadata": {},
   "source": [
    "The list is an **iterable**.  That means we can call `iter()` on it and get an **iterator**."
   ]
  },
  {
   "cell_type": "code",
   "execution_count": null,
   "metadata": {
    "collapsed": false
   },
   "outputs": [],
   "source": [
    "type(it)"
   ]
  },
  {
   "cell_type": "markdown",
   "metadata": {},
   "source": [
    "This iterator will go through the list *once* and then raise `StopIteration`.  After that, it cannot be reused."
   ]
  },
  {
   "cell_type": "code",
   "execution_count": null,
   "metadata": {
    "collapsed": false
   },
   "outputs": [],
   "source": [
    "try:\n",
    "    next(it)\n",
    "except StopIteration:\n",
    "    print \"Iterator exhausted\""
   ]
  },
  {
   "cell_type": "markdown",
   "metadata": {},
   "source": [
    "The `iter()` function just calls the `__iter__()` method of its argument.  Therefore, implementing an iterable is as simple as giving a class an `__iter__()` method.\n",
    "\n",
    "This is a good example of Python's \"duck typing\".  There's no iterable class or interface to inherit from.  It just checks if there is a `__iter__()` method.  If so, that's good enough to be an iterable."
   ]
  },
  {
   "cell_type": "code",
   "execution_count": null,
   "metadata": {
    "collapsed": true
   },
   "outputs": [],
   "source": [
    "class Iterable(object):\n",
    "    \n",
    "    def __init__(self, n):\n",
    "        self.n = n\n",
    "    \n",
    "    def __iter__(self):\n",
    "        return iter([self.n] * self.n)"
   ]
  },
  {
   "cell_type": "code",
   "execution_count": null,
   "metadata": {
    "collapsed": false,
    "scrolled": true
   },
   "outputs": [],
   "source": [
    "my_iter = Iterable(5)\n",
    "for i in my_iter:\n",
    "    print i"
   ]
  },
  {
   "cell_type": "markdown",
   "metadata": {},
   "source": [
    "Similarly, all it takes to be an iterator is a `next()` method.  (Why not `__next__()`?  This was a mistake, and it's fixed in Python 3.)"
   ]
  },
  {
   "cell_type": "code",
   "execution_count": null,
   "metadata": {
    "collapsed": true
   },
   "outputs": [],
   "source": [
    "class Iterator(object):\n",
    "    \n",
    "    def __init__(self, n):\n",
    "        self.curr = n + 1\n",
    "    \n",
    "    def next(self):\n",
    "        self.curr -= 1\n",
    "        if self.curr >= 0:\n",
    "            return self.curr\n",
    "        else:\n",
    "            raise StopIteration"
   ]
  },
  {
   "cell_type": "markdown",
   "metadata": {},
   "source": [
    "This iterator isn't an iterable, so we can use it directly in a for loop.  We can demo it in the same fake for loop we used before."
   ]
  },
  {
   "cell_type": "code",
   "execution_count": null,
   "metadata": {
    "collapsed": false
   },
   "outputs": [],
   "source": [
    "iterator = Iterator(5)\n",
    "while True:\n",
    "    try:\n",
    "        i = next(iterator)\n",
    "    except StopIteration:\n",
    "        break\n",
    "    print i"
   ]
  },
  {
   "cell_type": "markdown",
   "metadata": {},
   "source": [
    "To actually use it in a for loop, we'd need an iterable that returns it.  We could make a separte class, but it's easier to just make the iterator be iterable as well."
   ]
  },
  {
   "cell_type": "code",
   "execution_count": null,
   "metadata": {
    "collapsed": true
   },
   "outputs": [],
   "source": [
    "class IterableIterator(object):\n",
    "    \n",
    "    def __init__(self, n):\n",
    "        self.curr = n + 1\n",
    "    \n",
    "    def __iter__(self):\n",
    "        return self\n",
    "    \n",
    "    def next(self):\n",
    "        self.curr -= 1\n",
    "        if self.curr >= 0:\n",
    "            return self.curr\n",
    "        else:\n",
    "            raise StopIteration"
   ]
  },
  {
   "cell_type": "code",
   "execution_count": null,
   "metadata": {
    "collapsed": false
   },
   "outputs": [],
   "source": [
    "for i in IterableIterator(5):\n",
    "    print i"
   ]
  },
  {
   "cell_type": "markdown",
   "metadata": {},
   "source": [
    "## Generators\n",
    "Generators are a type of iterator.  Benefits:\n",
    "1. They are more powerful than just using `map` and `filter` because they allow you to hold state in between processing entries.  They are like `reduce` but much easier to use, which makes them powerful.\n",
    "1. They allow you to hold data in an \"inner\" context without needing to resort to creating a `class`.  This can be faster since `self.foo` is actually pretty slow in python.\n",
    "1. **Gotcha**: the generator is not run until you first call `.next`, which can be a bit counterintuitive ...\n",
    "\n",
    "Here's a generator that does the same countdown as the `IterableIterator` we defined above.  Notice that, even with some print statements, it uses fewer lines of code."
   ]
  },
  {
   "cell_type": "code",
   "execution_count": null,
   "metadata": {
    "collapsed": false
   },
   "outputs": [],
   "source": [
    "def Countdown(n):\n",
    "    print \"Counting down ...\"\n",
    "    while n > 0:\n",
    "        yield n\n",
    "        n -= 1\n",
    "\n",
    "c = Countdown(5)\n",
    "print \"Set up Countdown\"\n",
    "for i in c:\n",
    "    print i"
   ]
  },
  {
   "cell_type": "markdown",
   "metadata": {},
   "source": [
    "`Countdown` is a generator function.  When it is called, it immediately returns a generator object, but no code is executed."
   ]
  },
  {
   "cell_type": "code",
   "execution_count": null,
   "metadata": {
    "collapsed": false
   },
   "outputs": [],
   "source": [
    "c = Countdown(3)\n",
    "c"
   ]
  },
  {
   "cell_type": "markdown",
   "metadata": {},
   "source": [
    "Generators are iterators, so they have a `.next()` method that allows the execution to proceed to the next `yield` statement."
   ]
  },
  {
   "cell_type": "code",
   "execution_count": null,
   "metadata": {
    "collapsed": false
   },
   "outputs": [],
   "source": [
    "c.next()"
   ]
  },
  {
   "cell_type": "code",
   "execution_count": null,
   "metadata": {
    "collapsed": false
   },
   "outputs": [],
   "source": [
    "print c.next()\n",
    "print c.next()"
   ]
  },
  {
   "cell_type": "markdown",
   "metadata": {},
   "source": [
    "When the generator returns during a `.next()` call, `StopIteration` is raised.  This is used by for loops and list comprehensions to signal the end of the iterator."
   ]
  },
  {
   "cell_type": "code",
   "execution_count": null,
   "metadata": {
    "collapsed": false
   },
   "outputs": [],
   "source": [
    "%%expect_exception StopIteration\n",
    "\n",
    "print c.next()"
   ]
  },
  {
   "cell_type": "markdown",
   "metadata": {},
   "source": [
    "## Generator \"pipelines\"\n",
    "\n",
    "In particular, we're going to create this generator\n",
    "\n",
    "```\n",
    "source_gen -> and_plus_one_gen -> sum_gen\n",
    "```\n",
    "\n",
    "and chain them together.  Note that for each generator input, we can yield none, one, or multiple outputs.\n",
    "\n",
    "1. **Source:** pushes values using `yield`.\n",
    "2. **Intermediate Step:** both requests previous values (`.next`) and pushes them using `yield`\n",
    "3. **Sink:** iterates through previous values using `.next`.\n",
    "\n",
    "**Question:** why is this better than dealing with a list?"
   ]
  },
  {
   "cell_type": "code",
   "execution_count": null,
   "metadata": {
    "collapsed": false
   },
   "outputs": [],
   "source": [
    "def source_gen(n):\n",
    "    for i in xrange(n):\n",
    "        yield i\n",
    "\n",
    "def and_plus_one_gen(gen):\n",
    "    for i in gen:\n",
    "        yield i\n",
    "        yield i + 1\n",
    "\n",
    "def sum_gen(gen):\n",
    "    return sum(i for i in gen)\n",
    "\n",
    "gen1 = source_gen(10)\n",
    "gen2 = and_plus_one_gen(gen1)\n",
    "result = sum_gen(gen2)\n",
    "\n",
    "print result"
   ]
  },
  {
   "cell_type": "markdown",
   "metadata": {},
   "source": [
    "## Generator comprehensions\n",
    "\n",
    "Python supports generator comprehensions in addition to list comprehensions.  They use parentheses `()` instead of brackets `[]`.  While concise, they can only do `map` and `filter`-like things."
   ]
  },
  {
   "cell_type": "code",
   "execution_count": null,
   "metadata": {
    "collapsed": false
   },
   "outputs": [],
   "source": [
    "(j for j in xrange(10))"
   ]
  },
  {
   "cell_type": "markdown",
   "metadata": {},
   "source": [
    "Actually, the parentheses are needed only to group the expression together.  If the generator comprehension appears in another set of parentheses, a second set is not needed."
   ]
  },
  {
   "cell_type": "code",
   "execution_count": null,
   "metadata": {
    "collapsed": false
   },
   "outputs": [],
   "source": [
    "sum(j for j in xrange(10))"
   ]
  },
  {
   "cell_type": "markdown",
   "metadata": {},
   "source": [
    "Comprehensions can be nested.  This produces a flattened list or generator.  Note that the syntax reads outwards from the middle: The outermost loop appears in the middle, the inner loop appears at the end, and the quantity calculated in that loop appears at the beginning."
   ]
  },
  {
   "cell_type": "code",
   "execution_count": null,
   "metadata": {
    "collapsed": false
   },
   "outputs": [],
   "source": [
    "[j for i in xrange(10) for j in (i, i+1)]"
   ]
  },
  {
   "cell_type": "markdown",
   "metadata": {},
   "source": [
    "Using this, we can reproduce the previous generator pipeline."
   ]
  },
  {
   "cell_type": "code",
   "execution_count": null,
   "metadata": {
    "collapsed": false
   },
   "outputs": [],
   "source": [
    "sum(j for i in xrange(10) for j in (i, i+1))"
   ]
  },
  {
   "cell_type": "markdown",
   "metadata": {},
   "source": [
    "### Not all generators can be written as generator comprehensions\n",
    "\n",
    "It might seem from the above example that all generators can be written as generator expressions.  This is not true.  Generator expressions cannot keep track of state in between processing elements, generators can.  In the following example, the `total` variable holds state between generator iterations."
   ]
  },
  {
   "cell_type": "code",
   "execution_count": null,
   "metadata": {
    "collapsed": true
   },
   "outputs": [],
   "source": [
    "def and_total_gen(gen):\n",
    "    total = 0\n",
    "    for i in gen:\n",
    "        yield i\n",
    "        total += i\n",
    "        yield total"
   ]
  },
  {
   "cell_type": "code",
   "execution_count": null,
   "metadata": {
    "collapsed": false
   },
   "outputs": [],
   "source": [
    "list(and_total_gen(xrange(10)))"
   ]
  },
  {
   "cell_type": "markdown",
   "metadata": {},
   "source": [
    "## Time complexity\n",
    "\n",
    "Becuase they don't have to construct an entire list, iterators are much faster. Generator comprehensions will be faster than list comprehensions. They are also much more memory efficient (typically `O(1)` rather than `O(n)`)."
   ]
  },
  {
   "cell_type": "code",
   "execution_count": null,
   "metadata": {
    "collapsed": false
   },
   "outputs": [],
   "source": [
    "%%timeit -n1\n",
    "\n",
    "gen1 = xrange(int(1e7))\n",
    "gen2 = (j for i in gen1 for j in (i, i+1))\n",
    "sum(gen2)"
   ]
  },
  {
   "cell_type": "code",
   "execution_count": null,
   "metadata": {
    "collapsed": false
   },
   "outputs": [],
   "source": [
    "%%timeit -n1\n",
    "\n",
    "list1 = range(int(1e7))\n",
    "list2 = [j for i in list1 for j in (i, i+1)]\n",
    "sum(list2)"
   ]
  },
  {
   "cell_type": "markdown",
   "metadata": {},
   "source": [
    "## Itertools in Python\n",
    "\n",
    "Manipulating iterators requires a little more care than before.  For example, `range`, `map`, `filter`, all have their iterator equivalents for `xrange`, `imap`, `ifilter`."
   ]
  },
  {
   "cell_type": "code",
   "execution_count": null,
   "metadata": {
    "collapsed": true
   },
   "outputs": [],
   "source": [
    "from itertools import count, islice, chain, tee, ifilter, takewhile, dropwhile, combinations"
   ]
  },
  {
   "cell_type": "markdown",
   "metadata": {},
   "source": [
    "Count is an iterator that is never exhausted.  We can slice a portion of it."
   ]
  },
  {
   "cell_type": "code",
   "execution_count": null,
   "metadata": {
    "collapsed": false
   },
   "outputs": [],
   "source": [
    "list(islice(count(), 10))"
   ]
  },
  {
   "cell_type": "code",
   "execution_count": null,
   "metadata": {
    "collapsed": false
   },
   "outputs": [],
   "source": [
    "list(chain(xrange(10), xrange(10)))"
   ]
  },
  {
   "cell_type": "code",
   "execution_count": null,
   "metadata": {
    "collapsed": false
   },
   "outputs": [],
   "source": [
    "it = xrange(10)\n",
    "it1, it2 = tee(it, 2)\n",
    "list(it1)  # Why is this dangerous?"
   ]
  },
  {
   "cell_type": "code",
   "execution_count": null,
   "metadata": {
    "collapsed": false
   },
   "outputs": [],
   "source": [
    "list(it2)"
   ]
  },
  {
   "cell_type": "code",
   "execution_count": null,
   "metadata": {
    "collapsed": false
   },
   "outputs": [],
   "source": [
    "list(it1)"
   ]
  },
  {
   "cell_type": "code",
   "execution_count": null,
   "metadata": {
    "collapsed": false
   },
   "outputs": [],
   "source": [
    "list(ifilter(lambda x: x < 'C', 'ABCDABCD'))"
   ]
  },
  {
   "cell_type": "code",
   "execution_count": null,
   "metadata": {
    "collapsed": false
   },
   "outputs": [],
   "source": [
    "list(takewhile(lambda x: x < 'C', 'ABCDABCD'))"
   ]
  },
  {
   "cell_type": "code",
   "execution_count": null,
   "metadata": {
    "collapsed": false
   },
   "outputs": [],
   "source": [
    "list(dropwhile(lambda x: x < 'C', 'ABCDABCD'))"
   ]
  },
  {
   "cell_type": "code",
   "execution_count": null,
   "metadata": {
    "collapsed": false
   },
   "outputs": [],
   "source": [
    "list(combinations(xrange(4), 2))"
   ]
  },
  {
   "cell_type": "code",
   "execution_count": null,
   "metadata": {
    "collapsed": false
   },
   "outputs": [],
   "source": [
    "from itertools import izip\n",
    "\n",
    "it = xrange(10)\n",
    "it1, it2 = tee(it, 2)\n",
    "it2.next()\n",
    "list(izip(it1, it2))"
   ]
  },
  {
   "cell_type": "markdown",
   "metadata": {},
   "source": [
    "### Exercises\n",
    "1. We've seen how to group an iterator pairwise.  This is useful in a time series for monitoring the \"derivative\" with respect to time.  How do you do this for general triple-wise, quadruple-wise etc ...?\n",
    "1. How do you find a powerset?  That is, given an iterator, return all possible subsets?\n",
    "1. How do you inspect the i-th lookahead value?"
   ]
  },
  {
   "cell_type": "markdown",
   "metadata": {},
   "source": [
    "## Coroutines\n",
    "\n",
    "Coroutines are the \"dual\" of generators.  Generators return data when called with `.next`.  Coroutines take data sent to them via `.send`."
   ]
  },
  {
   "cell_type": "code",
   "execution_count": null,
   "metadata": {
    "collapsed": false
   },
   "outputs": [],
   "source": [
    "def grep(pattern):\n",
    "    print \"Looking for %s\" % pattern\n",
    "    while True:\n",
    "        line = yield\n",
    "        if pattern in line:\n",
    "            print line\n",
    "\n",
    "g = grep(\"Python\")\n",
    "g"
   ]
  },
  {
   "cell_type": "markdown",
   "metadata": {},
   "source": [
    "But there's a **gotcha**: you need to call `.send(None)` to start the coroutine.  This allows execution to proceed to the first `yield` statement..."
   ]
  },
  {
   "cell_type": "code",
   "execution_count": null,
   "metadata": {
    "collapsed": false
   },
   "outputs": [],
   "source": [
    "g.send(None)  # must be \"primed\""
   ]
  },
  {
   "cell_type": "markdown",
   "metadata": {},
   "source": [
    "...so that when it is called with a real value, Python knows to which variable it should be assigned."
   ]
  },
  {
   "cell_type": "code",
   "execution_count": null,
   "metadata": {
    "collapsed": false
   },
   "outputs": [],
   "source": [
    "g.send(\"Python is great!\")"
   ]
  },
  {
   "cell_type": "code",
   "execution_count": null,
   "metadata": {
    "collapsed": false
   },
   "outputs": [],
   "source": [
    "g.send(\"Java is OK\")\n",
    "g.send(\"particularly Python generators\")"
   ]
  },
  {
   "cell_type": "markdown",
   "metadata": {},
   "source": [
    "No one can remember to \"prime\" coroutines so let's just write a wrapper to do so `.send(None)`."
   ]
  },
  {
   "cell_type": "code",
   "execution_count": null,
   "metadata": {
    "collapsed": false
   },
   "outputs": [],
   "source": [
    "def coroutine(func):\n",
    "    def start(*args,**kwargs):\n",
    "        cr = func(*args,**kwargs)\n",
    "        cr.send(None)\n",
    "        return cr\n",
    "    return start\n",
    "\n",
    "# syntactic sugar for grep = coroutine(grep)\n",
    "@coroutine\n",
    "def grep(pattern):\n",
    "    print \"Looking for %s\" % pattern\n",
    "    while True:\n",
    "        line = yield\n",
    "        if pattern in line:\n",
    "            print line\n",
    "\n",
    "g = grep(\"Python\")\n",
    "g.send(\"Python is great!\")\n",
    "g.send(\"particularly Python generators\")"
   ]
  },
  {
   "cell_type": "markdown",
   "metadata": {},
   "source": [
    "Coroutinues also have a `.close()` method, which stops ends their processing.  Coroutines can react to it by catching the `GeneratorExit` signal."
   ]
  },
  {
   "cell_type": "code",
   "execution_count": null,
   "metadata": {
    "collapsed": false
   },
   "outputs": [],
   "source": [
    "@coroutine\n",
    "def print_cr():\n",
    "    try:\n",
    "        while True:\n",
    "            x = yield\n",
    "            print x\n",
    "    except GeneratorExit:\n",
    "        print \"Done\"\n",
    "\n",
    "x = print_cr()\n",
    "x.send(1)\n",
    "x.send(2)\n",
    "x.close()"
   ]
  },
  {
   "cell_type": "markdown",
   "metadata": {},
   "source": [
    "Further attempts to send data to the coroutine will result in a `StopIteration` exception."
   ]
  },
  {
   "cell_type": "code",
   "execution_count": null,
   "metadata": {
    "collapsed": false
   },
   "outputs": [],
   "source": [
    "%%expect_exception StopIteration\n",
    "\n",
    "x.send(3)"
   ]
  },
  {
   "cell_type": "markdown",
   "metadata": {},
   "source": [
    "## Coroutine \"pipelines\"\n",
    "\n",
    "This is the same pipeline as before, except that instead of \"pulling\" values from the previous generator via `.next`, it \"pushes\" values to the next generator via `.send`.\n",
    "\n",
    "```\n",
    "source -> and_plus_one_cr -> sum_cr\n",
    "```\n",
    "\n",
    "The 3 steps are:\n",
    "\n",
    "1. **Source:** pushes values using `send`.\n",
    "2. **Intermediate Step:** both requests values using `yield` and pushes them using `send`\n",
    "3. **Sink:** pulls values using `yield` and prints them out."
   ]
  },
  {
   "cell_type": "code",
   "execution_count": null,
   "metadata": {
    "collapsed": false
   },
   "outputs": [],
   "source": [
    "def source_cr(n, cr):\n",
    "    for i in xrange(n):\n",
    "        cr.send(i)\n",
    "    cr.close()\n",
    "\n",
    "@coroutine\n",
    "def and_plus_one_cr(cr):\n",
    "    try:\n",
    "        while True:\n",
    "            i = yield\n",
    "            cr.send(i)\n",
    "            cr.send(i+1)\n",
    "    except GeneratorExit:\n",
    "        cr.close()\n",
    "\n",
    "@coroutine\n",
    "def sum_cr():\n",
    "    total = 0\n",
    "    try:\n",
    "        while True:\n",
    "            total += yield\n",
    "    except GeneratorExit:\n",
    "        print total\n",
    "\n",
    "cr1 = sum_cr()\n",
    "cr2 = and_plus_one_cr(cr1)\n",
    "source_cr(10, cr2)"
   ]
  },
  {
   "cell_type": "markdown",
   "metadata": {},
   "source": [
    "## Broadcasting\n",
    "\n",
    "With coroutines, we want to broadcast data to multiple sources.  For example, let's say we want to print numbers that are odd and divisible by 5.  Let's write a simple coroutine to do this.  The architecture is as follows\n",
    "\n",
    "```\n",
    "source -> broadcast() ---> divisible_cr(5) -> print_cr()\n",
    "                      \\\n",
    "                        -> divisible_cr(2) -> print_cr()\n",
    "```"
   ]
  },
  {
   "cell_type": "code",
   "execution_count": null,
   "metadata": {
    "collapsed": false
   },
   "outputs": [],
   "source": [
    "def source(n, cr):\n",
    "    for i in xrange(n):\n",
    "        cr.send(i)\n",
    "\n",
    "@coroutine\n",
    "def broadcast(*crs):\n",
    "    while True:\n",
    "        i = yield\n",
    "        for cr in crs:\n",
    "            cr.send(i)\n",
    "\n",
    "@coroutine\n",
    "def divisible_cr(n, cr):\n",
    "    while True:\n",
    "        i = yield\n",
    "        if (i % n) == 0:\n",
    "            cr.send(i)\n",
    "\n",
    "@coroutine\n",
    "def print_cr():\n",
    "    while True:\n",
    "        print (yield)\n",
    "\n",
    "source(10,\n",
    "    broadcast(\n",
    "        divisible_cr(5, print_cr()),\n",
    "        divisible_cr(2, print_cr()),\n",
    "    )\n",
    ")"
   ]
  },
  {
   "cell_type": "markdown",
   "metadata": {},
   "source": [
    "\"Pushing\" data using coroutines allows you to build more complex data pipelines than \"pulling\" data.\n",
    "\n",
    "**Exercise:** How would you create this architecture?\n",
    "\n",
    "```\n",
    "source -> broadcast() ---> divisible_cr(5) --+--> print_cr()\n",
    "                      \\                     /\n",
    "                        -> divisible_cr(2) -\n",
    "```"
   ]
  },
  {
   "cell_type": "markdown",
   "metadata": {},
   "source": [
    "## Coroutines as classes\n",
    "\n",
    "For example, they can often replace classes.  It's many fewer lines of code because the constructor and destructor code is grouped together."
   ]
  },
  {
   "cell_type": "code",
   "execution_count": null,
   "metadata": {
    "collapsed": false
   },
   "outputs": [],
   "source": [
    "import datetime\n",
    "import numpy as np\n",
    "\n",
    "class Timer1:\n",
    "    def __init__(self):\n",
    "        pass\n",
    "\n",
    "    def __enter__(self):\n",
    "        self.t1 = datetime.datetime.now()\n",
    "\n",
    "    def __exit__(self, exc_type, exc_value, traceback):\n",
    "        # may also get error handling if an error occured\n",
    "        self.t2 = datetime.datetime.now()\n",
    "        print \"Seconds elapsed: {}\\n\".format((self.t2 - self.t1).total_seconds())\n",
    "\n",
    "with Timer1():\n",
    "    x = np.arange(1000)\n",
    "    x + x"
   ]
  },
  {
   "cell_type": "code",
   "execution_count": null,
   "metadata": {
    "collapsed": false
   },
   "outputs": [],
   "source": [
    "from contextlib import contextmanager\n",
    "import datetime\n",
    "import numpy as np\n",
    "\n",
    "@contextmanager\n",
    "def Timer2():\n",
    "    t1 = datetime.datetime.now()\n",
    "    yield\n",
    "    t2 = datetime.datetime.now()\n",
    "    print \"Seconds elapsed: {}\\n\".format((t2 - t1).total_seconds())\n",
    "\n",
    "with Timer2():\n",
    "    x = np.arange(1000)\n",
    "    x + x"
   ]
  },
  {
   "cell_type": "markdown",
   "metadata": {},
   "source": [
    "**Exercise:** Implement the decorator `contextmanager` using function decorators, a `class` that implements `__enter__` and `__exit__` and coroutines."
   ]
  },
  {
   "cell_type": "markdown",
   "metadata": {},
   "source": [
    "## Unifying generators and coroutines\n",
    "\n",
    "As we've seen above, coroutines are implemented as generators in Python.  This means that they can return values when they receive a send call.  A simple example:"
   ]
  },
  {
   "cell_type": "code",
   "execution_count": null,
   "metadata": {
    "collapsed": false
   },
   "outputs": [],
   "source": [
    "def send_and_get():\n",
    "    x = yield \"OK\"\n",
    "    print \"(In coroutine) Got a value; sending it back.\"\n",
    "    y = yield x\n",
    "    print \"(In coroutine) Got another value (%s), but I'm done.\" % y\n",
    "\n",
    "cr = send_and_get()\n",
    "cr.send(None)  # Could also use cr.next() to prime"
   ]
  },
  {
   "cell_type": "markdown",
   "metadata": {},
   "source": [
    "Execution is now paused at the `yield` statement on line 2.  It is waiting for the next call of `.send()`, the argument of which will be assigned to `x`."
   ]
  },
  {
   "cell_type": "code",
   "execution_count": null,
   "metadata": {
    "collapsed": false
   },
   "outputs": [],
   "source": [
    "cr.send(42)"
   ]
  },
  {
   "cell_type": "markdown",
   "metadata": {},
   "source": [
    "The `yield` on line 4 has returned the value we passed in.  Now it waits for another value to be assigned to `y`."
   ]
  },
  {
   "cell_type": "code",
   "execution_count": null,
   "metadata": {
    "collapsed": false
   },
   "outputs": [],
   "source": [
    "%%expect_exception StopIteration\n",
    "\n",
    "print cr.send(0)"
   ]
  },
  {
   "cell_type": "markdown",
   "metadata": {},
   "source": [
    "Because execution ended without reaching another `yield` statement, `StopIteration` is raised.\n",
    "\n",
    "We can use this to compute a running mean and standard devation of values sent into a coroutine."
   ]
  },
  {
   "cell_type": "code",
   "execution_count": null,
   "metadata": {
    "collapsed": false
   },
   "outputs": [],
   "source": [
    "import math\n",
    "\n",
    "@coroutine\n",
    "def stats_cr():\n",
    "    m0 = 0\n",
    "    m1 = 0.\n",
    "    m2 = 0.\n",
    "    while True:\n",
    "        if m0 > 0:\n",
    "            x = yield (m1 / m0), math.sqrt(m2 / m0 - (m1 / m0) * (m1 / m0))\n",
    "        else:\n",
    "            x = yield None, None  # What is the purpose of this branch?\n",
    "        m0 += 1\n",
    "        m1 += x\n",
    "        m2 += x * x\n",
    "\n",
    "scr=stats_cr()\n",
    "print scr.send(1)\n",
    "print scr.send(2)\n",
    "print scr.send(3)"
   ]
  },
  {
   "cell_type": "markdown",
   "metadata": {},
   "source": [
    "*Copyright &copy; 2015 The Data Incubator.  All rights reserved.*"
   ]
  }
 ],
 "metadata": {
  "kernelspec": {
   "display_name": "Python 2",
   "language": "python",
   "name": "python2"
  },
  "language_info": {
   "codemirror_mode": {
    "name": "ipython",
    "version": 2
   },
   "file_extension": ".py",
   "mimetype": "text/x-python",
   "name": "python",
   "nbconvert_exporter": "python",
   "pygments_lexer": "ipython2",
   "version": "2.7.12"
  }
 },
 "nbformat": 4,
 "nbformat_minor": 0
}
