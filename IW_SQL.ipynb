{
 "cells": [
  {
   "cell_type": "code",
   "execution_count": 1,
   "metadata": {
    "collapsed": false,
    "deletable": true,
    "editable": true
   },
   "outputs": [],
   "source": [
    "%matplotlib inline\n",
    "import matplotlib\n",
    "import seaborn as sns\n",
    "matplotlib.rcParams['savefig.dpi'] = 144"
   ]
  },
  {
   "cell_type": "code",
   "execution_count": 2,
   "metadata": {
    "collapsed": true,
    "deletable": true,
    "editable": true
   },
   "outputs": [],
   "source": [
    "import pandas as pd"
   ]
  },
  {
   "cell_type": "markdown",
   "metadata": {
    "deletable": true,
    "editable": true
   },
   "source": [
    "# SQL - Standard Query Language\n",
    "<!-- requirement: small_data/2013_Gaz_tracts_national.tsv -->\n",
    "\n",
    "SQL is a formal language for communicating with a database to articulate precisely what information you want from a collection of database tables.\n",
    "\n",
    "Databases are *structured* repositories for data in that database designers must be specific about defining a common set of data items that will be available for each record in a table. This includes defining each column name and data type.\n",
    "\n",
    "Python has a built-in tools for accessing a database and sending or receiving data. In this notebook, we will explore these tools."
   ]
  },
  {
   "cell_type": "markdown",
   "metadata": {
    "deletable": true,
    "editable": true
   },
   "source": [
    "To begin, consider the abstract concept of a table.\n",
    "\n",
    "Imagine you have this collection of information about a list of your friends.\n",
    "\n",
    " index |   name   |     city      | favorite_color \n",
    ":-----:|:--------:|:-------------:|:--------------:\n",
    "   0   |   John   |   New York    |      blue      \n",
    "   1   |  Jason   |    Chicago    |     yellow     \n",
    "   2   |   Mary   | Washington DC |      blue      \n",
    "   3   |  Jason   |    Dallas     |      cyan      \n",
    "   4   |  Susan   |    Seattle    |     green      \n",
    "   5   | Beatrice |    Chicago    |     violet     "
   ]
  },
  {
   "cell_type": "markdown",
   "metadata": {
    "deletable": true,
    "editable": true
   },
   "source": [
    "For each friend, we list their `name`, the `city` they live in, and their `favorite_color`. The data is organized into rows and columns. Each row represents a different friend, and each column represents similar data we know about each friend.\n",
    "\n",
    "There's also an extra `index` column thrown in. The purpose of this column is to provide a unique identifier for each row. In this case it is an integer, kind of like a row number, but this need not be the case. It is helpful (but not required) to have at least one column in a table that is unique. This allows us to uniquely identify a particular row. For this table such a thing is important because we have two friends named \"Jason\", two friends who live in Chicago, and two friends who like the color blue.\n",
    "\n",
    "Now imagine you want to plot where your friends live on a map. To do this you need to know your friends' names and cities. You don't need to know their favorite colors right now, and the index is not important. You just need to **SELECT** the `name` and `city` columns:\n",
    "\n",
    "   name   |     city      \n",
    ":--------:|:-------------:\n",
    "   John   |   New York    \n",
    "  Jason   |    Chicago    \n",
    "   Mary   | Washington DC \n",
    "  Jason   |    Dallas     \n",
    "  Susan   |    Seattle    \n",
    " Beatrice |    Chicago    "
   ]
  },
  {
   "cell_type": "markdown",
   "metadata": {
    "deletable": true,
    "editable": true
   },
   "source": [
    "Now imagine you are visiting Chicago next week and you want to recall information about which of your friends who live there. You want to look at the rows **WHERE** `city = 'Chicago'` and exclude the others:\n",
    "\n",
    "   name   |  city   | favorite_color \n",
    ":--------:|:-------:|:--------------:\n",
    "  Jason   | Chicago |     yellow     \n",
    " Beatrice | Chicago |     violet     "
   ]
  },
  {
   "cell_type": "markdown",
   "metadata": {
    "deletable": true,
    "editable": true
   },
   "source": [
    "When you are in Chicago you are in clothing store and want to buy each friend a sweater in their favorite color. To buy the correct sweaters, you need to **SELECT** the `name` and `favorite_color` columns for the rows **WHERE** `city = 'Chicago'`.\n",
    "\n",
    "   name   | favorite_color \n",
    ":--------:|:--------------:\n",
    "  Jason   |     yellow     \n",
    " Beatrice |     violet     "
   ]
  },
  {
   "cell_type": "markdown",
   "metadata": {
    "deletable": true,
    "editable": true
   },
   "source": [
    "The store makes hand-knit sweaters in several colors. The store owners have their own table for the prices they wish to charge for each colored sweater:\n",
    "\n",
    " sweater_color | price \n",
    ":-------------:|:-----:\n",
    "      red      | 59.99 \n",
    "    yellow     | 49.99 \n",
    "     blue      | 79.99 \n",
    "    violet     | 89.99 "
   ]
  },
  {
   "cell_type": "markdown",
   "metadata": {
    "deletable": true,
    "editable": true
   },
   "source": [
    "If we want to know how much these sweaters will cost for each friend, first we must **join** the store owner's table with our information about the favorite colors of our friends who live in Chicago. We **join** data together by selecting rows in both tables **WHERE** `favorite_color = sweater_color`:\n",
    "\n",
    "   name   | favorite_color | price \n",
    ":--------:|:--------------:|:-----:\n",
    "  Jason   |     yellow     | 49.99 \n",
    " Beatrice |     violet     | 89.99 \n",
    " \n",
    "And finally, to get the total cost, we must **SUM** the prices in the `price` column after joining the two tables together. We find the total cost is $139.98."
   ]
  },
  {
   "cell_type": "markdown",
   "metadata": {
    "deletable": true,
    "editable": true
   },
   "source": [
    "## Friends example in SQL\n",
    "\n",
    "We can repeat our previous example in Python using sqlite. Jupyter notebooks come with a SQL extension that we will  use to connect to a test database we will create for this occasion."
   ]
  },
  {
   "cell_type": "code",
   "execution_count": 4,
   "metadata": {
    "collapsed": false,
    "deletable": true,
    "editable": true
   },
   "outputs": [
    {
     "name": "stderr",
     "output_type": "stream",
     "text": [
      "/opt/conda/lib/python2.7/site-packages/IPython/config.py:13: ShimWarning: The `IPython.config` package has been deprecated since IPython 4.0. You should import from traitlets.config instead.\n",
      "  \"You should import from traitlets.config instead.\", ShimWarning)\n",
      "/opt/conda/lib/python2.7/site-packages/IPython/utils/traitlets.py:5: UserWarning: IPython.utils.traitlets has moved to a top-level traitlets package.\n",
      "  warn(\"IPython.utils.traitlets has moved to a top-level traitlets package.\")\n"
     ]
    },
    {
     "data": {
      "text/plain": [
       "u'Connected: None@testdb.sqlite'"
      ]
     },
     "execution_count": 4,
     "metadata": {},
     "output_type": "execute_result"
    }
   ],
   "source": [
    "%load_ext sql\n",
    "%sql sqlite:///testdb.sqlite"
   ]
  },
  {
   "cell_type": "markdown",
   "metadata": {
    "deletable": true,
    "editable": true
   },
   "source": [
    "First we must **create** a table to store information about our friends. We also need a table for the store's sweater price data."
   ]
  },
  {
   "cell_type": "code",
   "execution_count": 5,
   "metadata": {
    "collapsed": false,
    "deletable": true,
    "editable": true
   },
   "outputs": [
    {
     "name": "stdout",
     "output_type": "stream",
     "text": [
      "Done.\n",
      "Done.\n",
      "Done.\n",
      "Done.\n"
     ]
    },
    {
     "data": {
      "text/plain": [
       "[]"
      ]
     },
     "execution_count": 5,
     "metadata": {},
     "output_type": "execute_result"
    }
   ],
   "source": [
    "%%sql\n",
    "\n",
    "DROP TABLE IF EXISTS friends;\n",
    "\n",
    "CREATE TABLE friends (\n",
    "    idx               INTEGER PRIMARY KEY AUTOINCREMENT NOT NULL,\n",
    "    name              TEXT NOT NULL,\n",
    "    city              TEXT NOT NULL,\n",
    "    favorite_color    TEXT NOT NULL\n",
    ");\n",
    "\n",
    "DROP TABLE IF EXISTS merchandise;\n",
    "\n",
    "CREATE TABLE IF NOT EXISTS merchandise (\n",
    "    sweater_color     TEXT NOT NULL,\n",
    "    price             NUMBER NOT NULL\n",
    ");"
   ]
  },
  {
   "cell_type": "markdown",
   "metadata": {
    "deletable": true,
    "editable": true
   },
   "source": [
    "Our tables are empty. Let's **insert** data."
   ]
  },
  {
   "cell_type": "code",
   "execution_count": 6,
   "metadata": {
    "collapsed": false,
    "deletable": true,
    "editable": true
   },
   "outputs": [
    {
     "name": "stdout",
     "output_type": "stream",
     "text": [
      "1 rows affected.\n",
      "1 rows affected.\n",
      "1 rows affected.\n",
      "1 rows affected.\n",
      "1 rows affected.\n",
      "1 rows affected.\n",
      "1 rows affected.\n",
      "1 rows affected.\n",
      "1 rows affected.\n",
      "1 rows affected.\n"
     ]
    },
    {
     "data": {
      "text/plain": [
       "[]"
      ]
     },
     "execution_count": 6,
     "metadata": {},
     "output_type": "execute_result"
    }
   ],
   "source": [
    "%%sql\n",
    "\n",
    "INSERT INTO friends (name, city, favorite_color)\n",
    "    VALUES ('John', 'New York', 'blue');\n",
    "\n",
    "INSERT INTO friends (name, city, favorite_color)\n",
    "    VALUES ('Jason', 'Chicago', 'yellow');\n",
    "\n",
    "INSERT INTO friends (name, city, favorite_color)\n",
    "    VALUES ('Mary', 'Washington DC', 'blue');\n",
    "\n",
    "INSERT INTO friends (name, city, favorite_color)\n",
    "    VALUES ('Jason', 'Dallas', 'cyan');\n",
    "\n",
    "INSERT INTO friends (name, city, favorite_color)\n",
    "    VALUES ('Susan', 'Seattle', 'green');\n",
    "\n",
    "INSERT INTO friends (name, city, favorite_color)\n",
    "    VALUES ('Beatrice', 'Chicago', 'violet');\n",
    "\n",
    "INSERT INTO merchandise (sweater_color, price)\n",
    "    VALUES ('red', 59.99);\n",
    "\n",
    "INSERT INTO merchandise (sweater_color, price)\n",
    "    VALUES ('yellow', 49.99);\n",
    "\n",
    "INSERT INTO merchandise (sweater_color, price)\n",
    "    VALUES ('blue', 79.99);\n",
    "    \n",
    "INSERT INTO merchandise (sweater_color, price)\n",
    "    VALUES ('violet', 89.99);"
   ]
  },
  {
   "cell_type": "markdown",
   "metadata": {
    "deletable": true,
    "editable": true
   },
   "source": [
    "We can confirm that our data was inserted correctly by **SELECT**ing the data from each table."
   ]
  },
  {
   "cell_type": "code",
   "execution_count": 7,
   "metadata": {
    "collapsed": false,
    "deletable": true,
    "editable": true
   },
   "outputs": [
    {
     "name": "stdout",
     "output_type": "stream",
     "text": [
      "Done.\n"
     ]
    },
    {
     "data": {
      "text/html": [
       "<table>\n",
       "    <tr>\n",
       "        <th>idx</th>\n",
       "        <th>name</th>\n",
       "        <th>city</th>\n",
       "        <th>favorite_color</th>\n",
       "    </tr>\n",
       "    <tr>\n",
       "        <td>1</td>\n",
       "        <td>John</td>\n",
       "        <td>New York</td>\n",
       "        <td>blue</td>\n",
       "    </tr>\n",
       "    <tr>\n",
       "        <td>2</td>\n",
       "        <td>Jason</td>\n",
       "        <td>Chicago</td>\n",
       "        <td>yellow</td>\n",
       "    </tr>\n",
       "    <tr>\n",
       "        <td>3</td>\n",
       "        <td>Mary</td>\n",
       "        <td>Washington DC</td>\n",
       "        <td>blue</td>\n",
       "    </tr>\n",
       "    <tr>\n",
       "        <td>4</td>\n",
       "        <td>Jason</td>\n",
       "        <td>Dallas</td>\n",
       "        <td>cyan</td>\n",
       "    </tr>\n",
       "    <tr>\n",
       "        <td>5</td>\n",
       "        <td>Susan</td>\n",
       "        <td>Seattle</td>\n",
       "        <td>green</td>\n",
       "    </tr>\n",
       "    <tr>\n",
       "        <td>6</td>\n",
       "        <td>Beatrice</td>\n",
       "        <td>Chicago</td>\n",
       "        <td>violet</td>\n",
       "    </tr>\n",
       "</table>"
      ],
      "text/plain": [
       "[(1, u'John', u'New York', u'blue'),\n",
       " (2, u'Jason', u'Chicago', u'yellow'),\n",
       " (3, u'Mary', u'Washington DC', u'blue'),\n",
       " (4, u'Jason', u'Dallas', u'cyan'),\n",
       " (5, u'Susan', u'Seattle', u'green'),\n",
       " (6, u'Beatrice', u'Chicago', u'violet')]"
      ]
     },
     "execution_count": 7,
     "metadata": {},
     "output_type": "execute_result"
    }
   ],
   "source": [
    "%%sql\n",
    "\n",
    "SELECT * FROM friends;"
   ]
  },
  {
   "cell_type": "code",
   "execution_count": 8,
   "metadata": {
    "collapsed": false,
    "deletable": true,
    "editable": true
   },
   "outputs": [
    {
     "name": "stdout",
     "output_type": "stream",
     "text": [
      "Done.\n"
     ]
    },
    {
     "data": {
      "text/html": [
       "<table>\n",
       "    <tr>\n",
       "        <th>sweater_color</th>\n",
       "        <th>price</th>\n",
       "    </tr>\n",
       "    <tr>\n",
       "        <td>red</td>\n",
       "        <td>59.99</td>\n",
       "    </tr>\n",
       "    <tr>\n",
       "        <td>yellow</td>\n",
       "        <td>49.99</td>\n",
       "    </tr>\n",
       "    <tr>\n",
       "        <td>blue</td>\n",
       "        <td>79.99</td>\n",
       "    </tr>\n",
       "    <tr>\n",
       "        <td>violet</td>\n",
       "        <td>89.99</td>\n",
       "    </tr>\n",
       "</table>"
      ],
      "text/plain": [
       "[(u'red', 59.99), (u'yellow', 49.99), (u'blue', 79.99), (u'violet', 89.99)]"
      ]
     },
     "execution_count": 8,
     "metadata": {},
     "output_type": "execute_result"
    }
   ],
   "source": [
    "%%sql\n",
    "\n",
    "SELECT * FROM merchandise;"
   ]
  },
  {
   "cell_type": "markdown",
   "metadata": {
    "deletable": true,
    "editable": true
   },
   "source": [
    "If we want to know our friend's names and their cities, we can select just those two columns from the friends table."
   ]
  },
  {
   "cell_type": "code",
   "execution_count": 9,
   "metadata": {
    "collapsed": false,
    "deletable": true,
    "editable": true
   },
   "outputs": [
    {
     "name": "stdout",
     "output_type": "stream",
     "text": [
      "Done.\n"
     ]
    },
    {
     "data": {
      "text/html": [
       "<table>\n",
       "    <tr>\n",
       "        <th>favorite_color</th>\n",
       "        <th>city</th>\n",
       "    </tr>\n",
       "    <tr>\n",
       "        <td>blue</td>\n",
       "        <td>New York</td>\n",
       "    </tr>\n",
       "    <tr>\n",
       "        <td>yellow</td>\n",
       "        <td>Chicago</td>\n",
       "    </tr>\n",
       "    <tr>\n",
       "        <td>blue</td>\n",
       "        <td>Washington DC</td>\n",
       "    </tr>\n",
       "    <tr>\n",
       "        <td>cyan</td>\n",
       "        <td>Dallas</td>\n",
       "    </tr>\n",
       "    <tr>\n",
       "        <td>green</td>\n",
       "        <td>Seattle</td>\n",
       "    </tr>\n",
       "    <tr>\n",
       "        <td>violet</td>\n",
       "        <td>Chicago</td>\n",
       "    </tr>\n",
       "</table>"
      ],
      "text/plain": [
       "[(u'blue', u'New York'),\n",
       " (u'yellow', u'Chicago'),\n",
       " (u'blue', u'Washington DC'),\n",
       " (u'cyan', u'Dallas'),\n",
       " (u'green', u'Seattle'),\n",
       " (u'violet', u'Chicago')]"
      ]
     },
     "execution_count": 9,
     "metadata": {},
     "output_type": "execute_result"
    }
   ],
   "source": [
    "%%sql\n",
    "\n",
    "SELECT favorite_color, city FROM friends;"
   ]
  },
  {
   "cell_type": "markdown",
   "metadata": {
    "deletable": true,
    "editable": true
   },
   "source": [
    "To get information about our friends who live in city, we can select just those rows."
   ]
  },
  {
   "cell_type": "code",
   "execution_count": 10,
   "metadata": {
    "collapsed": false,
    "deletable": true,
    "editable": true
   },
   "outputs": [
    {
     "name": "stdout",
     "output_type": "stream",
     "text": [
      "(sqlite3.OperationalError) no such column: price [SQL: u\"SELECT name, city, favorite_color FROM friends WHERE price > 50.00 AND sweater_color <> 'yellow';\"]\n"
     ]
    }
   ],
   "source": [
    "%%sql\n",
    "\n",
    "SELECT name, city, favorite_color FROM friends WHERE price > 50.00 AND sweater_color <> 'yellow';"
   ]
  },
  {
   "cell_type": "markdown",
   "metadata": {
    "deletable": true,
    "editable": true
   },
   "source": [
    "To get the price of the sweater we will give to each friend, we can join our data with the merchandise data."
   ]
  },
  {
   "cell_type": "code",
   "execution_count": 12,
   "metadata": {
    "collapsed": false,
    "deletable": true,
    "editable": true
   },
   "outputs": [
    {
     "name": "stdout",
     "output_type": "stream",
     "text": [
      "Done.\n"
     ]
    },
    {
     "data": {
      "text/html": [
       "<table>\n",
       "    <tr>\n",
       "        <th>name</th>\n",
       "        <th>favorite_color</th>\n",
       "        <th>price</th>\n",
       "    </tr>\n",
       "    <tr>\n",
       "        <td>Jason</td>\n",
       "        <td>yellow</td>\n",
       "        <td>49.99</td>\n",
       "    </tr>\n",
       "    <tr>\n",
       "        <td>Beatrice</td>\n",
       "        <td>violet</td>\n",
       "        <td>89.99</td>\n",
       "    </tr>\n",
       "</table>"
      ],
      "text/plain": [
       "[(u'Jason', u'yellow', 49.99), (u'Beatrice', u'violet', 89.99)]"
      ]
     },
     "execution_count": 12,
     "metadata": {},
     "output_type": "execute_result"
    }
   ],
   "source": [
    "%%sql\n",
    "\n",
    "SELECT\n",
    "    f.name,\n",
    "    f.favorite_color,\n",
    "    m.price\n",
    "FROM\n",
    "    friends as f,\n",
    "    merchandise as m\n",
    "WHERE\n",
    "    f.city = 'Chicago' AND\n",
    "    f.favorite_color = m.sweater_color;"
   ]
  },
  {
   "cell_type": "markdown",
   "metadata": {
    "deletable": true,
    "editable": true
   },
   "source": [
    "Finally, to get the total cost of the sweaters:"
   ]
  },
  {
   "cell_type": "code",
   "execution_count": null,
   "metadata": {
    "collapsed": false,
    "deletable": true,
    "editable": true
   },
   "outputs": [],
   "source": [
    "%%sql\n",
    "\n",
    "SELECT\n",
    "    SUM(m.price) as total_cost\n",
    "FROM\n",
    "    friends as f,\n",
    "    merchandise as m\n",
    "WHERE\n",
    "    f.city = 'Chicago' AND\n",
    "    f.favorite_color = m.sweater_color;"
   ]
  },
  {
   "cell_type": "markdown",
   "metadata": {
    "deletable": true,
    "editable": true
   },
   "source": [
    "# SQL Syntax in Detail\n",
    "\n",
    "**Key nouns:**\n",
    "    - \"Relational\" database\n",
    "    - Table\n",
    "    - Row\n",
    "    - Column\n",
    "    - (Primary key)\n",
    "\n",
    "**Key verbs:**\n",
    "    - `CREATE TABLE` / `DROP TABLE` to modify the structure of the database\n",
    "    - `SELECT` to read out some rows\n",
    "    - `INSERT` / `UPDATE` / `DELETE` to modify (or delete) some rows of tables\n",
    "\n",
    "**Key modifiers:**\n",
    "    - `WHERE`: impose condition\n",
    "    - `ORDER BY`: sort\n",
    "    - `GROUP BY`: aggregate (e.g. pivot tables in Excel)\n",
    "    - `JOIN`: combining tables in one query"
   ]
  },
  {
   "cell_type": "markdown",
   "metadata": {
    "deletable": true,
    "editable": true
   },
   "source": [
    "## Creating a Table\n",
    "\n",
    "You create a table using the syntax\n",
    "\n",
    "```SQL\n",
    "CREATE TABLE tb ([schema])\n",
    "```\n",
    "\n",
    "We can insert rows by using the syntax\n",
    "\n",
    "```SQL\n",
    "INSERT INTO tb ([column]) VALUES ([values]);\n",
    "```\n",
    "\n",
    "**Gotchas:**\n",
    " - For strings you 'must' use single quotes.  (SQLite and MySQL don't care.  Postgres does.)\n",
    " - The primary key is required to uniquely specify a row.  If you do not specify it when you insert an item (and you usually don't) a new unique key will be assigned to you.  If you try to insert a primary key value that already exists for the table, you will get an error.\n",
    " - While not necessarily required, it's a good idea to preceded table creation by table deletion:\n",
    "\n",
    "```SQL\n",
    "DROP TABLE IF EXISTS tb\n",
    "```\n",
    " \n",
    "Below are some examples: we'll worry about the details later."
   ]
  },
  {
   "cell_type": "code",
   "execution_count": null,
   "metadata": {
    "collapsed": false,
    "deletable": true,
    "editable": true
   },
   "outputs": [],
   "source": [
    "%%sql\n",
    "-- This table demonstrates how to create a table, insert values, and display results\n",
    "    \n",
    "DROP TABLE IF EXISTS Employees1;\n",
    "CREATE TABLE Employees1 (\n",
    "    employee_id INTEGER PRIMARY KEY,\n",
    "    name TEXT,\n",
    "    age FLOAT\n",
    ");\n",
    "\n",
    "INSERT INTO Employees1 (name, age) VALUES ('Bob', 2.);\n",
    "INSERT INTO Employees1 (age, name) VALUES (1., 'John');\n",
    "INSERT INTO Employees1 (employee_id, age, name) VALUES (4, 3., 'Jack');\n",
    "\n",
    "SELECT * FROM Employees1;"
   ]
  },
  {
   "cell_type": "markdown",
   "metadata": {
    "deletable": true,
    "editable": true
   },
   "source": [
    "## Schemas\n",
    "SQL is a typed language (if it can be called a language).  That means that its tables have a **schema** or a description of the structure of a database (tables, rows, etc.).  Each column of a table must specify its **type** and a few other attributes.  The basic types are:\n",
    "\n",
    "- `INTEGER` (or `INT`): integer-valued numeric data\n",
    "- `FLOAT`: non-integer numeric data\n",
    "- `TEXT`: strings or textual data\n",
    "- `DATE`: a date object\n",
    "\n",
    "Columns can have optional attributes:\n",
    "\n",
    "- `NOT NULL`: column values can always be null (not specified).  `NOT NULL` forces the table to be specified.\n",
    "- `DEFAULT`: specify the default value in this column."
   ]
  },
  {
   "cell_type": "code",
   "execution_count": 11,
   "metadata": {
    "collapsed": false,
    "deletable": true,
    "editable": true
   },
   "outputs": [
    {
     "name": "stdout",
     "output_type": "stream",
     "text": [
      "Done.\n",
      "Done.\n",
      "1 rows affected.\n",
      "1 rows affected.\n",
      "Done.\n"
     ]
    },
    {
     "data": {
      "text/html": [
       "<table>\n",
       "    <tr>\n",
       "        <th>employee_id</th>\n",
       "        <th>name</th>\n",
       "        <th>age</th>\n",
       "    </tr>\n",
       "    <tr>\n",
       "        <td>1</td>\n",
       "        <td>Bob</td>\n",
       "        <td>None</td>\n",
       "    </tr>\n",
       "    <tr>\n",
       "        <td>2</td>\n",
       "        <td>Jack</td>\n",
       "        <td>3.14</td>\n",
       "    </tr>\n",
       "</table>"
      ],
      "text/plain": [
       "[(1, u'Bob', None), (2, u'Jack', 3.14)]"
      ]
     },
     "execution_count": 11,
     "metadata": {},
     "output_type": "execute_result"
    }
   ],
   "source": [
    "%%sql\n",
    "-- This table demonstrates optional values\n",
    "    \n",
    "DROP TABLE IF EXISTS Employees1;\n",
    "CREATE TABLE Employees1 (\n",
    "    employee_id INTEGER PRIMARY KEY,\n",
    "    name TEXT NOT NULL,\n",
    "    age FLOAT\n",
    ");\n",
    "\n",
    "INSERT INTO Employees1 (name) VALUES ('Bob');\n",
    "INSERT INTO Employees1 (name, age) VALUES ('Jack', 3.14);\n",
    "\n",
    "SELECT * FROM Employees1;"
   ]
  },
  {
   "cell_type": "code",
   "execution_count": 12,
   "metadata": {
    "collapsed": false,
    "deletable": true,
    "editable": true
   },
   "outputs": [
    {
     "name": "stdout",
     "output_type": "stream",
     "text": [
      "Done.\n",
      "Done.\n",
      "1 rows affected.\n",
      "1 rows affected.\n",
      "Done.\n"
     ]
    },
    {
     "data": {
      "text/html": [
       "<table>\n",
       "    <tr>\n",
       "        <th>employee_id</th>\n",
       "        <th>name</th>\n",
       "        <th>age</th>\n",
       "    </tr>\n",
       "    <tr>\n",
       "        <td>1</td>\n",
       "        <td>Bob</td>\n",
       "        <td>-1.0</td>\n",
       "    </tr>\n",
       "    <tr>\n",
       "        <td>2</td>\n",
       "        <td>Jack</td>\n",
       "        <td>3.14</td>\n",
       "    </tr>\n",
       "</table>"
      ],
      "text/plain": [
       "[(1, u'Bob', -1.0), (2, u'Jack', 3.14)]"
      ]
     },
     "execution_count": 12,
     "metadata": {},
     "output_type": "execute_result"
    }
   ],
   "source": [
    "%%sql\n",
    "-- This table demonstrates non-optional values\n",
    "    \n",
    "DROP TABLE IF EXISTS Employees2;\n",
    "CREATE TABLE Employees2 (\n",
    "    employee_id INTEGER PRIMARY KEY,\n",
    "    name TEXT NOT NULL,\n",
    "    age FLOAT DEFAULT -1.\n",
    ");\n",
    "\n",
    "INSERT INTO Employees2 (name) VALUES ('Bob');\n",
    "INSERT INTO Employees2 (name, age) VALUES ('Jack', 3.14);\n",
    "\n",
    "SELECT * from Employees2;"
   ]
  },
  {
   "cell_type": "markdown",
   "metadata": {
    "deletable": true,
    "editable": true
   },
   "source": [
    "## Multiple Tables and the Relational Data Model\n",
    "\n",
    "The database consists of:\n",
    " - **Tables**: Employees, Tasks, and Assignments.  \n",
    "      > Each table represents a different kind of \"relation\" between bits of data.\n",
    "    \n",
    " - Each of the tables has many **rows** (sometimes called \"relations\").  For instance, each row of the `Employees` table represents information about a single employee:  \n",
    " \n",
    "      > Elements of a single column are _homogeneous_ (of the same kind, or data type) but apply to _different logical entities_.\n",
    "      \n",
    " - The information about a single employee is spread amongst the **columns** of the table:\n",
    " \n",
    "      > Elements of a single row are _heterogeneous_ but apply to _a single logical entity_.\n",
    "      \n",
    " - It is good practice to be able to specify each row of each table by a **primary key**: that is by some column, or small combination of columns, that uniquely specifies the row.  The columns `employee_id`, `task_id`, and `assignment_id` are all of this type.  This way, if you want to refer to this row in another table you can do it succinctly by this primary key.  SQL enforces uniqueness of the primary key.\n",
    "      \n",
    "**Examples:** here are some examples of \"relations\" (rows) that occur in practice:\n",
    "1. Storing one-to-one pieces of data for some sort of object: i.e. for each employee we store one name and one phone number; for each project we store one deadline and one description\n",
    "1. Storing one-to-many or many-to-many bits of data: i.e. if we needed to be able to store _many_ phone numbers for each employee, we'd have a new table `Employee_Phone_Numbers` with columns `employee_id` and `phone_number` (the two together can be a _composite primary key_).\n",
    "    \n",
    "**Anti-examples:** alternate, but **worse**, ways to do it would be: \n",
    "\n",
    "1. Adding columns to the `Employees` table for `phone_number_1` to `phone_number_10`.  This is bad because it makes it hard to query against the phone numbers and is inflexible if you want to change the number of phone numbers.  In the _object oriented_ or _key-value_ you could simply make phone_numbers a list or array, and all would be well -- this is not available in the relational model. \n",
    "1. Having the `Employee_Phone_Numbers` table duplicate the employee name and other information.  This is bad because duplication of information across tables wastes space and can lead to update errors.\n",
    "   "
   ]
  },
  {
   "cell_type": "code",
   "execution_count": 13,
   "metadata": {
    "collapsed": false,
    "deletable": true,
    "editable": true
   },
   "outputs": [
    {
     "name": "stdout",
     "output_type": "stream",
     "text": [
      "Done.\n",
      "Done.\n",
      "1 rows affected.\n",
      "1 rows affected.\n",
      "1 rows affected.\n",
      "1 rows affected.\n",
      "1 rows affected.\n",
      "1 rows affected.\n",
      "Done.\n"
     ]
    },
    {
     "data": {
      "text/html": [
       "<table>\n",
       "    <tr>\n",
       "        <th>employee_id</th>\n",
       "        <th>name</th>\n",
       "        <th>hire_date</th>\n",
       "        <th>title</th>\n",
       "        <th>phone_number</th>\n",
       "    </tr>\n",
       "    <tr>\n",
       "        <td>1</td>\n",
       "        <td>Jenny Smith</td>\n",
       "        <td>2010-12-1</td>\n",
       "        <td>Chief Music Office</td>\n",
       "        <td>867-5309</td>\n",
       "    </tr>\n",
       "    <tr>\n",
       "        <td>2</td>\n",
       "        <td>John Doe</td>\n",
       "        <td>2011-12-1</td>\n",
       "        <td>CEO</td>\n",
       "        <td>555-1234</td>\n",
       "    </tr>\n",
       "    <tr>\n",
       "        <td>3</td>\n",
       "        <td>Worker Bee 1</td>\n",
       "        <td>2012-12-01</td>\n",
       "        <td>Worker</td>\n",
       "        <td>555-1201</td>\n",
       "    </tr>\n",
       "    <tr>\n",
       "        <td>4</td>\n",
       "        <td>Worker Bee 2</td>\n",
       "        <td>2012-12-03</td>\n",
       "        <td>Worker</td>\n",
       "        <td>555-1202</td>\n",
       "    </tr>\n",
       "    <tr>\n",
       "        <td>5</td>\n",
       "        <td>Worker Bee 3</td>\n",
       "        <td>2012-12-05</td>\n",
       "        <td>Worker</td>\n",
       "        <td>555-1203</td>\n",
       "    </tr>\n",
       "    <tr>\n",
       "        <td>6</td>\n",
       "        <td>Worker Bee 4</td>\n",
       "        <td>2012-12-07</td>\n",
       "        <td>Worker</td>\n",
       "        <td>555-1204</td>\n",
       "    </tr>\n",
       "</table>"
      ],
      "text/plain": [
       "[(1, u'Jenny Smith', u'2010-12-1', u'Chief Music Office', u'867-5309'),\n",
       " (2, u'John Doe', u'2011-12-1', u'CEO', u'555-1234'),\n",
       " (3, u'Worker Bee 1', u'2012-12-01', u'Worker', u'555-1201'),\n",
       " (4, u'Worker Bee 2', u'2012-12-03', u'Worker', u'555-1202'),\n",
       " (5, u'Worker Bee 3', u'2012-12-05', u'Worker', u'555-1203'),\n",
       " (6, u'Worker Bee 4', u'2012-12-07', u'Worker', u'555-1204')]"
      ]
     },
     "execution_count": 13,
     "metadata": {},
     "output_type": "execute_result"
    }
   ],
   "source": [
    "%%sql\n",
    "DROP TABLE IF EXISTS Employees;\n",
    "CREATE TABLE Employees (\n",
    "    employee_id INTEGER PRIMARY KEY,\n",
    "    name TEXT NOT NULL,\n",
    "    hire_date DATE NOT NULL,\n",
    "    title TEXT NOT NULL,\n",
    "    phone_number TEXT NOT NULL\n",
    ");\n",
    "\n",
    "INSERT INTO Employees VALUES (1, 'Jenny Smith', '2010-12-1', 'Chief Music Office', '867-5309');\n",
    "INSERT INTO Employees (title, name, phone_number, hire_date) VALUES ('CEO', 'John Doe', '555-1234', '2011-12-1');\n",
    "INSERT INTO Employees (title, name, phone_number, hire_date) VALUES ('Worker', 'Worker Bee 1', '555-1201', '2012-12-01');\n",
    "INSERT INTO Employees (title, name, phone_number, hire_date) VALUES ('Worker', 'Worker Bee 2', '555-1202', '2012-12-03');\n",
    "INSERT INTO Employees (title, name, phone_number, hire_date) VALUES ('Worker', 'Worker Bee 3', '555-1203', '2012-12-05');\n",
    "INSERT INTO Employees (title, name, phone_number, hire_date) VALUES ('Worker', 'Worker Bee 4', '555-1204', '2012-12-07');\n",
    "\n",
    "SELECT * FROM Employees;"
   ]
  },
  {
   "cell_type": "code",
   "execution_count": 14,
   "metadata": {
    "collapsed": false,
    "deletable": true,
    "editable": true
   },
   "outputs": [
    {
     "name": "stdout",
     "output_type": "stream",
     "text": [
      "Done.\n",
      "Done.\n",
      "1 rows affected.\n",
      "1 rows affected.\n",
      "1 rows affected.\n",
      "Done.\n"
     ]
    },
    {
     "data": {
      "text/html": [
       "<table>\n",
       "    <tr>\n",
       "        <th>task_id</th>\n",
       "        <th>deadline</th>\n",
       "        <th>status</th>\n",
       "        <th>description</th>\n",
       "    </tr>\n",
       "    <tr>\n",
       "        <td>1</td>\n",
       "        <td>2012-12-11</td>\n",
       "        <td>1</td>\n",
       "        <td>Hire worker bees.</td>\n",
       "    </tr>\n",
       "    <tr>\n",
       "        <td>2</td>\n",
       "        <td>2014-07-18</td>\n",
       "        <td>0</td>\n",
       "        <td>Save the world.</td>\n",
       "    </tr>\n",
       "    <tr>\n",
       "        <td>3</td>\n",
       "        <td>2014-12-11</td>\n",
       "        <td>0</td>\n",
       "        <td>Cost cutting on worker bees.</td>\n",
       "    </tr>\n",
       "</table>"
      ],
      "text/plain": [
       "[(1, u'2012-12-11', 1, u'Hire worker bees.'),\n",
       " (2, u'2014-07-18', 0, u'Save the world.'),\n",
       " (3, u'2014-12-11', 0, u'Cost cutting on worker bees.')]"
      ]
     },
     "execution_count": 14,
     "metadata": {},
     "output_type": "execute_result"
    }
   ],
   "source": [
    "%%sql\n",
    "DROP TABLE IF EXISTS Tasks;\n",
    "CREATE TABLE Tasks (\n",
    "    task_id INTEGER PRIMARY KEY,\n",
    "    deadline DATE NOT NULL,\n",
    "    status INT NOT NULL DEFAULT 0,\n",
    "    description TEXT\n",
    ");\n",
    "\n",
    "INSERT INTO Tasks (deadline, description, status) VALUES ('2012-12-11', 'Hire worker bees.', 1);\n",
    "INSERT INTO Tasks (deadline, description) VALUES ('2014-07-18', 'Save the world.');\n",
    "INSERT INTO Tasks (deadline, description, status) VALUES ('2014-12-11', 'Cost cutting on worker bees.', 0);\n",
    "\n",
    "SELECT * FROM Tasks;"
   ]
  },
  {
   "cell_type": "code",
   "execution_count": 15,
   "metadata": {
    "collapsed": false,
    "deletable": true,
    "editable": true
   },
   "outputs": [
    {
     "name": "stdout",
     "output_type": "stream",
     "text": [
      "Done.\n",
      "Done.\n",
      "1 rows affected.\n",
      "1 rows affected.\n",
      "1 rows affected.\n",
      "1 rows affected.\n",
      "1 rows affected.\n",
      "1 rows affected.\n",
      "1 rows affected.\n",
      "Done.\n"
     ]
    },
    {
     "data": {
      "text/html": [
       "<table>\n",
       "    <tr>\n",
       "        <th>assignment_id</th>\n",
       "        <th>task_id</th>\n",
       "        <th>employee_id</th>\n",
       "        <th>start_date</th>\n",
       "        <th>end_date</th>\n",
       "        <th>charge_code</th>\n",
       "        <th>fraction_assignment</th>\n",
       "    </tr>\n",
       "    <tr>\n",
       "        <td>1</td>\n",
       "        <td>1</td>\n",
       "        <td>2</td>\n",
       "        <td>2012-01-01</td>\n",
       "        <td>2012-12-31</td>\n",
       "        <td>INTERNAL</td>\n",
       "        <td>0.5</td>\n",
       "    </tr>\n",
       "    <tr>\n",
       "        <td>2</td>\n",
       "        <td>2</td>\n",
       "        <td>3</td>\n",
       "        <td>2013-01-01</td>\n",
       "        <td>2014-07-18</td>\n",
       "        <td>CJX5</td>\n",
       "        <td>1.0</td>\n",
       "    </tr>\n",
       "    <tr>\n",
       "        <td>3</td>\n",
       "        <td>2</td>\n",
       "        <td>4</td>\n",
       "        <td>2013-01-01</td>\n",
       "        <td>2014-07-18</td>\n",
       "        <td>CJX5</td>\n",
       "        <td>1.0</td>\n",
       "    </tr>\n",
       "    <tr>\n",
       "        <td>4</td>\n",
       "        <td>2</td>\n",
       "        <td>5</td>\n",
       "        <td>2013-01-01</td>\n",
       "        <td>2014-07-18</td>\n",
       "        <td>CJX5</td>\n",
       "        <td>1.0</td>\n",
       "    </tr>\n",
       "    <tr>\n",
       "        <td>5</td>\n",
       "        <td>2</td>\n",
       "        <td>6</td>\n",
       "        <td>2013-01-01</td>\n",
       "        <td>2014-07-18</td>\n",
       "        <td>CJX5</td>\n",
       "        <td>1.0</td>\n",
       "    </tr>\n",
       "    <tr>\n",
       "        <td>6</td>\n",
       "        <td>2</td>\n",
       "        <td>2</td>\n",
       "        <td>2013-01-01</td>\n",
       "        <td>2014-07-18</td>\n",
       "        <td>CJX5</td>\n",
       "        <td>0.75</td>\n",
       "    </tr>\n",
       "    <tr>\n",
       "        <td>7</td>\n",
       "        <td>3</td>\n",
       "        <td>2</td>\n",
       "        <td>2013-01-01</td>\n",
       "        <td>2014-07-18</td>\n",
       "        <td>INTERNAL</td>\n",
       "        <td>0.25</td>\n",
       "    </tr>\n",
       "</table>"
      ],
      "text/plain": [
       "[(1, 1, 2, u'2012-01-01', u'2012-12-31', u'INTERNAL', 0.5),\n",
       " (2, 2, 3, u'2013-01-01', u'2014-07-18', u'CJX5', 1.0),\n",
       " (3, 2, 4, u'2013-01-01', u'2014-07-18', u'CJX5', 1.0),\n",
       " (4, 2, 5, u'2013-01-01', u'2014-07-18', u'CJX5', 1.0),\n",
       " (5, 2, 6, u'2013-01-01', u'2014-07-18', u'CJX5', 1.0),\n",
       " (6, 2, 2, u'2013-01-01', u'2014-07-18', u'CJX5', 0.75),\n",
       " (7, 3, 2, u'2013-01-01', u'2014-07-18', u'INTERNAL', 0.25)]"
      ]
     },
     "execution_count": 15,
     "metadata": {},
     "output_type": "execute_result"
    }
   ],
   "source": [
    "%%sql\n",
    "DROP TABLE IF EXISTS Assignments;\n",
    "CREATE TABLE Assignments (\n",
    "    assignment_id INTEGER PRIMARY KEY,\n",
    "    task_id INTEGER NOT NULL,\n",
    "    employee_id INTEGER NOT NULL,\n",
    "    start_date DATE NOT NULL,\n",
    "    end_date DATE NOT NULL,\n",
    "    charge_code TEXT NOT NULL,  -- This should probably be its own table!\n",
    "    fraction_assignment REAL NOT NULL\n",
    ");\n",
    "\n",
    "INSERT INTO Assignments (task_id, employee_id, start_date, end_date, fraction_assignment, charge_code) VALUES (1, 2, '2012-01-01', '2012-12-31', 0.5, 'INTERNAL');\n",
    "INSERT INTO Assignments (task_id, employee_id, start_date, end_date, fraction_assignment, charge_code) VALUES (2, 3, '2013-01-01', '2014-07-18', 1.0, 'CJX5');\n",
    "INSERT INTO Assignments (task_id, employee_id, start_date, end_date, fraction_assignment, charge_code) VALUES (2, 4, '2013-01-01', '2014-07-18', 1.0, 'CJX5');\n",
    "INSERT INTO Assignments (task_id, employee_id, start_date, end_date, fraction_assignment, charge_code) VALUES (2, 5, '2013-01-01', '2014-07-18', 1.0, 'CJX5');\n",
    "INSERT INTO Assignments (task_id, employee_id, start_date, end_date, fraction_assignment, charge_code) VALUES (2, 6, '2013-01-01', '2014-07-18', 1.0, 'CJX5');\n",
    "INSERT INTO Assignments (task_id, employee_id, start_date, end_date, fraction_assignment, charge_code) VALUES (2, 2, '2013-01-01', '2014-07-18', 0.75, 'CJX5');\n",
    "INSERT INTO Assignments (task_id, employee_id, start_date, end_date, fraction_assignment, charge_code) VALUES (3, 2, '2013-01-01', '2014-07-18', 0.25, 'INTERNAL');\n",
    "\n",
    "SELECT * FROM Assignments;"
   ]
  },
  {
   "cell_type": "code",
   "execution_count": 16,
   "metadata": {
    "collapsed": false,
    "deletable": true,
    "editable": true
   },
   "outputs": [
    {
     "name": "stdout",
     "output_type": "stream",
     "text": [
      "Done.\n",
      "Done.\n",
      "1 rows affected.\n",
      "1 rows affected.\n",
      "1 rows affected.\n",
      "1 rows affected.\n",
      "Done.\n"
     ]
    },
    {
     "data": {
      "text/html": [
       "<table>\n",
       "    <tr>\n",
       "        <th>pension_id</th>\n",
       "        <th>employee_id</th>\n",
       "        <th>plan_name</th>\n",
       "        <th>funding_amount</th>\n",
       "    </tr>\n",
       "    <tr>\n",
       "        <td>1</td>\n",
       "        <td>3</td>\n",
       "        <td>Retirement Plan A</td>\n",
       "        <td>3000</td>\n",
       "    </tr>\n",
       "    <tr>\n",
       "        <td>2</td>\n",
       "        <td>4</td>\n",
       "        <td>Retirement Plan A</td>\n",
       "        <td>5000</td>\n",
       "    </tr>\n",
       "    <tr>\n",
       "        <td>3</td>\n",
       "        <td>5</td>\n",
       "        <td>Retirement Plan B</td>\n",
       "        <td>5000</td>\n",
       "    </tr>\n",
       "    <tr>\n",
       "        <td>4</td>\n",
       "        <td>6</td>\n",
       "        <td>Retirement Plan B</td>\n",
       "        <td>1000</td>\n",
       "    </tr>\n",
       "</table>"
      ],
      "text/plain": [
       "[(1, 3, u'Retirement Plan A', 3000),\n",
       " (2, 4, u'Retirement Plan A', 5000),\n",
       " (3, 5, u'Retirement Plan B', 5000),\n",
       " (4, 6, u'Retirement Plan B', 1000)]"
      ]
     },
     "execution_count": 16,
     "metadata": {},
     "output_type": "execute_result"
    }
   ],
   "source": [
    "%%sql\n",
    "\n",
    "DROP TABLE IF EXISTS Pension_Choices;\n",
    "CREATE TABLE Pension_Choices (\n",
    "    pension_id INTEGER PRIMARY KEY,\n",
    "    employee_id INTEGER NOT NULL, \n",
    "    plan_name TEXT NOT NULL,\n",
    "    funding_amount INTEGER NOT NULL);\n",
    "\n",
    "INSERT INTO Pension_Choices (employee_id, plan_name, funding_amount) VALUES (3, 'Retirement Plan A', '3000');\n",
    "INSERT INTO Pension_Choices (employee_id, plan_name, funding_amount) VALUES (4, 'Retirement Plan A', '5000');\n",
    "INSERT INTO Pension_Choices (employee_id, plan_name, funding_amount) VALUES (5, 'Retirement Plan B', '5000');\n",
    "INSERT INTO Pension_Choices (employee_id, plan_name, funding_amount) VALUES (6, 'Retirement Plan B', '1000');\n",
    "\n",
    "SELECT * FROM Pension_Choices;"
   ]
  },
  {
   "cell_type": "markdown",
   "metadata": {
    "deletable": true,
    "editable": true
   },
   "source": [
    "## Selecting data\n",
    "The basic way to read rows from a single table is\n",
    "\n",
    "```SQL\n",
    "SELECT expression1, expression2, ... FROM table_name [WHERE condition] [GROUP BY columns] [ORDER BY columns] [LIMIT number];\n",
    "```\n",
    "\n",
    "Brackets denote parts which are optional.  We'll explain everything except for `GROUP BY`.  Let us explain the parts:\n",
    "   1. __\"Expressions\": __\n",
    "   \n",
    "   The basic example is just a column name.  Another example is the placeholder `*`: it indicates _all_ columns.  You can also perform arithmetic (e.g. `column_1 + column_2`) and similar minor operations.\n",
    "\n",
    "   1. __`WHERE` (\"condition\"):__\n",
    "   \n",
    "   An example would be `column_name = value`, and for partial string matches there is a special operator `LIKE`.  You can combine these with the usual binary operators (AND, OR) and parentheses for grouping.\n",
    "\n",
    "   1. __`ORDER BY` (sorting):__\n",
    "   \n",
    "   You can add a `SORT BY column_name1, column_name2, ...` to sort the results by the given column (applied in left-to-right order).  By default the sorting is ascending.  If you want it to be descending write e.g. `column_name1 DESC` (you can also write `ASC` for ascending to disambiguate).\n",
    " \n",
    "   1. __`LIMIT`:__\n",
    "   \n",
    "   If you want to just get at most the first N rows that would be returned, add on `LIMIT N`.\n",
    "   \n",
    "   1. __`AS` (named expressions):__\n",
    "   \n",
    "   You can specify new names for the expressions that you're selecting.  This is especially useful when you're using aggregate functions: \n",
    "```SQL\n",
    "SELECT SUM(salary) as 'Total Salary' FROM ...\n",
    "```\n",
    "  \n",
    "Finally two remarks: SQL is not case sensitive.  It is just common to use all-caps for the commands, and normal case for table / column names.  It is also whitespace and new-line insensitive, so you can format your commands on multiple lines as you please.\n",
    "\n",
    "\n",
    "Now for a bunch of examples:"
   ]
  },
  {
   "cell_type": "code",
   "execution_count": 19,
   "metadata": {
    "collapsed": false,
    "deletable": true,
    "editable": true
   },
   "outputs": [
    {
     "name": "stdout",
     "output_type": "stream",
     "text": [
      "Done.\n"
     ]
    },
    {
     "data": {
      "text/html": [
       "<table>\n",
       "    <tr>\n",
       "        <th>Count</th>\n",
       "    </tr>\n",
       "    <tr>\n",
       "        <td>2</td>\n",
       "    </tr>\n",
       "</table>"
      ],
      "text/plain": [
       "[(2,)]"
      ]
     },
     "execution_count": 19,
     "metadata": {},
     "output_type": "execute_result"
    }
   ],
   "source": [
    "%%sql\n",
    "\n",
    "SELECT\n",
    "    count(*) as Count\n",
    "FROM\n",
    "    Tasks\n",
    "WHERE\n",
    "    status=0;"
   ]
  },
  {
   "cell_type": "code",
   "execution_count": 21,
   "metadata": {
    "collapsed": false,
    "deletable": true,
    "editable": true
   },
   "outputs": [
    {
     "name": "stdout",
     "output_type": "stream",
     "text": [
      "Done.\n"
     ]
    },
    {
     "data": {
      "text/html": [
       "<table>\n",
       "    <tr>\n",
       "        <th>assignment_id</th>\n",
       "        <th>duration</th>\n",
       "    </tr>\n",
       "    <tr>\n",
       "        <td>1</td>\n",
       "        <td>365.0</td>\n",
       "    </tr>\n",
       "    <tr>\n",
       "        <td>6</td>\n",
       "        <td>563.0</td>\n",
       "    </tr>\n",
       "    <tr>\n",
       "        <td>7</td>\n",
       "        <td>563.0</td>\n",
       "    </tr>\n",
       "</table>"
      ],
      "text/plain": [
       "[(1, 365.0), (6, 563.0), (7, 563.0)]"
      ]
     },
     "execution_count": 21,
     "metadata": {},
     "output_type": "execute_result"
    }
   ],
   "source": [
    "%%sql\n",
    "\n",
    "SELECT\n",
    "    assignment_id,\n",
    "    julianday(end_date) - julianday(start_date) AS duration\n",
    "FROM\n",
    "    Assignments\n",
    "WHERE\n",
    "    employee_id=2;"
   ]
  },
  {
   "cell_type": "markdown",
   "metadata": {
    "deletable": true,
    "editable": true
   },
   "source": [
    "## CASE WHEN\n",
    "\n",
    "Another useful structure that can be an alternative to `WHERE` statements is the `CASE WHEN` command. It essentially operates as a switch statement where you can specify multiple conditions and different outcomes for each condition."
   ]
  },
  {
   "cell_type": "code",
   "execution_count": 22,
   "metadata": {
    "collapsed": false,
    "deletable": true,
    "editable": true
   },
   "outputs": [
    {
     "name": "stdout",
     "output_type": "stream",
     "text": [
      "Done.\n"
     ]
    },
    {
     "data": {
      "text/html": [
       "<table>\n",
       "    <tr>\n",
       "        <th>assignment_id</th>\n",
       "        <th>length</th>\n",
       "    </tr>\n",
       "    <tr>\n",
       "        <td>1</td>\n",
       "        <td>one year</td>\n",
       "    </tr>\n",
       "    <tr>\n",
       "        <td>2</td>\n",
       "        <td>years</td>\n",
       "    </tr>\n",
       "    <tr>\n",
       "        <td>3</td>\n",
       "        <td>years</td>\n",
       "    </tr>\n",
       "    <tr>\n",
       "        <td>4</td>\n",
       "        <td>years</td>\n",
       "    </tr>\n",
       "    <tr>\n",
       "        <td>5</td>\n",
       "        <td>years</td>\n",
       "    </tr>\n",
       "    <tr>\n",
       "        <td>6</td>\n",
       "        <td>years</td>\n",
       "    </tr>\n",
       "    <tr>\n",
       "        <td>7</td>\n",
       "        <td>years</td>\n",
       "    </tr>\n",
       "</table>"
      ],
      "text/plain": [
       "[(1, u'one year'),\n",
       " (2, u'years'),\n",
       " (3, u'years'),\n",
       " (4, u'years'),\n",
       " (5, u'years'),\n",
       " (6, u'years'),\n",
       " (7, u'years')]"
      ]
     },
     "execution_count": 22,
     "metadata": {},
     "output_type": "execute_result"
    }
   ],
   "source": [
    "%%sql\n",
    "\n",
    "SELECT\n",
    "    assignment_id, CASE\n",
    "        WHEN julianday(end_date) - julianday(start_date) < 365 THEN \"months\"\n",
    "        WHEN julianday(end_date) - julianday(start_date) > 365 THEN \"years\"\n",
    "        ELSE \"one year\"\n",
    "        END \"length\"\n",
    "FROM Assignments;"
   ]
  },
  {
   "cell_type": "markdown",
   "metadata": {
    "deletable": true,
    "editable": true
   },
   "source": [
    "## Groupby (aggregation)\n",
    "   \n",
    "Finally, dd a `GROUP BY column_name1, ...` term to aggregate the results along the listed columns.   This means that for _other_ columns you mention in the expressions you must explicitly specify an _aggregate method_ (e.g. `SUM(column_1)`).\n",
    "   \n",
    "   You can use these aggregate methods even without a GROUP BY, to get information for the whole table: e.g.\n",
    "  ```SQL \n",
    "SELECT COUNT(1), SUM(salary) FROM employees GROUP BY department;\n",
    "   ```\n",
    "   returns the number of employees and their total salary by department.  Below are some more examples"
   ]
  },
  {
   "cell_type": "code",
   "execution_count": 25,
   "metadata": {
    "collapsed": false,
    "deletable": true,
    "editable": true
   },
   "outputs": [
    {
     "name": "stdout",
     "output_type": "stream",
     "text": [
      "Done.\n"
     ]
    },
    {
     "data": {
      "text/html": [
       "<table>\n",
       "    <tr>\n",
       "        <th>plan_name</th>\n",
       "        <th>count(1)</th>\n",
       "        <th>sum(funding_amount)</th>\n",
       "    </tr>\n",
       "    <tr>\n",
       "        <td>Retirement Plan A</td>\n",
       "        <td>2</td>\n",
       "        <td>8000</td>\n",
       "    </tr>\n",
       "    <tr>\n",
       "        <td>Retirement Plan B</td>\n",
       "        <td>2</td>\n",
       "        <td>6000</td>\n",
       "    </tr>\n",
       "</table>"
      ],
      "text/plain": [
       "[(u'Retirement Plan A', 2, 8000), (u'Retirement Plan B', 2, 6000)]"
      ]
     },
     "execution_count": 25,
     "metadata": {},
     "output_type": "execute_result"
    }
   ],
   "source": [
    "%%sql\n",
    "\n",
    "SELECT plan_name, count(1), sum(funding_amount) FROM Pension_choices GROUP BY plan_name"
   ]
  },
  {
   "cell_type": "code",
   "execution_count": 27,
   "metadata": {
    "collapsed": false,
    "deletable": true,
    "editable": true
   },
   "outputs": [
    {
     "name": "stdout",
     "output_type": "stream",
     "text": [
      "Done.\n"
     ]
    },
    {
     "data": {
      "text/html": [
       "<table>\n",
       "    <tr>\n",
       "        <th>task_id</th>\n",
       "        <th>Total_Worker_Days</th>\n",
       "    </tr>\n",
       "    <tr>\n",
       "        <td>2</td>\n",
       "        <td>2674.25</td>\n",
       "    </tr>\n",
       "    <tr>\n",
       "        <td>1</td>\n",
       "        <td>182.5</td>\n",
       "    </tr>\n",
       "    <tr>\n",
       "        <td>3</td>\n",
       "        <td>140.75</td>\n",
       "    </tr>\n",
       "</table>"
      ],
      "text/plain": [
       "[(2, 2674.25), (1, 182.5), (3, 140.75)]"
      ]
     },
     "execution_count": 27,
     "metadata": {},
     "output_type": "execute_result"
    }
   ],
   "source": [
    "%%sql\n",
    "\n",
    "SELECT\n",
    "    task_id,\n",
    "    SUM((julianday(end_date) - julianday(start_date))*fraction_assignment) as Total_Worker_Days\n",
    "FROM\n",
    "    Assignments\n",
    "GROUP BY task_id\n",
    "ORDER BY Total_Worker_Days DESC;"
   ]
  },
  {
   "cell_type": "markdown",
   "metadata": {
    "deletable": true,
    "editable": true
   },
   "source": [
    "## Combining tables: Joins and subqueries\n",
    "\n",
    "It's pretty boring to only use one table.  We can combine data from multiple tables in two main ways: joins and subqueries.\n",
    "\n",
    "**Nicknames:**\n",
    "\n",
    "There's a common bit of syntax involved in each: you can write\n",
    "\n",
    "    table_name name\n",
    "\n",
    "to say that table `table_name` is going to participate in this query with a \"nickname\" of name.  Then, to refer to one of its columns you write\n",
    "\n",
    "    name.column_name\n",
    "\n",
    "You could also have not given it the nickname, and then you could've written `table_name.column_name`... but that gets old fast.  Also, in some fancy examples the same table enters into a query twice -- at which point you need to name them.\n",
    "\n",
    "\n",
    "**Subqueries:**\n",
    "It turns out that both the expressions you were SELECTing __and__ the \"table\" you were selecting FROM can be subqueries (__and__ quantities in WHEREs)!  Let's just see it by example:"
   ]
  },
  {
   "cell_type": "code",
   "execution_count": 28,
   "metadata": {
    "collapsed": false,
    "deletable": true,
    "editable": true
   },
   "outputs": [
    {
     "name": "stdout",
     "output_type": "stream",
     "text": [
      "Done.\n"
     ]
    },
    {
     "data": {
      "text/html": [
       "<table>\n",
       "    <tr>\n",
       "        <th>task_id</th>\n",
       "        <th>description</th>\n",
       "        <th>Total_Worker_Days</th>\n",
       "    </tr>\n",
       "    <tr>\n",
       "        <td>2</td>\n",
       "        <td>Save the world.</td>\n",
       "        <td>2674.25</td>\n",
       "    </tr>\n",
       "    <tr>\n",
       "        <td>1</td>\n",
       "        <td>Hire worker bees.</td>\n",
       "        <td>182.5</td>\n",
       "    </tr>\n",
       "    <tr>\n",
       "        <td>3</td>\n",
       "        <td>Cost cutting on worker bees.</td>\n",
       "        <td>140.75</td>\n",
       "    </tr>\n",
       "</table>"
      ],
      "text/plain": [
       "[(2, u'Save the world.', 2674.25),\n",
       " (1, u'Hire worker bees.', 182.5),\n",
       " (3, u'Cost cutting on worker bees.', 140.75)]"
      ]
     },
     "execution_count": 28,
     "metadata": {},
     "output_type": "execute_result"
    }
   ],
   "source": [
    "%%sql\n",
    "\n",
    "SELECT a.task_id, \n",
    "    (SELECT description \n",
    "     FROM Tasks t WHERE t.task_id=a.task_id) as description, \n",
    "    SUM((julianday(a.end_date) - julianday(a.start_date)) \n",
    "                * a.fraction_assignment) as Total_Worker_Days\n",
    "    FROM Assignments a\n",
    "    GROUP BY a.task_id\n",
    "    ORDER BY Total_Worker_Days DESC;"
   ]
  },
  {
   "cell_type": "code",
   "execution_count": null,
   "metadata": {
    "collapsed": false,
    "deletable": true,
    "editable": true
   },
   "outputs": [],
   "source": [
    "%%sql\n",
    "\n",
    "SELECT ad.task_id, ad.Total_Worker_Days \n",
    "    FROM (SELECT task_id, SUM((julianday(end_date) - julianday(start_date))*fraction_assignment) as Total_Worker_Days\n",
    "            FROM Assignments\n",
    "            GROUP BY task_id\n",
    "            ORDER BY Total_Worker_Days DESC) as ad\n",
    "    WHERE ad.task_id=(SELECT task_id FROM Tasks WHERE description LIKE 'Save%');"
   ]
  },
  {
   "cell_type": "markdown",
   "metadata": {
    "deletable": true,
    "editable": true
   },
   "source": [
    "**Joins:**\n",
    "Many things that can be expressed by a subquery can be expressed more clearly (and will often run faster) as a `join`.   \n",
    "\n",
    "The basic idea of joins is to imagine taking the _product_ of your two tables: i.e. a row is now an ordered pair of a row of table 1 and a row of table 2.  You could -- of course -- do this and make it its own table, but the ability to write JOINs means that you don't have to waste the storage space and risk un-needed duplication of data.\n",
    "\n",
    "The join in the previous paragraph is called the full or outer join, because there are no conditions.  In practice, you'll want to take the subset of the product where some condition holds (i.e. \"join\" the two tables along a common id column).  This can be expressed pretty much exactly as I just said, in SQL:\n",
    "    \n",
    "```SQL\n",
    "       SELECT * FROM table1, table2\n",
    "                WHERE table1.column_name1 = table2.column_name2;\n",
    "```\n",
    "\n",
    "In SQL terms, this is called an `INNER JOIN`: You do not get a row in the result of the SELECT unless you can match a row in table 1 with a match in table 2 along the given columns.  There is alternate syntax for it:\n",
    "```SQL\n",
    "SELECT * FROM table1\n",
    "        INNER JOIN table2\n",
    "        ON table1.column_name1=table2.column_name2;\n",
    "```"
   ]
  },
  {
   "cell_type": "code",
   "execution_count": 29,
   "metadata": {
    "collapsed": false,
    "deletable": true,
    "editable": true
   },
   "outputs": [
    {
     "name": "stdout",
     "output_type": "stream",
     "text": [
      "Done.\n"
     ]
    },
    {
     "data": {
      "text/html": [
       "<table>\n",
       "    <tr>\n",
       "        <th>assignment_id</th>\n",
       "        <th>task_id</th>\n",
       "        <th>employee_id</th>\n",
       "        <th>start_date</th>\n",
       "        <th>end_date</th>\n",
       "        <th>charge_code</th>\n",
       "        <th>fraction_assignment</th>\n",
       "        <th>task_id_1</th>\n",
       "        <th>deadline</th>\n",
       "        <th>status</th>\n",
       "        <th>description</th>\n",
       "    </tr>\n",
       "    <tr>\n",
       "        <td>6</td>\n",
       "        <td>2</td>\n",
       "        <td>2</td>\n",
       "        <td>2013-01-01</td>\n",
       "        <td>2014-07-18</td>\n",
       "        <td>CJX5</td>\n",
       "        <td>0.75</td>\n",
       "        <td>2</td>\n",
       "        <td>2014-07-18</td>\n",
       "        <td>0</td>\n",
       "        <td>Save the world.</td>\n",
       "    </tr>\n",
       "    <tr>\n",
       "        <td>7</td>\n",
       "        <td>3</td>\n",
       "        <td>2</td>\n",
       "        <td>2013-01-01</td>\n",
       "        <td>2014-07-18</td>\n",
       "        <td>INTERNAL</td>\n",
       "        <td>0.25</td>\n",
       "        <td>3</td>\n",
       "        <td>2014-12-11</td>\n",
       "        <td>0</td>\n",
       "        <td>Cost cutting on worker bees.</td>\n",
       "    </tr>\n",
       "</table>"
      ],
      "text/plain": [
       "[(6, 2, 2, u'2013-01-01', u'2014-07-18', u'CJX5', 0.75, 2, u'2014-07-18', 0, u'Save the world.'),\n",
       " (7, 3, 2, u'2013-01-01', u'2014-07-18', u'INTERNAL', 0.25, 3, u'2014-12-11', 0, u'Cost cutting on worker bees.')]"
      ]
     },
     "execution_count": 29,
     "metadata": {},
     "output_type": "execute_result"
    }
   ],
   "source": [
    "%%sql\n",
    "\n",
    "SELECT a.*, t.* \n",
    "  FROM Assignments a, Tasks t \n",
    "  WHERE a.task_id=t.task_id \n",
    "    AND employee_id=2 \n",
    "    AND status=0\n",
    "  ORDER BY t.deadline;"
   ]
  },
  {
   "cell_type": "markdown",
   "metadata": {
    "deletable": true,
    "editable": true
   },
   "source": [
    "## UNION and UNION ALL\n",
    "\n",
    "These commands are used for joining data row-wise either between tables or within the same table. In general, the syntax looks like `(SELECT statement) UNION (SELECT STATEMENT)` where both SELECT statements have the same columns.\n",
    "\n",
    "You can imagine that this can be used for both filtering and aggregation of records.\n",
    "\n",
    "The difference between UNION and UNION ALL is that the former removes duplicate records (and therefore is more expensive performance-wise) and the latter does not."
   ]
  },
  {
   "cell_type": "code",
   "execution_count": null,
   "metadata": {
    "collapsed": false,
    "deletable": true,
    "editable": true
   },
   "outputs": [],
   "source": [
    "%%sql\n",
    "\n",
    "SELECT task_id, employee_id FROM Assignments WHERE employee_id = 2\n",
    "UNION ALL\n",
    "SELECT task_id, employee_id FROM Assignments WHERE employee_id = 4;"
   ]
  },
  {
   "cell_type": "markdown",
   "metadata": {
    "deletable": true,
    "editable": true
   },
   "source": [
    "### Further reading\n",
    "\n",
    "SQL:\n",
    "- http://www.w3schools.com/sql/default.asp (and http://www.w3schools.com/sql/sql_quickref.asp)\n",
    "\n",
    "Relational databases and the normal forms:\n",
    "- http://en.wikipedia.org/wiki/Database_normalization#Normal_forms"
   ]
  },
  {
   "cell_type": "markdown",
   "metadata": {
    "deletable": true,
    "editable": true
   },
   "source": [
    "## Modifying tables\n",
    "\n",
    "There are also queries of the form\n",
    "\n",
    "        DELETE FROM table_name [WHERE condition]\n",
    "        \n",
    "        UPDATE table_name SET column_name1=value [WHERE condition];\n",
    "\n",
    "that delete / modify rows as you might expect.  You can combine both of these with inner queries (and in Postgres, you can combine UPDATE with JOINs) for interesting effects.\n",
    "\n",
    "To modify columns there are commands of the form\n",
    "\n",
    "        ALTER TABLE table_name DROP COLUMN column_name;        \n",
    "        ALTER TABLE table_name ADD COLUMN column_name column_type;\n",
    "        \n",
    "for instance\n",
    "\n",
    "        ALTER TABLE Employees DROP COLUMN phone_number;\n",
    "        ALTER TABLE Employees ADD COLUMN salary INT;"
   ]
  },
  {
   "cell_type": "markdown",
   "metadata": {
    "deletable": true,
    "editable": true
   },
   "source": [
    "## More about SQLite"
   ]
  },
  {
   "cell_type": "markdown",
   "metadata": {
    "deletable": true,
    "editable": true
   },
   "source": [
    "If you want to use SQL and don't have too much data (less than a few gigs at a time), you can use `sqlite3`.  It's already installed on DigitalOcean, is easy to use, and has excellent (and lenient) support for importing and exporting CSV.\n",
    "\n",
    "The following commands do not work through the Jupyter notebook. You will need to open a terminal and run this command to start the interactive sqlite application.\n",
    "\n",
    "    $sqlite3 testdb.sqlite\n",
    "\n",
    "You will then be presented the sqlite command prompt.\n",
    "\n",
    "### Importing CSV\n",
    "To import tables to CSV:\n",
    ">    \n",
    "    .mode csv\n",
    "    .import tasks.csv Tasks\n",
    "    .import employees.csv Employees\n",
    "    .import assignments.csv Assignments\n",
    "\n",
    "Note that we didn't have to specify the schema ahead of time (though we might want to).  SQLite will take column names from the CSV header line, and will make all fields have type TEXT and be NULLable.\n",
    "\n",
    "### Exporting to CSV\n",
    "And to export:\n",
    ">           \n",
    "    .mode csv\n",
    "    .headers on\n",
    "    .output tasks.csv\n",
    "    SELECT * FROM Tasks;\n",
    "    .output employees.csv\n",
    "    SELECT * FROM Employees;\n",
    "    .output assignments.csv\n",
    "    SELECT * FROM Assignments;        \n",
    "\n",
    "### Listing tables / table schema\n",
    ">      \n",
    "    .tables\n",
    "    .schema Tasks"
   ]
  },
  {
   "cell_type": "markdown",
   "metadata": {
    "deletable": true,
    "editable": true
   },
   "source": [
    "## Creating SQL Tables with Pandas: A Shortcut\n",
    "\n",
    "Pandas is awesome in many ways, and one of them is its ability to create database tables for you. If you have a DataFrame and a database connection, it will write the SQL CREATE statements to build the table schema and insert all of the rows. It works like this."
   ]
  },
  {
   "cell_type": "code",
   "execution_count": 31,
   "metadata": {
    "collapsed": false,
    "deletable": true,
    "editable": true
   },
   "outputs": [],
   "source": [
    "import sqlite3\n",
    "\n",
    "# sample data\n",
    "fha_by_tract = pd.read_csv('small_data/2013_Gaz_tracts_national.tsv', sep='\\t')\n",
    "fha_by_tract.columns = [c.strip() for c in fha_by_tract.columns]\n",
    "\n",
    "# create db connection\n",
    "conn = sqlite3.connect('testdb.sqlite')\n",
    "\n",
    "# create a database table with the proper types to match the DataFrame types and insert all of the rows.\n",
    "fha_by_tract.to_sql('gaz_tracts', conn, if_exists='replace', index=False)"
   ]
  },
  {
   "cell_type": "markdown",
   "metadata": {
    "deletable": true,
    "editable": true
   },
   "source": [
    "That's it. If you have a DataFrame and like it, you can make a database table out of it.\n",
    "\n",
    "Now we can verify the table exists and has data."
   ]
  },
  {
   "cell_type": "code",
   "execution_count": 32,
   "metadata": {
    "collapsed": false,
    "deletable": true,
    "editable": true
   },
   "outputs": [
    {
     "name": "stdout",
     "output_type": "stream",
     "text": [
      "Done.\n"
     ]
    },
    {
     "data": {
      "text/html": [
       "<table>\n",
       "    <tr>\n",
       "        <th>USPS</th>\n",
       "        <th>GEOID</th>\n",
       "        <th>ALAND</th>\n",
       "        <th>AWATER</th>\n",
       "        <th>ALAND_SQMI</th>\n",
       "        <th>AWATER_SQMI</th>\n",
       "        <th>INTPTLAT</th>\n",
       "        <th>INTPTLONG</th>\n",
       "    </tr>\n",
       "    <tr>\n",
       "        <td>AL</td>\n",
       "        <td>1001020100</td>\n",
       "        <td>9809939</td>\n",
       "        <td>36312</td>\n",
       "        <td>3.788</td>\n",
       "        <td>0.014</td>\n",
       "        <td>32.4817943</td>\n",
       "        <td>-86.4902488</td>\n",
       "    </tr>\n",
       "    <tr>\n",
       "        <td>AL</td>\n",
       "        <td>1001020200</td>\n",
       "        <td>3340498</td>\n",
       "        <td>5846</td>\n",
       "        <td>1.29</td>\n",
       "        <td>0.002</td>\n",
       "        <td>32.475758</td>\n",
       "        <td>-86.4724678</td>\n",
       "    </tr>\n",
       "    <tr>\n",
       "        <td>AL</td>\n",
       "        <td>1001020300</td>\n",
       "        <td>5349274</td>\n",
       "        <td>9054</td>\n",
       "        <td>2.065</td>\n",
       "        <td>0.003</td>\n",
       "        <td>32.4740243</td>\n",
       "        <td>-86.4597033</td>\n",
       "    </tr>\n",
       "    <tr>\n",
       "        <td>AL</td>\n",
       "        <td>1001020400</td>\n",
       "        <td>6382705</td>\n",
       "        <td>16244</td>\n",
       "        <td>2.464</td>\n",
       "        <td>0.006</td>\n",
       "        <td>32.4710304</td>\n",
       "        <td>-86.4448353</td>\n",
       "    </tr>\n",
       "    <tr>\n",
       "        <td>AL</td>\n",
       "        <td>1001020500</td>\n",
       "        <td>11397734</td>\n",
       "        <td>48412</td>\n",
       "        <td>4.401</td>\n",
       "        <td>0.019</td>\n",
       "        <td>32.4589157</td>\n",
       "        <td>-86.4218165</td>\n",
       "    </tr>\n",
       "    <tr>\n",
       "        <td>AL</td>\n",
       "        <td>1001020600</td>\n",
       "        <td>8020363</td>\n",
       "        <td>60048</td>\n",
       "        <td>3.097</td>\n",
       "        <td>0.023</td>\n",
       "        <td>32.4473674</td>\n",
       "        <td>-86.4768327</td>\n",
       "    </tr>\n",
       "    <tr>\n",
       "        <td>AL</td>\n",
       "        <td>1001020700</td>\n",
       "        <td>22414817</td>\n",
       "        <td>775005</td>\n",
       "        <td>8.654</td>\n",
       "        <td>0.299</td>\n",
       "        <td>32.4303487</td>\n",
       "        <td>-86.4369714</td>\n",
       "    </tr>\n",
       "    <tr>\n",
       "        <td>AL</td>\n",
       "        <td>1001020801</td>\n",
       "        <td>124278423</td>\n",
       "        <td>8117643</td>\n",
       "        <td>47.984</td>\n",
       "        <td>3.134</td>\n",
       "        <td>32.4180838</td>\n",
       "        <td>-86.527137</td>\n",
       "    </tr>\n",
       "    <tr>\n",
       "        <td>AL</td>\n",
       "        <td>1001020802</td>\n",
       "        <td>190810946</td>\n",
       "        <td>678013</td>\n",
       "        <td>73.673</td>\n",
       "        <td>0.262</td>\n",
       "        <td>32.5466429</td>\n",
       "        <td>-86.5312317</td>\n",
       "    </tr>\n",
       "    <tr>\n",
       "        <td>AL</td>\n",
       "        <td>1001020900</td>\n",
       "        <td>292756803</td>\n",
       "        <td>516150</td>\n",
       "        <td>113.034</td>\n",
       "        <td>0.199</td>\n",
       "        <td>32.6370123</td>\n",
       "        <td>-86.5149469</td>\n",
       "    </tr>\n",
       "</table>"
      ],
      "text/plain": [
       "[(u'AL', 1001020100, 9809939, 36312, 3.7880000000000003, 0.013999999999999999, 32.481794300000004, -86.4902488),\n",
       " (u'AL', 1001020200, 3340498, 5846, 1.29, 0.002, 32.475758, -86.47246779999999),\n",
       " (u'AL', 1001020300, 5349274, 9054, 2.065, 0.003, 32.4740243, -86.45970329999999),\n",
       " (u'AL', 1001020400, 6382705, 16244, 2.464, 0.006, 32.471030400000004, -86.4448353),\n",
       " (u'AL', 1001020500, 11397734, 48412, 4.401, 0.019, 32.4589157, -86.4218165),\n",
       " (u'AL', 1001020600, 8020363, 60048, 3.097, 0.023, 32.4473674, -86.4768327),\n",
       " (u'AL', 1001020700, 22414817, 775005, 8.654, 0.299, 32.430348699999996, -86.4369714),\n",
       " (u'AL', 1001020801, 124278423, 8117643, 47.983999999999995, 3.134, 32.4180838, -86.527137),\n",
       " (u'AL', 1001020802, 190810946, 678013, 73.673, 0.262, 32.5466429, -86.5312317),\n",
       " (u'AL', 1001020900, 292756803, 516150, 113.03399999999999, 0.19899999999999998, 32.6370123, -86.5149469)]"
      ]
     },
     "execution_count": 32,
     "metadata": {},
     "output_type": "execute_result"
    }
   ],
   "source": [
    "%%sql\n",
    "\n",
    "SELECT * FROM gaz_tracts LIMIT 10;"
   ]
  },
  {
   "cell_type": "markdown",
   "metadata": {
    "deletable": true,
    "editable": true
   },
   "source": [
    "You can also retrieve the data using the `sqlite3` connection we created. Rows are retrieved as tuples."
   ]
  },
  {
   "cell_type": "code",
   "execution_count": null,
   "metadata": {
    "collapsed": false,
    "deletable": true,
    "editable": true
   },
   "outputs": [],
   "source": [
    "cursor = conn.cursor()\n",
    "\n",
    "cursor.execute(\"SELECT * FROM gaz_tracts LIMIT 10\")\n",
    "\n",
    "for row in cursor.fetchall():\n",
    "    print row"
   ]
  },
  {
   "cell_type": "markdown",
   "metadata": {
    "deletable": true,
    "editable": true
   },
   "source": [
    "## Another choice: Postgresql"
   ]
  },
  {
   "cell_type": "markdown",
   "metadata": {
    "deletable": true,
    "editable": true
   },
   "source": [
    "### Quick facts\n",
    "\n",
    "**Running a server:**\n",
    "- On your DO droplets, once you install postgres it will automatically set up the server to run in the background on startup.  The actual database files are hidden somewhere inside of `/var`.\n",
    "\n",
    "- Alternatively, you can run a \"local\" postgres server whose data lies in a specific directory and on a specific port:\n",
    "\n",
    ">         initdb dir/\n",
    ">         postgres [-p 8765] -D dir/\n",
    "\n",
    "(You may want to specify a custom port that is not my made up 8765 -- the default is __5432__.)\n",
    "\n",
    "**Quick start guide:**\n",
    "After the above is done and you're running a postgres server locally, just do\n",
    "\n",
    "         createdb [-p 8765] my_db_name\n",
    "\n",
    "to create a new database.  When you're done with it\n",
    "\n",
    "        dropdb --if-exists [-p 8765] my_db_name\n",
    "\n",
    "To get a command-line console for running commands against your database, just run\n",
    "\n",
    "        psql [-p 8765] my_db_name\n",
    "\n",
    "(If it's running on the standard port, you don't need to specify the `-p 8765`.)\n",
    "\n",
    "By default, this will all use a user named for your Unix username -- for the system Postgres install, this user (\"role\" in Postgres terms) was created when setting up your droplet.\n",
    "\n",
    "**Postgres-specific basics:**\n",
    "To list all tables or find out info about a table do:\n",
    "\n",
    "        \\d\n",
    "        \\d table_name\n",
    "\n",
    "**Importing (CSV) data:**\n",
    "If your data is pretty clean, the `\\COPY` special command should do it\n",
    "\n",
    "        \\COPY table_name FROM 'path/to/my/file.csv' WITH CSV DELIMITER ',' NULL AS '';\n",
    "        \n",
    "**Exporting (CSV) data:** You can use `\\COPY` in both directions\n",
    "        \n",
    "        \\COPY table_name TO 'path/to/my/file.csv' WITH DELIMITER ',' CSV HEADER;"
   ]
  },
  {
   "cell_type": "markdown",
   "metadata": {
    "deletable": true,
    "editable": true
   },
   "source": [
    "## SQL integration in Python\n",
    "\n",
    "The most common usage mode for you will be importing / exporting to CSV, or working interactively through `sqlite3` / `psql`.\n",
    "\n",
    "You can also interact between Python and SQL.  We've been doing it throughout this whole notebook using the `%sql` magic.  There are also libraries for doing it less magically\n",
    "\n",
    " - `psycopg2` for communicating with Postgres\n",
    " - `sqlalchemy` for communicating with most anything, and some fancy ORM tricks"
   ]
  },
  {
   "cell_type": "markdown",
   "metadata": {
    "deletable": true,
    "editable": true
   },
   "source": [
    "### What to use?\n",
    "-------------\n",
    "\n",
    "**SQLite:**\n",
    "-------------\n",
    "_In short:_ Use this if your data is smallish (several GB max) and you want to do some SQL-based processing, _and_ if you know ahead of time that you will not need to do operations in parallel. Probably the preferred choice for mini-projects.\n",
    "\n",
    "**Pros**\n",
    " - It operates on a single flat file on disk, which you can treat like any other file -- copy, scp, rename, etc.\n",
    " - It is a single small executable, comes pre-installed on many things, and doesn't require running a server.\n",
    " - Extensible (by C code).  It's open source and is small enough to be easy to modify it / write extension modules in C.\n",
    " - It has a quick and permissive (of errors) CSV loader, and doesn't stress correctness of schemas.\n",
    "\n",
    "**Cons**\n",
    " - It lacks some useful \"advanced\" features (in particular, JOINs in UPDATEs have to be faked via subqueries and/or temporary tables).  The workarounds are generally slower than the \"right\" approach would be.\n",
    " - It's not multi-user.  If you're running a long-running computation, you can't do anything else with it."
   ]
  },
  {
   "cell_type": "markdown",
   "metadata": {
    "deletable": true,
    "editable": true
   },
   "source": [
    "**Postgresql:**\n",
    "----------------\n",
    "_In short:_  The premier free \"real\" RDBMS (i.e. SQL-type database).  Use it if you need SQL semantics and have more than several GB of data or need multi-user / multi-process access.  \n",
    "[Exception: If you have lots of data and do lots of easily parallelizable tasks, and will be running either on a cluster on a machine that fits your data in RAM, you may be better off with a specialized SQL-like system: e.g. Hive, Shark, MemSQL (commercial).]\n",
    "\n",
    "**Pros**\n",
    " - Excellent support of SQL features, good performance and `\"EXPLAIN ...\"` for seeing query plans and tweaking performance.\n",
    " - Several nice SQL extensions: JSON-column support, and `Postgis` for GIS-based geographical data types and queries.\n",
    " - Extensible (in a variety of languages, _including Python_).\n",
    " \n",
    "**Cons**\n",
    " - You have to run a server.\n",
    " - The CSV loader is quick on correct data, but simply doesn't accept malformed data.  Does stress correctness of schemas."
   ]
  },
  {
   "cell_type": "markdown",
   "metadata": {
    "deletable": true,
    "editable": true
   },
   "source": [
    " **Other options:**\n",
    " ------------------\n",
    " - *If your data is small enough to fit _comfortably_ into memory:* \n",
    " \n",
    "   You can get by with something like `pandas` which allows for much quicker visualization and has better built in statistical support.  (There is also support for running SQL queries against pandas.  It uses sqlite behind the scenes -- beware that doing this has a performance cost over just using sqlite originally.)\n",
    " - *If you have have *lots* of data (i.e. more than any one machine you have can store on disk) or if you want to perform a task that calls for cross-machine parallelization (e.g. it makes sense to run on Hadoop):*\n",
    " \n",
    "   There are specialized SQL-like databases made for this, notably `Hive` which is built on top of Hadoop.  (Also: `Shark` and `Impala` which do the same thing with different size and performance characteristics.)\n",
    " - *If your data set is large, but you happen to have a _very_ beefy sever (or a cluster of them) with enough RAM to fit it all:*\n",
    " \n",
    "  There are SQL-like databases optimized for in-memory use, including `MemSQL` and also modes of `Shark` and `Impala` mentioned above."
   ]
  },
  {
   "cell_type": "markdown",
   "metadata": {
    "collapsed": true,
    "deletable": true,
    "editable": true
   },
   "source": [
    "### Exercises\n",
    "\n",
    "1. Find a CSV file somewhere on the Internet that contains data that interests you. Put the data into a table in sqlite.\n",
    "1. Query the data in a meaningful way and comment on the results."
   ]
  },
  {
   "cell_type": "markdown",
   "metadata": {
    "collapsed": true,
    "deletable": true,
    "editable": true
   },
   "source": [
    "### Exit Tickets\n",
    "\n",
    "1. What is a Database?\n",
    "1. What are the differences and similarities between sqlite and postgresql?\n",
    "1. What are the keywords in SQL syntax? Which keywords do you expect to use the most often?"
   ]
  },
  {
   "cell_type": "markdown",
   "metadata": {
    "deletable": true,
    "editable": true
   },
   "source": [
    "*Copyright &copy; 2016 The Data Incubator.  All rights reserved.*"
   ]
  }
 ],
 "metadata": {
  "kernelspec": {
   "display_name": "Python 2",
   "language": "python",
   "name": "python2"
  },
  "language_info": {
   "codemirror_mode": {
    "name": "ipython",
    "version": 2
   },
   "file_extension": ".py",
   "mimetype": "text/x-python",
   "name": "python",
   "nbconvert_exporter": "python",
   "pygments_lexer": "ipython2",
   "version": "2.7.13"
  }
 },
 "nbformat": 4,
 "nbformat_minor": 1
}
