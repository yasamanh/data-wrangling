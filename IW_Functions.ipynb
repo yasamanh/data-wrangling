{
 "cells": [
  {
   "cell_type": "code",
   "execution_count": null,
   "metadata": {
    "collapsed": false
   },
   "outputs": [],
   "source": [
    "%matplotlib inline\n",
    "import matplotlib\n",
    "import seaborn as sns\n",
    "matplotlib.rcParams['savefig.dpi'] = 144"
   ]
  },
  {
   "cell_type": "markdown",
   "metadata": {},
   "source": [
    "# Functions\n",
    "\n",
    "If you need to do a computation once, you can run it step by step.  But almost always, you will want to run a computation many times.  In these cases, you should gather that code into a function.\n",
    "\n",
    "In Python, functions are introduced with the `def` keyword:"
   ]
  },
  {
   "cell_type": "code",
   "execution_count": null,
   "metadata": {
    "collapsed": true
   },
   "outputs": [],
   "source": [
    "def subtract(a, b):\n",
    "    diff = a - b\n",
    "    return diff"
   ]
  },
  {
   "cell_type": "markdown",
   "metadata": {},
   "source": [
    "The **arguments** to the function are placed in parentheses following the function name.  The value returned follows the `return` keyword.\n",
    "\n",
    "Functions are called by appending their name with parentheses and the arguments."
   ]
  },
  {
   "cell_type": "code",
   "execution_count": null,
   "metadata": {
    "collapsed": false
   },
   "outputs": [],
   "source": [
    "subtract(5, 3)"
   ]
  },
  {
   "cell_type": "markdown",
   "metadata": {},
   "source": [
    "You can specify which argument is which with a `name=value` syntax."
   ]
  },
  {
   "cell_type": "code",
   "execution_count": null,
   "metadata": {
    "collapsed": false
   },
   "outputs": [],
   "source": [
    "subtract(a=5, b=3)"
   ]
  },
  {
   "cell_type": "markdown",
   "metadata": {},
   "source": [
    "When done this way, argument order doesn't matter."
   ]
  },
  {
   "cell_type": "code",
   "execution_count": null,
   "metadata": {
    "collapsed": false
   },
   "outputs": [],
   "source": [
    "subtract(b=3, a=5)"
   ]
  },
  {
   "cell_type": "markdown",
   "metadata": {},
   "source": [
    "Variables defined inside a function live within a function **context**, not the global namespace."
   ]
  },
  {
   "cell_type": "code",
   "execution_count": null,
   "metadata": {
    "collapsed": false
   },
   "outputs": [],
   "source": [
    "'subtract' in globals(), 'a' in globals(), 'diff' in globals()"
   ]
  },
  {
   "cell_type": "markdown",
   "metadata": {},
   "source": [
    "They can reference variables from the global scope, but any assignment will create a local variable."
   ]
  },
  {
   "cell_type": "code",
   "execution_count": null,
   "metadata": {
    "collapsed": false
   },
   "outputs": [],
   "source": [
    "x = \"Hello\"\n",
    "\n",
    "def global_var():\n",
    "    print \"In global_var\", x\n",
    "\n",
    "global_var()\n",
    "\n",
    "def local_var():\n",
    "    x = \"World\"\n",
    "    print \"In local_var\", x\n",
    "\n",
    "local_var()\n",
    "\n",
    "print \"Global namespace\", x"
   ]
  },
  {
   "cell_type": "markdown",
   "metadata": {},
   "source": [
    "If you want to modify a global variable, use the `global` keyword."
   ]
  },
  {
   "cell_type": "code",
   "execution_count": null,
   "metadata": {
    "collapsed": false
   },
   "outputs": [],
   "source": [
    "def mod_global():\n",
    "    global x\n",
    "    x = \"World\"\n",
    "\n",
    "mod_global()\n",
    "print x"
   ]
  },
  {
   "cell_type": "markdown",
   "metadata": {},
   "source": [
    "Python uses a \"pass-by-object\" paradigm.  This means that the same object is shared between the calling scope and the function scope.  The implications of this depend on the type of object being passed.\n",
    "\n",
    "Immutable objects cannot ever be changed, so it should be unsurprising that they cannot be changed within a function call."
   ]
  },
  {
   "cell_type": "code",
   "execution_count": null,
   "metadata": {
    "collapsed": false
   },
   "outputs": [],
   "source": [
    "a = 5\n",
    "def func(x):\n",
    "    x = x + 1\n",
    "    return x\n",
    "\n",
    "print func(a)\n",
    "print a"
   ]
  },
  {
   "cell_type": "markdown",
   "metadata": {},
   "source": [
    "When exectution of `func` starts, both `a` and `x` refer to the same object, the integer `5`.  But the line `x = x + 1` creates a new object, the integer `6`, and assigns that to `x`.  This does not affect the object `5`, which `a` still points to.\n",
    "\n",
    "In contrast, mutable objects can be changed by functions."
   ]
  },
  {
   "cell_type": "code",
   "execution_count": null,
   "metadata": {
    "collapsed": false
   },
   "outputs": [],
   "source": [
    "a = [5]\n",
    "def func(x):\n",
    "    x.append(1)\n",
    "    return x\n",
    "\n",
    "print func(a)\n",
    "print a"
   ]
  },
  {
   "cell_type": "markdown",
   "metadata": {},
   "source": [
    "This time, in `func` we modify the list to which `x` points.  Because `a` also points to this same list, it will show the modifications as well.\n",
    "\n",
    "**Question:** Will this function modify its first argument, or create a new local variable?  What assumptions are you making?\n",
    "```python\n",
    "def func(x, y):\n",
    "    x += y\n",
    "```\n",
    "\n",
    "## Functions as First-Class Objects\n",
    "\n",
    "In Python, functions are **first-class objects**.  This means that they can be used just like any other data type.  As a result, there are sum functions that take other functions as arguments.\n",
    "\n",
    "As a simple example, the `map` function will apply a function to each element in a list.  (You can do this more Pythonically with a list comprehension.)"
   ]
  },
  {
   "cell_type": "code",
   "execution_count": null,
   "metadata": {
    "collapsed": false
   },
   "outputs": [],
   "source": [
    "def add_one(x):\n",
    "    return x + 1\n",
    "\n",
    "map(add_one, range(5))"
   ]
  },
  {
   "cell_type": "markdown",
   "metadata": {},
   "source": [
    "Sometimes you may not want to define a function only to use it as an argument to another function.  In these cases, anonymous functions can be handy.  These are introduced by the `lambda` keyword, and they have their arguments and return values separated by a colon."
   ]
  },
  {
   "cell_type": "code",
   "execution_count": null,
   "metadata": {
    "collapsed": false
   },
   "outputs": [],
   "source": [
    "map(lambda x: x + 1, range(5))"
   ]
  },
  {
   "cell_type": "markdown",
   "metadata": {},
   "source": [
    "Python has purposefully limited the power of lambdas.  They can contain only a single statement that yields a value.  For anything more complicated, you need to create a named function using the `def` keyword.  This is a Good Thing™, since it tends to make your code more readable.\n",
    "\n",
    "Functions created with lambdas can be given names with variable assignment.  For most purposes, the following are equivalent."
   ]
  },
  {
   "cell_type": "code",
   "execution_count": null,
   "metadata": {
    "collapsed": true
   },
   "outputs": [],
   "source": [
    "def add_one(x):\n",
    "    return x + 1\n",
    "\n",
    "add_one = lambda x: x + 1"
   ]
  },
  {
   "cell_type": "markdown",
   "metadata": {},
   "source": [
    "## Closures\n",
    "\n",
    "Functions can be defined in many places in Python, including within other functions.  And being first-class objects, they can be returned as values as well.  This means that you can write a function that returns a function, like so:"
   ]
  },
  {
   "cell_type": "code",
   "execution_count": null,
   "metadata": {
    "collapsed": true
   },
   "outputs": [],
   "source": [
    "def make_adder(n):\n",
    "    def func(x):\n",
    "        return x + n\n",
    "    return func\n",
    "\n",
    "plus_two = make_adder(2)"
   ]
  },
  {
   "cell_type": "markdown",
   "metadata": {
    "collapsed": true
   },
   "source": [
    "What is `plus_two`?"
   ]
  },
  {
   "cell_type": "code",
   "execution_count": null,
   "metadata": {
    "collapsed": false
   },
   "outputs": [],
   "source": [
    "type(plus_two)"
   ]
  },
  {
   "cell_type": "markdown",
   "metadata": {},
   "source": [
    "Since it's a function, we can call it."
   ]
  },
  {
   "cell_type": "code",
   "execution_count": null,
   "metadata": {
    "collapsed": false
   },
   "outputs": [],
   "source": [
    "plus_two(3)"
   ]
  },
  {
   "cell_type": "markdown",
   "metadata": {},
   "source": [
    "That's all well and good, but you might wonder, \"Where is `n` stored?\"  It's not a global variable, but it's not defined anywhere within the function that became `plus_two`.\n",
    "\n",
    "Instead, Python noticed that this function referred to a variable in an external scope.  As a result, it made a **closure** over that external variable.  This object will remain in memory as long as `plus_two` is in scope, even though there is no explicit reference to it.\n",
    "\n",
    "You can actually access this value through some special properties of the function."
   ]
  },
  {
   "cell_type": "code",
   "execution_count": null,
   "metadata": {
    "collapsed": false
   },
   "outputs": [],
   "source": [
    "plus_two.__closure__[0].cell_contents"
   ]
  },
  {
   "cell_type": "markdown",
   "metadata": {},
   "source": [
    "## Variable Arguments and Keywords\n",
    "\n",
    "Let's suppose we have a function that takes three arguments:"
   ]
  },
  {
   "cell_type": "code",
   "execution_count": null,
   "metadata": {
    "collapsed": false
   },
   "outputs": [],
   "source": [
    "def f(a, b, c):\n",
    "    return a + b - c\n",
    "\n",
    "f(1, 2, 3)"
   ]
  },
  {
   "cell_type": "markdown",
   "metadata": {},
   "source": [
    "And suppose we want to call it with arguments that we have in a list."
   ]
  },
  {
   "cell_type": "code",
   "execution_count": null,
   "metadata": {
    "collapsed": true
   },
   "outputs": [],
   "source": [
    "a = [1, 2, 3]"
   ]
  },
  {
   "cell_type": "markdown",
   "metadata": {},
   "source": [
    "We can't call `f` directly with `a`, because `f` needs three arguments, not one list."
   ]
  },
  {
   "cell_type": "code",
   "execution_count": null,
   "metadata": {
    "collapsed": false
   },
   "outputs": [],
   "source": [
    "try:\n",
    "    f(a)\n",
    "except TypeError as e:\n",
    "    print e"
   ]
  },
  {
   "cell_type": "markdown",
   "metadata": {},
   "source": [
    "We could index the arguments out of `a` manually, but there's a better way.  Python uses the star operator to do argument unpacking.  This turns the items in `a` into arguments of `f`."
   ]
  },
  {
   "cell_type": "code",
   "execution_count": null,
   "metadata": {
    "collapsed": false
   },
   "outputs": [],
   "source": [
    "f(*a)"
   ]
  },
  {
   "cell_type": "markdown",
   "metadata": {},
   "source": [
    "This works the other way in a function definition.  If you want your function to be able to take an arbitrary number of arguments, give it an argument preceeded by a star."
   ]
  },
  {
   "cell_type": "code",
   "execution_count": null,
   "metadata": {
    "collapsed": true
   },
   "outputs": [],
   "source": [
    "def var_args(*args):\n",
    "    print args"
   ]
  },
  {
   "cell_type": "markdown",
   "metadata": {},
   "source": [
    "This will become a tuple with all the arguments."
   ]
  },
  {
   "cell_type": "code",
   "execution_count": null,
   "metadata": {
    "collapsed": false
   },
   "outputs": [],
   "source": [
    "var_args(1, 2, 3, 'spam', None)"
   ]
  },
  {
   "cell_type": "markdown",
   "metadata": {},
   "source": [
    "Of course, this can be combined with a function call using argument unpacking...."
   ]
  },
  {
   "cell_type": "code",
   "execution_count": null,
   "metadata": {
    "collapsed": false
   },
   "outputs": [],
   "source": [
    "var_args(*a)"
   ]
  },
  {
   "cell_type": "markdown",
   "metadata": {},
   "source": [
    "The variable-length argument list can coexist with explicit arguments, but it must appear after them in the function definition."
   ]
  },
  {
   "cell_type": "code",
   "execution_count": null,
   "metadata": {
    "collapsed": true
   },
   "outputs": [],
   "source": [
    "def many_args(a, b, *args):\n",
    "    print a\n",
    "    print b\n",
    "    print args"
   ]
  },
  {
   "cell_type": "code",
   "execution_count": null,
   "metadata": {
    "collapsed": false
   },
   "outputs": [],
   "source": [
    "many_args(1, 2, 3, 'spam', None)"
   ]
  },
  {
   "cell_type": "markdown",
   "metadata": {},
   "source": [
    "Similarly, arbitrary keyword arguments can be collected with the `**` operator."
   ]
  },
  {
   "cell_type": "code",
   "execution_count": null,
   "metadata": {
    "collapsed": true
   },
   "outputs": [],
   "source": [
    "def kw_args(**kw):\n",
    "    print kw"
   ]
  },
  {
   "cell_type": "code",
   "execution_count": null,
   "metadata": {
    "collapsed": false
   },
   "outputs": [],
   "source": [
    "kw_args(a=1, b=2, c=3)"
   ]
  },
  {
   "cell_type": "markdown",
   "metadata": {},
   "source": [
    "And similarly, you can to keyword unpacking from a dictionary."
   ]
  },
  {
   "cell_type": "code",
   "execution_count": null,
   "metadata": {
    "collapsed": false
   },
   "outputs": [],
   "source": [
    "f(**{'a': 1, 'b':2, 'c': 3})"
   ]
  },
  {
   "cell_type": "markdown",
   "metadata": {},
   "source": [
    "Thus, a function that takes an arbitrary number of arguments and keywords could be defined as follows:"
   ]
  },
  {
   "cell_type": "code",
   "execution_count": null,
   "metadata": {
    "collapsed": true
   },
   "outputs": [],
   "source": [
    "def all_args(*args, **kw):\n",
    "    print args\n",
    "    print kw"
   ]
  },
  {
   "cell_type": "code",
   "execution_count": null,
   "metadata": {
    "collapsed": false
   },
   "outputs": [],
   "source": [
    "all_args(1, 2, a=3, b=4, c=5)"
   ]
  },
  {
   "cell_type": "markdown",
   "metadata": {},
   "source": [
    "This explains how the dictionary constructor works, for example."
   ]
  },
  {
   "cell_type": "code",
   "execution_count": null,
   "metadata": {
    "collapsed": false
   },
   "outputs": [],
   "source": [
    "dict(a=1, b=2)"
   ]
  },
  {
   "cell_type": "markdown",
   "metadata": {},
   "source": [
    "One common use for these techniques is for creating wrappers for other functions.  Suppose we have some complicated function that takes a bunch of keyword arguments.  They are given default values, so usually you don't actually need to specify them."
   ]
  },
  {
   "cell_type": "code",
   "execution_count": null,
   "metadata": {
    "collapsed": true
   },
   "outputs": [],
   "source": [
    "def complicated(a, b=1, c=None, d=0, e='default'):\n",
    "    \"\"\"This is a complicated function with several optional arguments.\"\"\"\n",
    "    print \"Doing something complicated\", a, b, c, d, e"
   ]
  },
  {
   "cell_type": "markdown",
   "metadata": {},
   "source": [
    "Now, suppose we wanted to create a wrapper that would call this function.  We want to be able to specify any of those keyword arguments in the wrapper and have them passed to the the function.  This would be a lot of work to do explicitly, and it would require us to update the wrapper each time the signature of the underlying function changed.\n",
    "\n",
    "Instead, we can just accept a `**kw` argument and pass all of those on to the underlying function."
   ]
  },
  {
   "cell_type": "code",
   "execution_count": null,
   "metadata": {
    "collapsed": true
   },
   "outputs": [],
   "source": [
    "def complicated_wrapper(a, **kw):\n",
    "    print \"About to do something complicated\"\n",
    "    complicated(a + 1, **kw)"
   ]
  },
  {
   "cell_type": "code",
   "execution_count": null,
   "metadata": {
    "collapsed": false
   },
   "outputs": [],
   "source": [
    "complicated_wrapper(5, d=17, e='other')"
   ]
  },
  {
   "cell_type": "markdown",
   "metadata": {},
   "source": [
    "The downside is that we don't get any introspection help on the acceptable keyword arguments or docstring."
   ]
  },
  {
   "cell_type": "code",
   "execution_count": null,
   "metadata": {
    "collapsed": false
   },
   "outputs": [],
   "source": [
    "help(complicated_wrapper)"
   ]
  },
  {
   "cell_type": "markdown",
   "metadata": {},
   "source": [
    "## Decorators\n",
    "\n",
    "Recall the `subtract` function we defined at the beginning of the notebook.  Suppose we wanted to repeat that operation, but ensure that the result was non-negative.  How would we go about that?\n",
    "\n",
    "A simple approach would be to create a wrapper, as we did above."
   ]
  },
  {
   "cell_type": "code",
   "execution_count": null,
   "metadata": {
    "collapsed": false
   },
   "outputs": [],
   "source": [
    "def nonneg_sub(*args):\n",
    "    v = subtract(*args)\n",
    "    return v if v >=0 else 0\n",
    "\n",
    "print subtract(2, 5)\n",
    "print nonneg_sub(2, 5)"
   ]
  },
  {
   "cell_type": "markdown",
   "metadata": {},
   "source": [
    "This works fine, but it doesn't scale.  If we want to wrap a bunch of other functions (say, `add`, `multiply`, `divide`, etc.) we'd have to define a wrapper for each.  Instead, let's write a function to do that work.\n",
    "\n",
    "This function will take a function as an argument and return another function.  Here's an example:"
   ]
  },
  {
   "cell_type": "code",
   "execution_count": null,
   "metadata": {
    "collapsed": false
   },
   "outputs": [],
   "source": [
    "def ensure_nonneg(func):\n",
    "    def wrapper(*args):\n",
    "        v = func(*args)\n",
    "        return v if v >= 0 else 0\n",
    "    return wrapper\n",
    "\n",
    "nonneg_sub2 = ensure_nonneg(subtract)\n",
    "nonneg_sub2(5, 2), nonneg_sub2(2, 5)"
   ]
  },
  {
   "cell_type": "markdown",
   "metadata": {},
   "source": [
    "Let's take that step by step:\n",
    "1. `ensure_nonneg` takes `subtract` as an argument.\n",
    "2. `ensure_nonneg` defines a function `wrapper`.\n",
    "3. `wrapper` is a closure, which keeps a reference to `subtract`.\n",
    "4. `ensure_nonneg` returns the wrapper, which we assign the name `nonneg_sub2`.\n",
    "5. When we call `nonneg_sub2`, we're calling the code defined in `wrapper`, which in turn calls `subtract`.\n",
    "6. The wrapper code checks the sign of the return value of `subtract`, returning it or 0, whichever is greater.\n",
    "\n",
    "Sometimes, this wrapping is so important that we don't want to keep the original name around -- we only want to use the wrapped version.  In that case, we could assign the wrapped copy back to the original name of the function."
   ]
  },
  {
   "cell_type": "code",
   "execution_count": null,
   "metadata": {
    "collapsed": false
   },
   "outputs": [],
   "source": [
    "print subtract(2, 5)\n",
    "subtract = ensure_nonneg(subtract)\n",
    "print subtract(2, 5)"
   ]
  },
  {
   "cell_type": "markdown",
   "metadata": {},
   "source": [
    "A decorator in Python just does the wrapping automatically:"
   ]
  },
  {
   "cell_type": "code",
   "execution_count": null,
   "metadata": {
    "collapsed": false
   },
   "outputs": [],
   "source": [
    "@ensure_nonneg\n",
    "def subtract(a, b):\n",
    "    return a - b"
   ]
  },
  {
   "cell_type": "markdown",
   "metadata": {},
   "source": [
    "This defines the function `subtract`, immediately passes it as an argument t `ensure_nonneg`, and the assigns the output of `ensure_nonneg` back to the name `subtract`."
   ]
  },
  {
   "cell_type": "code",
   "execution_count": null,
   "metadata": {
    "collapsed": false
   },
   "outputs": [],
   "source": [
    "subtract(5, 2), subtract(2, 5)"
   ]
  },
  {
   "cell_type": "markdown",
   "metadata": {},
   "source": [
    "Decorators can be used for a variety of purposes, including logging (write to a file each time a function is called), diagnostics (start and stop a timer before and after each function call, to see how long it takes), and caching results (save the output of a function, and return that value immediately when it is called again).\n",
    "\n",
    "Sometimes you want to have a whole family of decorators.  In these cases, we can define a function that returns a decorator.  For example, if we want to ensure a function's return value will be at least a certain value:"
   ]
  },
  {
   "cell_type": "code",
   "execution_count": null,
   "metadata": {
    "collapsed": true
   },
   "outputs": [],
   "source": [
    "def ensure_atleast(n):\n",
    "    def decorator(func):\n",
    "        def wrapper(*args):\n",
    "            v = func(*args)\n",
    "            return v if v >= n else n\n",
    "        return wrapper\n",
    "    return decorator"
   ]
  },
  {
   "cell_type": "markdown",
   "metadata": {},
   "source": [
    "Then we can use it like so:"
   ]
  },
  {
   "cell_type": "code",
   "execution_count": null,
   "metadata": {
    "collapsed": false
   },
   "outputs": [],
   "source": [
    "@ensure_atleast(10)\n",
    "def subtract(a, b):\n",
    "    return a - b\n",
    "\n",
    "subtract(5, 2)"
   ]
  },
  {
   "cell_type": "markdown",
   "metadata": {},
   "source": [
    "*Copyright &copy; 2016 The Data Incubator.  All rights reserved.*"
   ]
  }
 ],
 "metadata": {
  "kernelspec": {
   "display_name": "Python 2",
   "language": "python",
   "name": "python2"
  },
  "language_info": {
   "codemirror_mode": {
    "name": "ipython",
    "version": 2
   },
   "file_extension": ".py",
   "mimetype": "text/x-python",
   "name": "python",
   "nbconvert_exporter": "python",
   "pygments_lexer": "ipython2",
   "version": "2.7.12"
  }
 },
 "nbformat": 4,
 "nbformat_minor": 0
}
